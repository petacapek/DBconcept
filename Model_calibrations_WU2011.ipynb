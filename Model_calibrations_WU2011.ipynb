# %% codecell
import numpy as np
import pandas as pd
from scipy.integrate import odeint
from scipy.optimize import dual_annealing
# %% markdown
## Define four general models
# %% codecell
### Monod model
def Monod (y, t, pars):
    #define initial states
    G=y[0];    B=y[1];     CO2=y[2]

    #define parameters
    v=pars[0];   k=pars[1];
    m=pars[2];   Y=pars[3]

    #Define fluxes
    ##glucose uptake
    uptake=v*B*G/(k+G)
    ##decay
    decay=B*m

    #Define derivatives
    dGdt=-uptake
    dBdt=Y*uptake-decay
    dCO2dt=(1-Y)*uptake

    return dGdt, dBdt, dCO2dt;

### Mend model
def Mend (y, t, pars):
    #define initial states
    G=y[0];    B=y[1];     CO2=y[2]

    #define parameters
    v=pars[0];   k=pars[1];
    h=pars[2];   Y=pars[3]

    #Define fluxes
    ##glucose uptake
    uptake=1/Y*(v+h)*B*G/(k+G)
    ##growth respiration
    gresp=(1/Y-1)*v*B*G/(k+G)
    ##maintenance respiration
    maintenance=(1/Y-1)*h*B*G/(k+G)
    ##decay
    decay=B*h


    #Define derivatives
    dGdt=-uptake
    dBdt=uptake-gresp-maintenance-decay
    dCO2dt=gresp+maintenance

    return dGdt, dBdt, dCO2dt;

### Pirt model
def Pirt (y, t, pars):
    #define initial states
    G=y[0];    B=y[1];     CO2=y[2]

    #define parameters
    v=pars[0];   k=pars[1];
    m=pars[2];   h=pars[3];
    Y=pars[4]

    #Define fluxes
    ##glucose uptake
    uptake=v*B*G/(k+G)
    ##decay
    decay=B*m
    ##maintenance
    maintenance=B*h

    #Define derivatives
    dGdt=-uptake
    dBdt=Y*uptake-decay-maintenance
    dCO2dt=(1-Y)*uptake+maintenance

    return dGdt, dBdt, dCO2dt;

###Dynamic Energy Budget
def DEBmodel (y, t, pars):
    #define initial states
    G=y[0];    e=y[1];    w=y[2];     CO2=y[3]

    #define parameters
    Im=pars[0];   v=pars[1]
    m=pars[2];    g=pars[3];     ce=pars[4]

    k=500

    #Define fluxes
    ##scaling function for substrate
    f=G/(k+G)
    ##growth rate
    growth=(v*e-m*g)/(m+g)
    ##CO2 yield
    Yco2=((v*f/Im)+(m*g/Im)+max(g*growth/Im,0))*ce/f

    #Define derivatives
    dGdt=-f*w*Im
    dedt=v*f-v*e
    dwdt=growth*w
    dCO2dt=f*w*Im*Yco2

    return dGdt, dedt, dwdt, dCO2dt;

# %% markdown
#### Additional calculations are performed
# %% codecell
##Monod and Mend
def calc (model, pars, t, y0):
    #model parameters
    pars_model=pars[0:4]
    #conversion factors
    #conversions=pars[4]

    #solve the model
    y=odeint(model,y0,t, args=(pars_model,))

    #calculate CFC
    #CFC14 = (pars[4]*y[:, 1])-d1.Cmicinit[0]
    CFC14 = (pars[4]*y[:, 1])-d2.Cmicinit[0]

    #Create data with predictions
    yhat = np.concatenate((y[:, 2].reshape(len(d1.Time),1),
                           CFC14.reshape(len(d1.Time),1)), axis=1)

    return yhat

##Pirt
def calcPirt (model, pars, t, y0):
    #model parameters
    pars_model=pars[0:5]
    #conversion factors
    conversions=pars[5]

    #solve the model
    y=odeint(model,y0,t, args=(pars_model,))

    #calculate CFC
    CFC14 = (conversions*y[:, 1])-d1.Cmicinit[0]
    #CFC14 = (conversions*y[:, 1])-d2.Cmicinit[0]


    #Create data with predictions
    yhat = np.concatenate((y[:, 2].reshape(len(d1.Time),1),
                           CFC14.reshape(len(d1.Time),1)), axis=1)

    return yhat

##DEB
def calcDEB (model, pars, t, y0):
    #model parameters
    pars_model=pars[0:5]
    #conversion factors
    conversions=pars[5:7]

    #solve the model
    y=odeint(model,y0,t, args=(pars_model,))

    #calculate CFC and ATP
    #CFC14 = (conversions[0]+conversions[1]*y[:, 1])*y[:, 2]-d1.Cmicinit[0]
    CFC14 = (conversions[0]+conversions[1]*y[:, 1])*y[:, 2]-d2.Cmicinit[0]

    #Create data with predictions
    yhat = np.concatenate((y[:, 3].reshape(len(d1.Time),1),
                           CFC14.reshape(len(d1.Time),1)), axis=1)

    return yhat

# %% markdown
#### Objective functions are defined
# %% codecell
##Monod
def obj_funMonod (x):
    #define parameters
    pars = x

    #initial conditions
    G_i1 = d1.Sinit[0]
    G_i2 = d2.Sinit[0]
    B_i1 = d1.Cmicinit[0]/pars[4]
    B_i2 = d2.Cmicinit[0]/pars[4]

    y01 = np.array([G_i1, B_i1, 0])
    y02 = np.array([G_i2, B_i2, 0])

    #times
    t = d1.Time*24

    #model simulations
    #yhat_full1 = calc(Monod, pars, t, y01)
    yhat_full2 = calc(Monod, pars, t, y02)

    #observations
    #obs1=np.concatenate((np.array([d1.CO2cumul]).reshape(len(d1.Time),1),
    #                    np.array([d1.Cmic14]).reshape(len(d1.Time),1)),
    #                 axis=1)
    obs2=np.concatenate((np.array([d2.CO2cumul]).reshape(len(d1.Time),1),
                        np.array([d2.Cmic14]).reshape(len(d1.Time),1)),
                     axis=1)


    #weights
    #weights1=np.concatenate((np.nanmean(d1.CO2cumul).repeat(len(d1.Time)).reshape(len(d1.Time),1),
    #                        np.nanmean(d1.Cmic14/5).repeat(len(d1.Time)).reshape(len(d1.Time),1)),
    #                   axis=1)
    weights2=np.concatenate((np.nanmean(d2.CO2cumul).repeat(len(d1.Time)).reshape(len(d1.Time),1),
                           np.nanmean(d2.Cmic14/5).repeat(len(d1.Time)).reshape(len(d1.Time),1)),
                      axis=1)


    #out=np.nansum(((yhat_full1-obs1)/weights1)**2)
    out=np.nansum(((yhat_full2-obs2)/weights2)**2)

    return out

##MEND
def obj_funMend (x):
    #define parameters
    pars = x

    #initial conditions
    G_i1 = d1.Sinit[0]
    G_i2 = d2.Sinit[0]
    B_i1 = d1.Cmicinit[0]/pars[4]
    B_i2 = d2.Cmicinit[0]/pars[4]

    y01 = np.array([G_i1, B_i1, 0])
    y02 = np.array([G_i2, B_i2, 0])

    #times
    t = d1.Time*24

    #model simulations
    #yhat_full1 = calc(Mend, pars, t, y01)
    yhat_full2 = calc(Mend, pars, t, y02)

    #observations
    #obs1=np.concatenate((np.array([d1.CO2cumul]).reshape(len(d1.Time),1),
    #                    np.array([d1.Cmic14]).reshape(len(d1.Time),1)),
    #                 axis=1)
    obs2=np.concatenate((np.array([d2.CO2cumul]).reshape(len(d1.Time),1),
                        np.array([d2.Cmic14]).reshape(len(d1.Time),1)),
                     axis=1)


    #weights
    #weights1=np.concatenate((np.nanmean(d1.CO2cumul).repeat(len(d1.Time)).reshape(len(d1.Time),1),
    #                        np.nanmean(d1.Cmic14/5).repeat(len(d1.Time)).reshape(len(d1.Time),1)),
    #                   axis=1)
    weights2=np.concatenate((np.nanmean(d2.CO2cumul).repeat(len(d1.Time)).reshape(len(d1.Time),1),
                           np.nanmean(d2.Cmic14/5).repeat(len(d1.Time)).reshape(len(d1.Time),1)),
                      axis=1)


    #out=np.nansum(((yhat_full1-obs1)/weights1)**2)
    out=np.nansum(((yhat_full2-obs2)/weights2)**2)

    return out

##Pirt
def obj_funPirt (x):
    #define parameters
    pars = x

    #initial conditions
    G_i1 = d1.Sinit[0]
    G_i2 = d2.Sinit[0]
    B_i1 = d1.Cmicinit[0]/pars[5]
    B_i2 = d2.Cmicinit[0]/pars[5]

    y01 = np.array([G_i1, B_i1, 0])
    y02 = np.array([G_i2, B_i2, 0])

    #times
    t = d1.Time*24

    #model simulations
    yhat_full1 = calcPirt(Pirt, pars, t, y01)
    #yhat_full2 = calcPirt(Pirt, pars, t, y02)

    #observations
    obs1=np.concatenate((np.array([d1.CO2cumul]).reshape(len(d1.Time),1),
                        np.array([d1.Cmic14]).reshape(len(d1.Time),1)),
                     axis=1)
    #obs2=np.concatenate((np.array([d2.CO2cumul]).reshape(len(d1.Time),1),
    #                    np.array([d2.Cmic14]).reshape(len(d1.Time),1)),
    #                 axis=1)


    #weights
    weights1=np.concatenate((np.nanmean(d1.CO2cumul).repeat(len(d1.Time)).reshape(len(d1.Time),1),
                            np.nanmean(d1.Cmic14/5).repeat(len(d1.Time)).reshape(len(d1.Time),1)),
                       axis=1)
    #weights2=np.concatenate((np.nanmean(d2.CO2cumul).repeat(len(d1.Time)).reshape(len(d1.Time),1),
    #                       np.nanmean(d2.Cmic14/5).repeat(len(d1.Time)).reshape(len(d1.Time),1)),
    #                  axis=1)


    out=np.nansum(((yhat_full1-obs1)/weights1)**2)
    #out=np.nansum(((yhat_full2-obs2)/weights2)**2)

    return out

## DEB
def obj_funDEB (x):
    #define parameters
    pars = x

    #initial conditions
    G_i1 = d1.Sinit[0]
    G_i2 = d2.Sinit[0]

    w_i1 = d1.Cmicinit[0]/(pars[5])
    w_i2 = d2.Cmicinit[0]/(pars[5])
    #Br_i = (d.Cmicinit[0]-Bs_i*pars[6])/pars[5]
    y01 = np.array([G_i1, 0, w_i1, 0])
    y02 = np.array([G_i2, 0, w_i2, 0])

    #times
    t = d1.Time*24

    #yhat_full1= calcDEB(DEBmodel, pars, t, y01)
    yhat_full2= calcDEB(DEBmodel, pars, t, y02)

    #observations
    #obs1=np.concatenate((np.array([d1.CO2cumul]).reshape(len(d1.Time),1),
    #                    np.array([d1.Cmic14]).reshape(len(d1.Time),1)),
    #                 axis=1)
    obs2=np.concatenate((np.array([d2.CO2cumul]).reshape(len(d1.Time),1),
                        np.array([d2.Cmic14]).reshape(len(d1.Time),1)),
                     axis=1)


    #weights
    #weights1=np.concatenate((np.nanmean(d1.CO2cumul).repeat(len(d1.Time)).reshape(len(d1.Time),1),
    #                        np.nanmean(d1.Cmic14/5).repeat(len(d1.Time)).reshape(len(d1.Time),1)),
    #                   axis=1)
    weights2=np.concatenate((np.nanmean(d2.CO2cumul).repeat(len(d1.Time)).reshape(len(d1.Time),1),
                           np.nanmean(d2.Cmic14/5).repeat(len(d1.Time)).reshape(len(d1.Time),1)),
                      axis=1)


    #out=np.nansum(((yhat_full1-obs1)/weights1)**2)
    out=np.nansum(((yhat_full2-obs2)/weights2)**2)

    return out

# %% markdown
# ## Goodness of models fits
# %% codecell
##Monod
def goodnessMonod (x):
    #define parameters
    pars = x

    #initial conditions
    G_i1 = d1.Sinit[0]
    G_i2 = d2.Sinit[0]
    B_i1 = d1.Cmicinit[0]/pars[4]
    B_i2 = d2.Cmicinit[0]/pars[4]

    #y01 = np.array([G_i1, B_i1, 0])
    y02 = np.array([G_i2, B_i2, 0])

    #times
    t = d1.Time*24

    #model simulations
    #yhat_full1 = calc(Monod, pars, t, y01)
    yhat_full2 = calc(Monod, pars, t, y02)

    #observations
    #obs1=np.concatenate((np.array([d1.CO2cumul]).reshape(len(d1.Time),1),
    #                    np.array([d1.Cmic14]).reshape(len(d1.Time),1)),
    #                 axis=1)
    obs2=np.concatenate((np.array([d2.CO2cumul]).reshape(len(d1.Time),1),
                        np.array([d2.Cmic14]).reshape(len(d1.Time),1)),
                     axis=1)


    #R2=1-np.nansum((obs1-yhat_full1)**2)/np.nansum((obs1-np.nanmean(obs1))**2)
    #ll=-np.nansum((obs1-yhat_full1)**2)/2/np.nanstd(obs1)**2
    #AIC = len(pars)*2 - 2*ll

    R2=1-np.nansum((obs2-yhat_full2)**2)/np.nansum((obs2-np.nanmean(obs2))**2)
    ll=-np.nansum((obs2-yhat_full2)**2)/2/np.nanstd(obs2)**2
    AIC = len(pars)*2 - 2*ll

    out = np.array([R2, ll, AIC])

    return out

##Mend
def goodnessMend (x):
    #define parameters
    pars = x

    #initial conditions
    G_i1 = d1.Sinit[0]
    G_i2 = d2.Sinit[0]
    B_i1 = d1.Cmicinit[0]/pars[4]
    B_i2 = d2.Cmicinit[0]/pars[4]

    y01 = np.array([G_i1, B_i1, 0])
    y02 = np.array([G_i2, B_i2, 0])

    #times
    t = d1.Time*24

    #model simulations
    #yhat_full1 = calc(Mend, pars, t, y01)
    yhat_full2 = calc(Mend, pars, t, y02)

    #observations
    #obs1=np.concatenate((np.array([d1.CO2cumul]).reshape(len(d1.Time),1),
    #                    np.array([d1.Cmic14]).reshape(len(d1.Time),1)),
    #                 axis=1)
    obs2=np.concatenate((np.array([d2.CO2cumul]).reshape(len(d1.Time),1),
                        np.array([d2.Cmic14]).reshape(len(d1.Time),1)),
                     axis=1)


    #R2=1-np.nansum((obs1-yhat_full1)**2)/np.nansum((obs1-np.nanmean(obs1))**2)
    #ll=-np.nansum((obs1-yhat_full1)**2)/2/np.nanstd(obs1)**2
    #AIC = len(pars)*2 - 2*ll

    R2=1-np.nansum((obs2-yhat_full2)**2)/np.nansum((obs2-np.nanmean(obs2))**2)
    ll=-np.nansum((obs2-yhat_full2)**2)/2/np.nanstd(obs2)**2
    AIC = len(pars)*2 - 2*ll

    out = np.array([R2, ll, AIC])

    return out

##Pirt
def goodnessPirt (x):
    #define parameters
    pars = x

    #initial conditions
    G_i1 = d1.Sinit[0]
    G_i2 = d2.Sinit[0]
    B_i1 = d1.Cmicinit[0]/pars[5]
    B_i2 = d2.Cmicinit[0]/pars[5]

    y01 = np.array([G_i1, B_i1, 0])
    y02 = np.array([G_i2, B_i2, 0])

    #times
    t = d1.Time*24

    #model simulations
    yhat_full1 = calcPirt(Pirt, pars, t, y01)
    #yhat_full2 = calcPirt(Pirt, pars, t, y02)


    #observations
    obs1=np.concatenate((np.array([d1.CO2cumul]).reshape(len(d1.Time),1),
                        np.array([d1.Cmic14]).reshape(len(d1.Time),1)),
                     axis=1)
    #obs2=np.concatenate((np.array([d2.CO2cumul]).reshape(len(d1.Time),1),
    #                    np.array([d2.Cmic14]).reshape(len(d1.Time),1)),
    #                 axis=1)


    R2=1-np.nansum((obs1-yhat_full1)**2)/np.nansum((obs1-np.nanmean(obs1))**2)
    ll=-np.nansum((obs1-yhat_full1)**2)/2/np.nanstd(obs1)**2
    AIC = len(pars)*2 - 2*ll

    #R2=1-np.nansum((obs2-yhat_full2)**2)/np.nansum((obs2-np.nanmean(obs2))**2)
    #ll=-np.nansum((obs2-yhat_full2)**2)/2/np.nanstd(obs2)**2
    #AIC = len(pars)*2 - 2*ll

    out = np.array([R2, ll, AIC])

    return out

##DEB
def goodnessDEB (x):
    #define parameters
    pars = x

    #initial conditions
    G_i1 = d1.Sinit[0]
    G_i2 = d2.Sinit[0]

    w_i1 = d1.Cmicinit[0]/(pars[5])
    w_i2 = d2.Cmicinit[0]/(pars[5])
    #Br_i = (d.Cmicinit[0]-Bs_i*pars[6])/pars[5]
    y01 = np.array([G_i1, 0, w_i1, 0])
    y02 = np.array([G_i2, 0, w_i2, 0])
    #times
    t = d1.Time*24

    #yhat_full1= calcDEB(DEBmodel, pars, t, y01)
    yhat_full2= calcDEB(DEBmodel, pars, t, y02)

    #observations
    #obs1=np.concatenate((np.array([d1.CO2cumul]).reshape(len(d1.Time),1),
    #                    np.array([d1.Cmic14]).reshape(len(d1.Time),1)),
    #                 axis=1)
    obs2=np.concatenate((np.array([d2.CO2cumul]).reshape(len(d1.Time),1),
                        np.array([d2.Cmic14]).reshape(len(d1.Time),1)),
                     axis=1)


    #R2=1-np.nansum((obs1-yhat_full1)**2)/np.nansum((obs1-np.nanmean(obs1))**2)
    #ll=-np.nansum((obs1-yhat_full1)**2)/2/np.nanstd(obs1)**2
    #AIC = len(pars)*2 - 2*ll

    R2=1-np.nansum((obs2-yhat_full2)**2)/np.nansum((obs2-np.nanmean(obs2))**2)
    ll=-np.nansum((obs2-yhat_full2)**2)/2/np.nanstd(obs2)**2
    AIC = len(pars)*2 - 2*ll

    out = np.array([R2, ll, AIC])

    return out
# %% markdown
## Wu et al. 2011
# %% codecell
#reading the data
d = pd.read_csv('/mnt/580CBE2464C5F83D/pracovni/data_statistika/Data_z_clanku/DBconcept/Data/Wu2011.csv', sep=',')
#Glucose dataset
d = d[(d.Substrate=='Glucose')]
d1 = d[(d.Soil=='Upland')]
d2 = d[(d.Soil=='Paddy')]
d1.reset_index(inplace=True)
d2.reset_index(inplace=True)
print(d1)
# %% markdown
#### Parameters estimation
# %% codecell
##Monod
wu11_monodparsA=dual_annealing(obj_funMonod, [(1e-3, 10), (1e-1, 500), (1e-8, 1), (0, 1), (0, 1)])
wu11_monodparsB=dual_annealing(obj_funMonod, [(1e-3, 10), (1e-1, 500), (1e-8, 1), (0, 1), (0, 1)])
print(wu11_monodparsA)
print(wu11_monodparsB)
print(goodnessMonod(wu11_monodparsA.x))
print(goodnessMonod(wu11_monodparsB.x))
np.savetxt('/mnt/580CBE2464C5F83D/pracovni/data_statistika/Data_z_clanku/DBconcept/parameters/wu11_monodparsA.csv', wu11_monodparsA.x.reshape(1,5), delimiter=",")
np.savetxt('/mnt/580CBE2464C5F83D/pracovni/data_statistika/Data_z_clanku/DBconcept/parameters/wu11_monodparsB.csv', wu11_monodparsB.x.reshape(1,5), delimiter=",")
##MEND
wu11_mendparsA=dual_annealing(obj_funMend, [(1e-3, 10), (1e-1, 500), (1e-8, 1), (0, 1), (0, 1)])
wu11_mendparsB=dual_annealing(obj_funMend, [(1e-3, 10), (1e-1, 500), (1e-8, 1), (0, 1), (0, 1)])
print(wu11_mendparsA)
print(wu11_mendparsB)
print(goodnessMend(wu11_mendparsA.x))
print(goodnessMend(wu11_mendparsB.x))
np.savetxt('/mnt/580CBE2464C5F83D/pracovni/data_statistika/Data_z_clanku/DBconcept/parameters/wu11_mendparsA.csv', wu11_mendparsA.x.reshape(1,5), delimiter=",")
np.savetxt('/mnt/580CBE2464C5F83D/pracovni/data_statistika/Data_z_clanku/DBconcept/parameters/wu11_mendparsB.csv', wu11_mendparsB.x.reshape(1,5), delimiter=",")
##Pirt
wu11_pirtparsA=dual_annealing(obj_funPirt, [(1e-3, 10), (1e-1, 500), (1e-8, 1), (1e-8, 1), (0, 1), (0, 1)])
wu11_pirtparsB=dual_annealing(obj_funPirt, [(1e-3, 10), (1e-1, 500), (1e-8, 1), (1e-8, 1), (0, 1), (0, 1)])
print(wu11_pirtparsA)
print(wu11_pirtparsB)
print(goodnessPirt(wu11_pirtparsA.x))
print(goodnessPirt(wu11_pirtparsB.x))
np.savetxt('/mnt/580CBE2464C5F83D/pracovni/data_statistika/Data_z_clanku/DBconcept/parameters/wu11_pirtparsA.csv', wu11_pirtparsA.x.reshape(1,6), delimiter=",")
np.savetxt('/mnt/580CBE2464C5F83D/pracovni/data_statistika/Data_z_clanku/DBconcept/parameters/wu11_pirtparsB.csv', wu11_pirtparsB.x.reshape(1,6), delimiter=",")
##DEB
wu11_debparsA=dual_annealing(obj_funDEB, [(1e-3, 10), (1e-3, 10), (1e-5, 0.025), (1e-3, 10), (1e-8, 1),(1e-8, 1),(1e-8, 5)])
wu11_debparsB=dual_annealing(obj_funDEB, [(1e-3, 10), (1e-3, 10), (1e-5, 0.025), (1e-3, 10), (1e-8, 1),(1e-8, 1),(1e-8, 5)])
print(wu11_debparsA)
print(wu11_debparsB)
print(goodnessDEB(wu11_debparsA.x))
print(goodnessDEB(wu11_debparsB.x))
np.savetxt('/mnt/580CBE2464C5F83D/pracovni/data_statistika/Data_z_clanku/DBconcept/parameters/wu11_debparsA.csv', wu11_debparsA.x.reshape(1,7), delimiter=",")
np.savetxt('/mnt/580CBE2464C5F83D/pracovni/data_statistika/Data_z_clanku/DBconcept/parameters/wu11_debparsB.csv', wu11_debparsB.x.reshape(1,7), delimiter=",")
