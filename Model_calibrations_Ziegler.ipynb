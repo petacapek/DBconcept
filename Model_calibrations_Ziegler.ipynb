# %% codecell
import numpy as np
import pandas as pd
from scipy.integrate import odeint
from scipy.optimize import dual_annealing
# %% markdown
## Define four general models
# %% codecell
### Monod model
def Monod (y, t, pars):
    #define initial states
    G=y[0];    B=y[1];     CO2=y[2]

    #define parameters
    v=pars[0];   k=pars[1];
    m=pars[2];   Y=pars[3]

    #Define fluxes
    ##glucose uptake
    uptake=v*B*G/(k+G)
    ##decay
    decay=B*m

    #Define derivatives
    dGdt=-uptake
    dBdt=Y*uptake-decay
    dCO2dt=(1-Y)*uptake

    return dGdt, dBdt, dCO2dt;

### Mend model
def Mend (y, t, pars):
    #define initial states
    G=y[0];    B=y[1];     CO2=y[2]

    #define parameters
    v=pars[0];   k=pars[1];
    h=pars[2];   Y=pars[3]

    #Define fluxes
    ##glucose uptake
    uptake=1/Y*(v+h)*B*G/(k+G)
    ##growth respiration
    gresp=(1/Y-1)*v*B*G/(k+G)
    ##maintenance respiration
    maintenance=(1/Y-1)*h*B*G/(k+G)
    ##decay
    decay=B*h


    #Define derivatives
    dGdt=-uptake
    dBdt=uptake-gresp-maintenance-decay
    dCO2dt=gresp+maintenance

    return dGdt, dBdt, dCO2dt;

### Pirt model
def Pirt (y, t, pars):
    #define initial states
    G=y[0];    B=y[1];     CO2=y[2]

    #define parameters
    v=pars[0];   k=pars[1];
    m=pars[2];   h=pars[3];
    Y=pars[4]

    #Define fluxes
    ##glucose uptake
    uptake=v*B*G/(k+G)
    ##decay
    decay=B*m
    ##maintenance
    maintenance=B*h

    #Define derivatives
    dGdt=-uptake
    dBdt=Y*uptake-decay-maintenance
    dCO2dt=(1-Y)*uptake+maintenance

    return dGdt, dBdt, dCO2dt;

###Dynamic Energy Budget
def DEBmodel (y, t, pars):
    #define initial states
    G=y[0];    e=y[1];    w=y[2];     CO2=y[3]

    #define parameters
    Im=pars[0];   v=pars[1]
    m=pars[2];    g=pars[3];     ce=pars[4]

    k=500

    #Define fluxes
    ##scaling function for substrate
    f=G/(k+G)
    ##growth rate
    growth=(v*e-m*g)/(m+g)
    ##CO2 yield
    Yco2=((v*f/Im)+(m*g/Im)+max(g*growth/Im,0))*ce/f

    #Define derivatives
    dGdt=-f*w*Im
    dedt=v*f-v*e
    dwdt=growth*w
    dCO2dt=f*w*Im*Yco2

    return dGdt, dedt, dwdt, dCO2dt;

# %% markdown
#### Additional calculations are performed
# %% codecell
##Monod and Mend
def calc (model, pars, t, y0):
    #model parameters
    pars_model=pars[0:4]
    #conversion factors
    #conversions=pars[4]

    #solve the model
    y=odeint(model,y0,t, args=(pars_model,))

    #calculate CFC
    CFC = (pars[4]*y[:, 1])
    #CFC14 = (pars[4]*y[:, 1])-d.Cmicinit[0]


    #Create data with predictions
    yhat = np.concatenate((y[:, 0].reshape(len(d.Time),1),#glucose
                           y[:, 2].reshape(len(d.Time),1),
                           CFC.reshape(len(d.Time),1)), axis=1)

    return yhat

##Pirt
def calcPirt (model, pars, t, y0):
    #model parameters
    pars_model=pars[0:5]
    #conversion factors
    conversions=pars[5]

    #solve the model
    y=odeint(model,y0,t, args=(pars_model,))

    #calculate CFC
    CFC = (conversions*y[:, 1])
    CFC14 = (conversions*y[:, 1])-d.Cmicinit[0]

    #Create data with predictions
    yhat = np.concatenate((y[:, 0].reshape(len(d.Time),1),#glucose
                           y[:, 2].reshape(len(d.Time),1),
                           CFC.reshape(len(d.Time),1)), axis=1)

    return yhat

##DEB
def calcDEB (model, pars, t, y0):
    #model parameters
    pars_model=pars[0:5]
    #conversion factors
    conversions=pars[5:7]

    #solve the model
    y=odeint(model,y0,t, args=(pars_model,))

    #calculate CFC
    CFC = (conversions[0]+conversions[1]*y[:, 1])*y[:, 2]
    CFC14 = (conversions[0]+conversions[1]*y[:, 1])*y[:, 2]-d.Cmicinit[0]

    #Create data with predictions
    yhat = np.concatenate((y[:, 0].reshape(len(d.Time),1),#glucose
                           y[:, 3].reshape(len(d.Time),1),
                           CFC.reshape(len(d.Time),1)), axis=1)

    return yhat

# %% markdown
#### Objective functions are defined
# %% codecell
##Monod
def obj_funMonod (x):
    #define parameters
    pars = x

    #initial conditions
    G_i = d.Sinit[0]
    B_i = d.Cmicinit[0]/pars[4]
    y0 = np.array([G_i, B_i, 0])

    #times
    t = d.Time*24

    #model simulations
    yhat_full = calc(Monod, pars, t, y0)

    #observations
    obs=np.concatenate((np.array([d.S]).reshape(len(d.Time),1),
                        np.array([d.CO2]).reshape(len(d.Time),1),
                        np.array([d.Cmic]).reshape(len(d.Time),1)),
                     axis=1)

    #weights
    weights=np.concatenate((np.nanmean(d.S).repeat(len(d.Time)).reshape(len(d.Time),1),
                            np.nanmean(d.CO2).repeat(len(d.Time)).reshape(len(d.Time),1),
                            np.nanmean(d.Cmic/5).repeat(len(d.Time)).reshape(len(d.Time),1)),
                       axis=1)

    out=np.nansum(((yhat_full-obs)/weights)**2)

    return out

##MEND
def obj_funMend (x):
    #define parameters
    pars = x

    #initial conditions
    G_i = d.Sinit[0]
    B_i = d.Cmicinit[0]/pars[4]
    y0 = np.array([G_i, B_i, 0])

    #times
    t = d.Time*24

    #model simulations
    yhat_full = calc(Mend, pars, t, y0)

    #observations
    obs=np.concatenate((np.array([d.S]).reshape(len(d.Time),1),
                        np.array([d.CO2]).reshape(len(d.Time),1),
                        np.array([d.Cmic]).reshape(len(d.Time),1)),
                     axis=1)

    #weights
    weights=np.concatenate((np.nanmean(d.S).repeat(len(d.Time)).reshape(len(d.Time),1),
                            np.nanmean(d.CO2).repeat(len(d.Time)).reshape(len(d.Time),1),
                            np.nanmean(d.Cmic/5).repeat(len(d.Time)).reshape(len(d.Time),1)),
                       axis=1)


    out=np.nansum(((yhat_full-obs)/weights)**2)

    return out

##Pirt
def obj_funPirt (x):
    #define parameters
    pars = x

    #initial conditions
    G_i = d.Sinit[0]
    B_i = d.Cmicinit[0]/pars[5]
    y0 = np.array([G_i, B_i, 0])

    #times
    t = d.Time*24

    #model simulations
    yhat_full = calcPirt(Pirt, pars, t, y0)

    #observations
    obs=np.concatenate((np.array([d.S]).reshape(len(d.Time),1),
                        np.array([d.CO2]).reshape(len(d.Time),1),
                        np.array([d.Cmic]).reshape(len(d.Time),1)),
                     axis=1)

    #weights
    weights=np.concatenate((np.nanmean(d.S).repeat(len(d.Time)).reshape(len(d.Time),1),
                            np.nanmean(d.CO2).repeat(len(d.Time)).reshape(len(d.Time),1),
                            np.nanmean(d.Cmic/5).repeat(len(d.Time)).reshape(len(d.Time),1)),
                       axis=1)


    out=np.nansum(((yhat_full-obs)/weights)**2)

    return out

## DEB
def obj_funDEB (x):
    #define parameters
    pars = x

    #initial conditions
    G_i = d.Sinit[0]
    w_i = d.Cmicinit[0]/pars[5]
    #Br_i = (d.Cmicinit[0]-Bs_i*pars[6])/pars[5]
    y0 = np.array([G_i, 0, w_i, 0])

    #times
    t = d.Time*24

    #model simulations
    yhat_full = calcDEB(DEBmodel, pars, t, y0)

    #observations
    obs=np.concatenate((np.array([d.S]).reshape(len(d.Time),1),
                        np.array([d.CO2]).reshape(len(d.Time),1),
                        np.array([d.Cmic]).reshape(len(d.Time),1)),
                     axis=1)

    #weights
    weights=np.concatenate((np.nanmean(d.S).repeat(len(d.Time)).reshape(len(d.Time),1),
                            np.nanmean(d.CO2).repeat(len(d.Time)).reshape(len(d.Time),1),
                            np.nanmean(d.Cmic/5).repeat(len(d.Time)).reshape(len(d.Time),1)),
                       axis=1)


    out=np.nansum(((yhat_full-obs)/weights)**2)

    return out

# %% markdown
# ## Goodness of models fits
# %% codecell
##Monod
def goodnessMonod (x):
    #define parameters
    pars = x

    #initial conditions
    G_i = d.Sinit[0]
    B_i = d.Cmicinit[0]/pars[4]
    y0 = np.array([G_i, B_i, 0])

    #times
    t = d.Time*24

    #model simulations
    yhat_full = calc(Monod, pars, t, y0)

    #observations
    obs=np.concatenate((np.array([d.S]).reshape(len(d.Time),1),
                        np.array([d.CO2]).reshape(len(d.Time),1),
                        np.array([d.Cmic]).reshape(len(d.Time),1)),
                     axis=1)

    R2=1-np.nansum((obs-yhat_full)**2)/np.nansum((obs-np.nanmean(obs))**2)
    ll=-np.nansum((obs-yhat_full)**2)/2/np.nanstd(obs)**2
    AIC = len(pars)*2 - 2*ll

    out = np.array([R2, ll, AIC])

    return out

##Mend
def goodnessMend (x):
    #define parameters
    pars = x

    #initial conditions
    G_i = d.Sinit[0]
    B_i = d.Cmicinit[0]/pars[4]
    y0 = np.array([G_i, B_i, 0])

    #times
    t = d.Time*24

    #model simulations
    yhat_full = calc(Mend, pars, t, y0)

    #observations
    obs=np.concatenate((np.array([d.S]).reshape(len(d.Time),1),
                        np.array([d.CO2]).reshape(len(d.Time),1),
                        np.array([d.Cmic]).reshape(len(d.Time),1)),
                     axis=1)

    R2=1-np.nansum((obs-yhat_full)**2)/np.nansum((obs-np.nanmean(obs))**2)
    ll=-np.nansum((obs-yhat_full)**2)/2/np.nanstd(obs)**2
    AIC = len(pars)*2 - 2*ll

    out = np.array([R2, ll, AIC])

    return out

##Pirt
def goodnessPirt (x):
    #define parameters
    pars = x

    #initial conditions
    G_i = d.Sinit[0]
    B_i = d.Cmicinit[0]/pars[5]
    y0 = np.array([G_i, B_i, 0])

    #times
    t = d.Time*24

    #model simulations
    yhat_full = calcPirt(Pirt, pars, t, y0)

    #observations
    obs=np.concatenate((np.array([d.S]).reshape(len(d.Time),1),
                        np.array([d.CO2]).reshape(len(d.Time),1),
                        np.array([d.Cmic]).reshape(len(d.Time),1)),
                     axis=1)

    R2=1-np.nansum((obs-yhat_full)**2)/np.nansum((obs-np.nanmean(obs))**2)
    ll=-np.nansum((obs-yhat_full)**2)/2/np.nanstd(obs)**2
    AIC = len(pars)*2 - 2*ll

    out = np.array([R2, ll, AIC])

    return out

##DEB
def goodnessDEB (x):
    #define parameters
    pars = x

    #initial conditions
    G_i = d.Sinit[0]
    w_i = d.Cmicinit[0]/pars[5]
    #Br_i = (d.Cmicinit[0]-Bs_i*pars[6])/pars[5]
    y0 = np.array([G_i, 0, w_i, 0])

    #times
    t = d.Time*24

    #model simulations
    yhat_full = calcDEB(DEBmodel, pars, t, y0)

    #observations
    obs=np.concatenate((np.array([d.S]).reshape(len(d.Time),1),
                        np.array([d.CO2]).reshape(len(d.Time),1),
                        np.array([d.Cmic]).reshape(len(d.Time),1)),
                     axis=1)

    R2=1-np.nansum((obs-yhat_full)**2)/np.nansum((obs-np.nanmean(obs))**2)
    ll=-np.nansum((obs-yhat_full)**2)/2/np.nanstd(obs)**2
    AIC = len(pars)*2 - 2*ll

    out = np.array([R2, ll, AIC])

    return out
# %% markdown
## Santruckova et al. 2004
# %% codecell
#reading the data
d = pd.read_csv('/mnt/580CBE2464C5F83D/pracovni/data_statistika/Data_z_clanku/DBconcept/Data/Ziegler2005.csv', sep=',')
print(d)
# %% markdown
#### Parameters estimation
# %% codecell
##Monod
ziegler_monodpars=dual_annealing(obj_funMonod, [(1e-3, 10), (1e-1, 500), (1e-8, 1), (0, 1), (0, 1)])
print(ziegler_monodpars)
print(goodnessMonod(ziegler_monodpars.x))
np.savetxt('/mnt/580CBE2464C5F83D/pracovni/data_statistika/Data_z_clanku/DBconcept/parameters/ziegler_monodpars.csv', ziegler_monodpars.x.reshape(1,5), delimiter=",")
##MEND
ziegler_mendpars=dual_annealing(obj_funMend, [(1e-3, 10), (1e-1, 500), (1e-8, 1), (0, 1), (0, 1)])
print(ziegler_mendpars)
print(goodnessMend(ziegler_mendpars.x))
np.savetxt('/mnt/580CBE2464C5F83D/pracovni/data_statistika/Data_z_clanku/DBconcept/parameters/ziegler_mendpars.csv', ziegler_mendpars.x.reshape(1,5), delimiter=",")
##Pirt
ziegler_pirtpars=dual_annealing(obj_funPirt, [(1e-3, 10), (1e-1, 500), (1e-8, 1), (1e-8, 1), (0, 1), (0, 1)])
print(ziegler_pirtpars)
print(goodnessPirt(ziegler_pirtpars.x))
np.savetxt('/mnt/580CBE2464C5F83D/pracovni/data_statistika/Data_z_clanku/DBconcept/parameters/ziegler_pirtpars.csv', ziegler_pirtpars.x.reshape(1,6), delimiter=",")
##DEB
ziegler_debpars=dual_annealing(obj_funDEB, [(1e-3, 10), (1e-3, 10), (1e-5, 0.025), (1e-3, 10), (1e-8, 1),(1e-8, 1),(1e-8, 5)])
print(ziegler_debpars)
print(goodnessDEB(ziegler_debpars.x))
np.savetxt('/mnt/580CBE2464C5F83D/pracovni/data_statistika/Data_z_clanku/DBconcept/parameters/ziegler_debpars.csv', ziegler_debpars.x.reshape(1,7), delimiter=",")
