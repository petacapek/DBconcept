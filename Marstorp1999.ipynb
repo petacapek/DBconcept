{
 "cells": [
  {
   "cell_type": "code",
   "execution_count": 1,
   "metadata": {},
   "outputs": [],
   "source": [
    "import numpy as np\n",
    "import pandas as pd\n",
    "from scipy.integrate import odeint\n",
    "from scipy.optimize import differential_evolution"
   ]
  },
  {
   "cell_type": "code",
   "execution_count": 2,
   "metadata": {},
   "outputs": [
    {
     "name": "stdout",
     "output_type": "stream",
     "text": [
      "                        Study        Soil Substrate  Clay   pH  Ctot  Ntot  \\\n",
      "0   Marstorp and Witter, 1999  Sandy loam   Glucose    10  6.1   1.7   NaN   \n",
      "1   Marstorp and Witter, 1999  Sandy loam   Glucose    10  6.1   1.7   NaN   \n",
      "2   Marstorp and Witter, 1999  Sandy loam   Glucose    10  6.1   1.7   NaN   \n",
      "3   Marstorp and Witter, 1999  Sandy loam   Glucose    10  6.1   1.7   NaN   \n",
      "4   Marstorp and Witter, 1999  Sandy loam   Glucose    10  6.1   1.7   NaN   \n",
      "5   Marstorp and Witter, 1999  Sandy loam   Glucose    10  6.1   1.7   NaN   \n",
      "6   Marstorp and Witter, 1999  Sandy loam   Glucose    10  6.1   1.7   NaN   \n",
      "7   Marstorp and Witter, 1999  Sandy loam   Glucose    10  6.1   1.7   NaN   \n",
      "8   Marstorp and Witter, 1999  Sandy loam   Glucose    10  6.1   1.7   NaN   \n",
      "9   Marstorp and Witter, 1999  Sandy loam   Glucose    10  6.1   1.7   NaN   \n",
      "10  Marstorp and Witter, 1999  Sandy loam   Glucose    10  6.1   1.7   NaN   \n",
      "11  Marstorp and Witter, 1999  Sandy loam   Glucose    10  6.1   1.7   NaN   \n",
      "12  Marstorp and Witter, 1999  Sandy loam   Glucose    10  6.1   1.7   NaN   \n",
      "13  Marstorp and Witter, 1999  Sandy loam   Glucose    10  6.1   1.7   NaN   \n",
      "14  Marstorp and Witter, 1999  Sandy loam   Glucose    10  6.1   1.7   NaN   \n",
      "15  Marstorp and Witter, 1999  Sandy loam   Glucose    10  6.1   1.7   NaN   \n",
      "16  Marstorp and Witter, 1999  Sandy loam   Glucose    10  6.1   1.7   NaN   \n",
      "17  Marstorp and Witter, 1999  Sandy loam   Glucose    10  6.1   1.7   NaN   \n",
      "18  Marstorp and Witter, 1999  Sandy loam   Glucose    10  6.1   1.7   NaN   \n",
      "19  Marstorp and Witter, 1999  Sandy loam   Glucose    10  6.1   1.7   NaN   \n",
      "20  Marstorp and Witter, 1999  Sandy loam   Glucose    10  6.1   1.7   NaN   \n",
      "21  Marstorp and Witter, 1999  Sandy loam   Glucose    10  6.1   1.7   NaN   \n",
      "22  Marstorp and Witter, 1999  Sandy loam   Glucose    10  6.1   1.7   NaN   \n",
      "23  Marstorp and Witter, 1999  Sandy loam   Glucose    10  6.1   1.7   NaN   \n",
      "24  Marstorp and Witter, 1999  Sandy loam   Glucose    10  6.1   1.7   NaN   \n",
      "25  Marstorp and Witter, 1999  Sandy loam   Glucose    10  6.1   1.7   NaN   \n",
      "26  Marstorp and Witter, 1999  Sandy loam   Glucose    10  6.1   1.7   NaN   \n",
      "27  Marstorp and Witter, 1999  Sandy loam   Glucose    10  6.1   1.7   NaN   \n",
      "28  Marstorp and Witter, 1999  Sandy loam   Glucose    10  6.1   1.7   NaN   \n",
      "29  Marstorp and Witter, 1999  Sandy loam   Glucose    10  6.1   1.7   NaN   \n",
      "30  Marstorp and Witter, 1999  Sandy loam   Glucose    10  6.1   1.7   NaN   \n",
      "31  Marstorp and Witter, 1999  Sandy loam   Glucose    10  6.1   1.7   NaN   \n",
      "32  Marstorp and Witter, 1999  Sandy loam   Glucose    10  6.1   1.7   NaN   \n",
      "33  Marstorp and Witter, 1999  Sandy loam   Glucose    10  6.1   1.7   NaN   \n",
      "34  Marstorp and Witter, 1999  Sandy loam   Glucose    10  6.1   1.7   NaN   \n",
      "35  Marstorp and Witter, 1999  Sandy loam   Glucose    10  6.1   1.7   NaN   \n",
      "36  Marstorp and Witter, 1999  Sandy loam   Glucose    10  6.1   1.7   NaN   \n",
      "37  Marstorp and Witter, 1999  Sandy loam   Glucose    10  6.1   1.7   NaN   \n",
      "38  Marstorp and Witter, 1999  Sandy loam   Glucose    10  6.1   1.7   NaN   \n",
      "39  Marstorp and Witter, 1999  Sandy loam   Glucose    10  6.1   1.7   NaN   \n",
      "40  Marstorp and Witter, 1999  Sandy loam   Glucose    10  6.1   1.7   NaN   \n",
      "\n",
      "        Time  Cmicinit  DNAinit      Sinit    Cmic14     Cmic12  CO214  \\\n",
      "0   0.000000  5.168758  1.05634  49.958368  0.000000   5.168758    NaN   \n",
      "1   0.092081  5.168758  1.05634  49.958368       NaN        NaN    NaN   \n",
      "2   0.199509  5.168758  1.05634  49.958368  2.778075  12.163752    NaN   \n",
      "3   0.306937  5.168758  1.05634  49.958368       NaN        NaN    NaN   \n",
      "4   0.399018  5.168758  1.05634  49.958368  4.699991   8.624982    NaN   \n",
      "5   0.491099  5.168758  1.05634  49.958368       NaN        NaN    NaN   \n",
      "6   0.552486  5.168758  1.05634  49.958368       NaN        NaN    NaN   \n",
      "7   0.629220  5.168758  1.05634  49.958368  4.541124   4.117210    NaN   \n",
      "8   0.675261  5.168758  1.05634  49.958368       NaN        NaN    NaN   \n",
      "9   0.705955  5.168758  1.05634  49.958368       NaN        NaN    NaN   \n",
      "10  0.751995  5.168758  1.05634  49.958368       NaN        NaN    NaN   \n",
      "11  0.798036  5.168758  1.05634  49.958368       NaN        NaN    NaN   \n",
      "12  0.828729  5.168758  1.05634  49.958368  5.395933   9.052165    NaN   \n",
      "13  0.874770  5.168758  1.05634  49.958368       NaN        NaN    NaN   \n",
      "14  0.905463  5.168758  1.05634  49.958368       NaN        NaN    NaN   \n",
      "15  0.966851  5.168758  1.05634  49.958368       NaN        NaN    NaN   \n",
      "16  0.997545  5.168758  1.05634  49.958368       NaN        NaN    NaN   \n",
      "17  1.043585  5.168758  1.05634  49.958368  5.663909   5.237793    NaN   \n",
      "18  1.074279  5.168758  1.05634  49.958368       NaN        NaN    NaN   \n",
      "19  1.120319  5.168758  1.05634  49.958368       NaN        NaN    NaN   \n",
      "20  1.181707  5.168758  1.05634  49.958368       NaN        NaN    NaN   \n",
      "21  1.212400  5.168758  1.05634  49.958368       NaN        NaN    NaN   \n",
      "22  1.258441  5.168758  1.05634  49.958368  4.811423   5.344792    NaN   \n",
      "23  1.335175  5.168758  1.05634  49.958368       NaN        NaN    NaN   \n",
      "24  1.411909  5.168758  1.05634  49.958368       NaN        NaN    NaN   \n",
      "25  1.503990  5.168758  1.05634  49.958368       NaN        NaN    NaN   \n",
      "26  1.611418  5.168758  1.05634  49.958368       NaN        NaN    NaN   \n",
      "27  1.688152  5.168758  1.05634  49.958368       NaN        NaN    NaN   \n",
      "28  1.826274  5.168758  1.05634  49.958368       NaN        NaN    NaN   \n",
      "29  2.056476  5.168758  1.05634  49.958368  5.562219   4.785088    NaN   \n",
      "30  2.409454  5.168758  1.05634  49.958368       NaN        NaN    NaN   \n",
      "31  3.100061  5.168758  1.05634  49.958368  4.394547   5.337611    NaN   \n",
      "32  3.637201  5.168758  1.05634  49.958368       NaN        NaN    NaN   \n",
      "33  4.158993  5.168758  1.05634  49.958368       NaN        NaN    NaN   \n",
      "34  4.680786  5.168758  1.05634  49.958368       NaN        NaN    NaN   \n",
      "35  5.202578  5.168758  1.05634  49.958368       NaN        NaN    NaN   \n",
      "36  6.246163  5.168758  1.05634  49.958368       NaN        NaN    NaN   \n",
      "37  6.752609  5.168758  1.05634  49.958368       NaN        NaN    NaN   \n",
      "38  7.274401  5.168758  1.05634  49.958368       NaN        NaN    NaN   \n",
      "39  7.811541  5.168758  1.05634  49.958368       NaN        NaN    NaN   \n",
      "40  8.333333  5.168758  1.05634  49.958368  3.148190   5.067817    NaN   \n",
      "\n",
      "       CO212       DNA          S             Notes  \n",
      "0   0.011261  1.056340  49.958368  Respiration rate  \n",
      "1   0.096343       NaN        NaN  Respiration rate  \n",
      "2   0.118938  1.051065  39.850926  Respiration rate  \n",
      "3   0.124641       NaN        NaN  Respiration rate  \n",
      "4   0.158487  1.103816  30.723061  Respiration rate  \n",
      "5   0.181072       NaN        NaN  Respiration rate  \n",
      "6   0.203636       NaN        NaN  Respiration rate  \n",
      "7   0.259994  1.140742  30.500430  Respiration rate  \n",
      "8   0.293809       NaN        NaN  Respiration rate  \n",
      "9   0.327614       NaN        NaN  Respiration rate  \n",
      "10  0.367059       NaN        NaN  Respiration rate  \n",
      "11  0.423396       NaN        NaN  Respiration rate  \n",
      "12  0.496615  1.335921  19.591517  Respiration rate  \n",
      "13  0.564214       NaN        NaN  Respiration rate  \n",
      "14  0.665586       NaN        NaN  Respiration rate  \n",
      "15  0.750087       NaN        NaN  Respiration rate  \n",
      "16  0.845829       NaN        NaN  Respiration rate  \n",
      "17  0.789553  1.626052   0.890523  Respiration rate  \n",
      "18  0.581241       NaN        NaN  Respiration rate  \n",
      "19  0.384200       NaN        NaN  Respiration rate  \n",
      "20  0.271629       NaN        NaN  Respiration rate  \n",
      "21  0.192821       NaN        NaN  Respiration rate  \n",
      "22  0.164699  1.599676   0.890523  Respiration rate  \n",
      "23  0.114075       NaN        NaN  Respiration rate  \n",
      "24  0.091604       NaN        NaN  Respiration rate  \n",
      "25  0.086036       NaN        NaN  Respiration rate  \n",
      "26  0.074847       NaN        NaN  Respiration rate  \n",
      "27  0.069268       NaN        NaN  Respiration rate  \n",
      "28  0.069361       NaN        NaN  Respiration rate  \n",
      "29  0.052625  1.662978   0.890523  Respiration rate  \n",
      "30  0.041602       NaN        NaN  Respiration rate  \n",
      "31  0.047700  1.684078        NaN  Respiration rate  \n",
      "32  0.042432       NaN        NaN  Respiration rate  \n",
      "33  0.048415       NaN        NaN  Respiration rate  \n",
      "34  0.043137       NaN        NaN  Respiration rate  \n",
      "35  0.043490       NaN        NaN  Respiration rate  \n",
      "36  0.027303       NaN        NaN  Respiration rate  \n",
      "37  0.027645       NaN        NaN  Respiration rate  \n",
      "38  0.022367       NaN        NaN  Respiration rate  \n",
      "39  0.022730       NaN        NaN  Respiration rate  \n",
      "40  0.028713  1.520550        NaN  Respiration rate  \n"
     ]
    },
    {
     "data": {
      "text/plain": [
       "(41, 18)"
      ]
     },
     "execution_count": 2,
     "metadata": {},
     "output_type": "execute_result"
    }
   ],
   "source": [
    "#read data\n",
    "d = pd.read_csv('/home/petacapek/Dokumenty/pracovni/data_statistika/Data_z_clanku/Marstorp1999/Marstorp1999.csv',\n",
    "               sep='\\t')\n",
    "\n",
    "#d = d[(d.time<0.3) | (d.time>0.8)]\n",
    "\n",
    "print(d)\n",
    "d.shape"
   ]
  },
  {
   "cell_type": "markdown",
   "metadata": {},
   "source": [
    "# Two pool model is defined"
   ]
  },
  {
   "cell_type": "code",
   "execution_count": 3,
   "metadata": {},
   "outputs": [],
   "source": [
    "def Twopool (y, t, pars):\n",
    "    #define initial states\n",
    "    G=y[0];    Br=y[1];    Bs=y[2]\n",
    "        \n",
    "    #define parameters\n",
    "    v=pars[0];   k=pars[1];     f=pars[2] \n",
    "    m=pars[3];   Y=pars[4]\n",
    "                        \n",
    "    #Define fluxes\n",
    "    ##glucose uptake\n",
    "    uptake=v*Bs*G/(k+G)\n",
    "    ##transfer function\n",
    "    transfer=f*Br\n",
    "    #death rate\n",
    "    death=m*Bs\n",
    "            \n",
    "    #Define derivatives\n",
    "    dGdt=-uptake\n",
    "    dBrdt=uptake-transfer\n",
    "    dBsdt=transfer*Y-death\n",
    "    \n",
    "    return dGdt, dBrdt, dBsdt;"
   ]
  },
  {
   "cell_type": "markdown",
   "metadata": {},
   "source": [
    "## Additional calculations are performed"
   ]
  },
  {
   "cell_type": "code",
   "execution_count": 17,
   "metadata": {},
   "outputs": [],
   "source": [
    "def calc (model, pars, t, y0):\n",
    "    #model parameters\n",
    "    pars_model=pars[0:5]\n",
    "    #conversion factors\n",
    "    conversions=pars[5:7]\n",
    "    \n",
    "    #solve the model\n",
    "    y=odeint(model,y0,t, args=(pars_model,))\n",
    "       \n",
    "    #calculate respiration rates\n",
    "    r=pars_model[2]*y[:, 1]*(1-pars_model[4])\n",
    "    \n",
    "    #calculate CFC\n",
    "    fs=d.Cmicinit[0]*conversions[1]/d.DNAinit[0]\n",
    "    CFC = conversions[0]*y[:, 1]+fs*y[:, 2]\n",
    "    CFC14 = (conversions[0]*y[:, 1]+fs*y[:, 2])-d.Cmicinit[0]\n",
    "    \n",
    "    #calculate DNA\n",
    "    DNA = conversions[1]*y[:, 2]\n",
    "    \n",
    "    #Create data with predictions\n",
    "    yhat = np.concatenate((y[:, 0].reshape(len(d.Time),1),#glucose\n",
    "                           r.reshape(len(d.Time),1),\n",
    "                           #CFC.reshape(len(d.Time),1),\n",
    "                           CFC14.reshape(len(d.Time),1),\n",
    "                           DNA.reshape(len(d.Time),1)), axis=1)\n",
    "    \n",
    "    return yhat"
   ]
  },
  {
   "cell_type": "markdown",
   "metadata": {},
   "source": [
    "## Objective function is defined"
   ]
  },
  {
   "cell_type": "code",
   "execution_count": 18,
   "metadata": {},
   "outputs": [],
   "source": [
    "def obj_fun (x):\n",
    "    #define parameters\n",
    "    pars = x\n",
    "    \n",
    "    #initial conditions\n",
    "    G_i = d.Sinit[0]\n",
    "    Bs_i = d.DNAinit[0]/pars[6]\n",
    "    #Br_i = (d.Cmicinit[0]-Bs_i*pars[6])/pars[5]      \n",
    "    y0 = np.array([G_i, 0, Bs_i])\n",
    "    \n",
    "    #times\n",
    "    t = d.Time\n",
    "    \n",
    "    #model simulations\n",
    "    yhat_full = calc(Twopool, pars, t, y0)\n",
    "         \n",
    "    #observations\n",
    "    obs=np.concatenate((np.array([d.S]).reshape(len(d.Time),1),\n",
    "                        np.array([d.CO212]).reshape(len(d.Time),1),\n",
    "                        #np.array([d.Cmic14+d.Cmic12]).reshape(len(d.Time),1),\n",
    "                        np.array([d.Cmic14]).reshape(len(d.Time),1),\n",
    "                        np.array([d.DNA]).reshape(len(d.Time),1)), \n",
    "                     axis=1)\n",
    "    \n",
    "    #weights\n",
    "    weights=np.concatenate((np.nanmean(d.S).repeat(len(d.Time)).reshape(len(d.Time),1),\n",
    "                            np.nanmean(d.CO212).repeat(len(d.Time)).reshape(len(d.Time),1),\n",
    "                            #np.nanmean((d.Cmic14+d.Cmic12)).repeat(len(d.Time)).reshape(len(d.Time),1),\n",
    "                            np.nanmean(d.Cmic14).repeat(len(d.Time)).reshape(len(d.Time),1),\n",
    "                            np.nanmean(d.DNA/5).repeat(len(d.Time)).reshape(len(d.Time),1)), \n",
    "                       axis=1)\n",
    "                \n",
    "          \n",
    "    out=np.nansum(((yhat_full-obs)/weights)**2)\n",
    "          \n",
    "    return out"
   ]
  },
  {
   "cell_type": "markdown",
   "metadata": {},
   "source": [
    "## Goodness of fit"
   ]
  },
  {
   "cell_type": "code",
   "execution_count": 19,
   "metadata": {},
   "outputs": [],
   "source": [
    "def goodness (x):\n",
    "    #define parameters\n",
    "    pars = x\n",
    "    \n",
    "    #initial conditions\n",
    "    G_i = d.Sinit[0]\n",
    "    Bs_i = d.DNAinit[0]/pars[6]\n",
    "    #Br_i = (d.Cmicinit[0]-Bs_i*pars[6])/pars[5]      \n",
    "    y0 = np.array([G_i, 0, Bs_i])\n",
    "    \n",
    "    #times\n",
    "    t = d.Time\n",
    "    \n",
    "    #model simulations\n",
    "    yhat_full = calc(Twopool, pars, t, y0)\n",
    "         \n",
    "    #observations\n",
    "    obs=np.concatenate((np.array([d.S]).reshape(len(d.Time),1),\n",
    "                        np.array([d.CO212]).reshape(len(d.Time),1),\n",
    "                        #np.array([d.Cmic14+d.Cmic12]).reshape(len(d.Time),1),\n",
    "                        np.array([d.Cmic14]).reshape(len(d.Time),1),\n",
    "                        np.array([d.DNA]).reshape(len(d.Time),1)), \n",
    "                     axis=1)\n",
    "    \n",
    "    R2=1-np.nansum((obs-yhat_full)**2)/np.nansum((obs-np.nanmean(obs))**2)\n",
    "    ll=-np.nansum((obs-yhat_full)**2)/2/np.nanstd(obs)**2\n",
    "    AIC = len(pars)*2 - 2*ll\n",
    "    \n",
    "    out = np.array([R2, ll, AIC])\n",
    "          \n",
    "    return out"
   ]
  },
  {
   "cell_type": "markdown",
   "metadata": {},
   "source": [
    "## Parameters estimation"
   ]
  },
  {
   "cell_type": "code",
   "execution_count": 22,
   "metadata": {},
   "outputs": [
    {
     "name": "stderr",
     "output_type": "stream",
     "text": [
      "/usr/lib/python3/dist-packages/ipykernel_launcher.py:7: RuntimeWarning: divide by zero encountered in double_scalars\n",
      "  import sys\n",
      "/home/petacapek/.local/lib/python3.6/site-packages/scipy/integrate/odepack.py:247: ODEintWarning: Illegal input detected (internal error). Run with full_output = 1 to get quantitative information.\n",
      "  warnings.warn(warning_msg, ODEintWarning)\n",
      "/usr/lib/python3/dist-packages/ipykernel_launcher.py:15: RuntimeWarning: invalid value encountered in multiply\n",
      "  from ipykernel import kernelapp as app\n",
      "/usr/lib/python3/dist-packages/ipykernel_launcher.py:16: RuntimeWarning: invalid value encountered in multiply\n",
      "  app.launch_new_instance()\n",
      "/usr/lib/python3/dist-packages/ipykernel_launcher.py:19: RuntimeWarning: invalid value encountered in multiply\n"
     ]
    },
    {
     "name": "stdout",
     "output_type": "stream",
     "text": [
      "     fun: 11.722808572858648\n",
      "     jac: array([ 1.18273924e-01,  1.26414736e+00,  1.18594912e-02,  2.30845387e-01,\n",
      "        1.54977542e-01, -1.67865721e-04, -3.87491994e-01])\n",
      " message: 'Optimization terminated successfully.'\n",
      "    nfev: 10428\n",
      "     nit: 91\n",
      " success: True\n",
      "       x: array([5.96960936e-01, 1.00000000e-03, 3.06296385e+00, 2.18985875e-02,\n",
      "       9.89421781e-01, 2.69237782e-01, 1.54466937e-02])\n"
     ]
    }
   ],
   "source": [
    "pars_opt=differential_evolution(obj_fun, [(1e-3, 10), (1e-3, 10), \n",
    "                                          (1e-3, 10), (1e-8, 1),\n",
    "                                          (0, 1), (0, 1),\n",
    "                                          (0, 1)], \n",
    "                                  polish=True, maxiter=1000000)\n",
    "\n",
    "print(pars_opt)"
   ]
  },
  {
   "cell_type": "code",
   "execution_count": 23,
   "metadata": {},
   "outputs": [
    {
     "name": "stdout",
     "output_type": "stream",
     "text": [
      "[ 0.97480358 -0.8692765  15.73855301]\n"
     ]
    }
   ],
   "source": [
    "print(goodness(pars_opt.x))\n",
    "np.savetxt('opt_pars.csv', pars_opt.x.reshape(1,7), delimiter=\",\")"
   ]
  },
  {
   "cell_type": "markdown",
   "metadata": {},
   "source": [
    "# Monod model is defined"
   ]
  },
  {
   "cell_type": "code",
   "execution_count": 199,
   "metadata": {},
   "outputs": [],
   "source": [
    "def Monod (y, t, pars):\n",
    "    #define initial states\n",
    "    G=y[0];    B=y[1]\n",
    "        \n",
    "    #define parameters\n",
    "    v=pars[0];   k=pars[1];\n",
    "    m=pars[2];   Y=pars[3]\n",
    "                        \n",
    "    #Define fluxes\n",
    "    ##glucose uptake\n",
    "    uptake=v*B*G/(k+G)\n",
    "    ##decay\n",
    "    decay=B*m\n",
    "            \n",
    "    #Define derivatives\n",
    "    dGdt=-uptake\n",
    "    dBdt=Y*uptake-decay\n",
    "       \n",
    "    \n",
    "    return dGdt, dBdt;"
   ]
  },
  {
   "cell_type": "markdown",
   "metadata": {},
   "source": [
    "## Additional calculations are performed"
   ]
  },
  {
   "cell_type": "code",
   "execution_count": 200,
   "metadata": {},
   "outputs": [],
   "source": [
    "def calc (model, pars, t, y0):\n",
    "    #model parameters\n",
    "    pars_model=pars[0:4]\n",
    "    #conversion factors\n",
    "    conversions=pars[4:6]\n",
    "    \n",
    "    #solve the model\n",
    "    y=odeint(model,y0,t, args=(pars_model,))\n",
    "       \n",
    "    #calculate respiration rates\n",
    "    r=pars_model[0]*y[:, 0]*y[:, 1]/(pars_model[1]+y[:, 0])*(1-pars_model[3])+(pars_model[2]*y[:, 1])\n",
    "    \n",
    "    #calculate CFC\n",
    "    CFC = conversions[0]*y[:, 1]\n",
    "    CFC14 = (conversions[0]*y[:, 1])-d.Cmicinit[0]\n",
    "    #calculate DNA\n",
    "    DNA = conversions[1]*y[:, 1]\n",
    "    \n",
    "    #Create data with predictions\n",
    "    yhat = np.concatenate((y[:, 0].reshape(len(d.Time),1),#glucose\n",
    "                           r.reshape(len(d.Time),1),\n",
    "                           #CFC.reshape(len(d.Time),1),\n",
    "                           CFC14.reshape(len(d.Time),1),\n",
    "                           DNA.reshape(len(d.Time),1)), axis=1)\n",
    "    \n",
    "    return yhat"
   ]
  },
  {
   "cell_type": "markdown",
   "metadata": {},
   "source": [
    "## Objective function is defined"
   ]
  },
  {
   "cell_type": "code",
   "execution_count": 201,
   "metadata": {},
   "outputs": [],
   "source": [
    "def obj_fun (x):\n",
    "    #define parameters\n",
    "    pars = x\n",
    "    \n",
    "    #initial conditions\n",
    "    G_i = d.Sinit[0]\n",
    "    B_i = d.Cmicinit[0]/pars[4]\n",
    "    y0 = np.array([G_i, B_i])\n",
    "    \n",
    "    #times\n",
    "    t = d.Time\n",
    "    \n",
    "    #model simulations\n",
    "    yhat_full = calc(Monod, pars, t, y0)\n",
    "         \n",
    "    #observations\n",
    "    obs=np.concatenate((np.array([d.S]).reshape(len(d.Time),1),\n",
    "                        np.array([d.CO212]).reshape(len(d.Time),1),\n",
    "                        #np.array([d.Cmic14+d.Cmic12]).reshape(len(d.Time),1),\n",
    "                        np.array([d.Cmic14]).reshape(len(d.Time),1),\n",
    "                        np.array([d.DNA]).reshape(len(d.Time),1)), \n",
    "                     axis=1)\n",
    "    \n",
    "    #weights\n",
    "    weights=np.concatenate((np.nanmean(d.S).repeat(len(d.Time)).reshape(len(d.Time),1),\n",
    "                            np.nanmean(d.CO212).repeat(len(d.Time)).reshape(len(d.Time),1),\n",
    "                            #np.nanmean((d.Cmic14+d.Cmic12)).repeat(len(d.Time)).reshape(len(d.Time),1),\n",
    "                            np.nanmean(d.Cmic14).repeat(len(d.Time)).reshape(len(d.Time),1),\n",
    "                            np.nanmean(d.DNA/5).repeat(len(d.Time)).reshape(len(d.Time),1)), \n",
    "                       axis=1)\n",
    "                \n",
    "          \n",
    "    out=np.nansum(((yhat_full-obs)/weights)**2)\n",
    "          \n",
    "    return out"
   ]
  },
  {
   "cell_type": "markdown",
   "metadata": {},
   "source": [
    "## Goodness of fit"
   ]
  },
  {
   "cell_type": "code",
   "execution_count": 202,
   "metadata": {},
   "outputs": [],
   "source": [
    "def goodness (x):\n",
    "    #define parameters\n",
    "    pars = x\n",
    "    \n",
    "    #initial conditions\n",
    "    G_i = d.Sinit[0]\n",
    "    B_i = d.Cmicinit[0]/pars[4]\n",
    "    y0 = np.array([G_i, B_i])\n",
    "    \n",
    "    #times\n",
    "    t = d.Time\n",
    "    \n",
    "    #model simulations\n",
    "    yhat_full = calc(Monod, pars, t, y0)\n",
    "         \n",
    "    #observations\n",
    "    obs=np.concatenate((np.array([d.S]).reshape(len(d.Time),1),\n",
    "                        np.array([d.CO212]).reshape(len(d.Time),1),\n",
    "                        #np.array([d.Cmic14+d.Cmic12]).reshape(len(d.Time),1),\n",
    "                        np.array([d.Cmic14]).reshape(len(d.Time),1),\n",
    "                        np.array([d.DNA]).reshape(len(d.Time),1)), \n",
    "                     axis=1)\n",
    "    \n",
    "    R2=1-np.nansum((obs-yhat_full)**2)/np.nansum((obs-np.nanmean(obs))**2)\n",
    "    ll=-np.nansum((obs-yhat_full)**2)/2/np.nanstd(obs)**2\n",
    "    AIC = len(pars)*2 - 2*ll\n",
    "    \n",
    "    out = np.array([R2, ll, AIC])\n",
    "          \n",
    "    return out"
   ]
  },
  {
   "cell_type": "markdown",
   "metadata": {},
   "source": [
    "## Parameters estimation"
   ]
  },
  {
   "cell_type": "code",
   "execution_count": 203,
   "metadata": {},
   "outputs": [
    {
     "name": "stdout",
     "output_type": "stream",
     "text": [
      "     fun: 17.196849317801696\n",
      " message: 'Optimization terminated successfully.'\n",
      "    nfev: 14061\n",
      "     nit: 155\n",
      " success: True\n",
      "       x: array([6.77383349e-01, 1.52867907e-02, 7.75178762e-04, 9.92333921e-01,\n",
      "       1.16884682e-01, 1.78518950e-02])\n"
     ]
    },
    {
     "name": "stderr",
     "output_type": "stream",
     "text": [
      "/usr/lib/python3/dist-packages/ipykernel_launcher.py:7: RuntimeWarning: divide by zero encountered in double_scalars\n",
      "  import sys\n",
      "/usr/lib/python3/dist-packages/ipykernel_launcher.py:17: RuntimeWarning: invalid value encountered in double_scalars\n",
      "/home/petacapek/.local/lib/python3.6/site-packages/scipy/integrate/odepack.py:247: ODEintWarning: Illegal input detected (internal error). Run with full_output = 1 to get quantitative information.\n",
      "  warnings.warn(warning_msg, ODEintWarning)\n",
      "/usr/lib/python3/dist-packages/ipykernel_launcher.py:11: RuntimeWarning: invalid value encountered in multiply\n",
      "  # This is added back by InteractiveShellApp.init_path()\n",
      "/usr/lib/python3/dist-packages/ipykernel_launcher.py:14: RuntimeWarning: invalid value encountered in multiply\n",
      "  \n",
      "/usr/lib/python3/dist-packages/ipykernel_launcher.py:15: RuntimeWarning: invalid value encountered in multiply\n",
      "  from ipykernel import kernelapp as app\n",
      "/usr/lib/python3/dist-packages/ipykernel_launcher.py:17: RuntimeWarning: invalid value encountered in multiply\n",
      "/usr/lib/python3/dist-packages/ipykernel_launcher.py:11: RuntimeWarning: invalid value encountered in add\n",
      "  # This is added back by InteractiveShellApp.init_path()\n"
     ]
    }
   ],
   "source": [
    "monod_opt=differential_evolution(obj_fun, [(1e-5, 10), (1e-5, 100),\n",
    "                                          (1e-8, 1), (0, 1), \n",
    "                                          (0, 1), (0, 0.1)], \n",
    "                                  polish=True, maxiter=1000000)\n",
    "\n",
    "print(monod_opt)"
   ]
  },
  {
   "cell_type": "code",
   "execution_count": 204,
   "metadata": {},
   "outputs": [
    {
     "name": "stdout",
     "output_type": "stream",
     "text": [
      "[ 0.98005895 -0.68796624 13.37593248]\n"
     ]
    }
   ],
   "source": [
    "print(goodness(monod_opt.x))\n",
    "np.savetxt('monod_opt.csv', monod_opt.x.reshape(1,6), delimiter=\",\")"
   ]
  }
 ],
 "metadata": {
  "kernelspec": {
   "display_name": "Python 3",
   "language": "python",
   "name": "python3"
  },
  "language_info": {
   "codemirror_mode": {
    "name": "ipython",
    "version": 3
   },
   "file_extension": ".py",
   "mimetype": "text/x-python",
   "name": "python",
   "nbconvert_exporter": "python",
   "pygments_lexer": "ipython3",
   "version": "3.6.9"
  }
 },
 "nbformat": 4,
 "nbformat_minor": 2
}
