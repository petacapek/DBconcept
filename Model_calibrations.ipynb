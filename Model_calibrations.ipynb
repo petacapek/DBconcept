# %% codecell
import numpy as np
import pandas as pd
from scipy.integrate import odeint
from scipy.optimize import dual_annealing

# %% markdown
## Marstorp and Witter 1999
### Sub-microbial model
#### The model is defined
# %% codecell
#read data
d = pd.read_csv('/mnt/580CBE2464C5F83D/pracovni/data_statistika/Data_z_clanku/DBconcept/Data/Marstorp1999.csv', sep=',')

#d = d[(d.time<0.3) | (d.time>0.8)]

print(d)
def Submodel (y, t, pars):
    #define initial states
    G=y[0];    Br=y[1];    Bs=y[2];     CO2=y[3]

    #define parameters
    v=pars[0];   k=pars[1];     f=pars[2]
    m=pars[3];   Y=pars[4]

    #Define fluxes
    ##glucose uptake
    uptake=v*Bs*G/(k+G)
    ##transfer function
    transfer=f*Br
    #death rate
    death=m*Bs

    #Define derivatives
    dGdt=-uptake
    dBrdt=uptake-transfer
    dBsdt=transfer*Y-death
    dCO2dt=transfer*(1-Y)

    return dGdt, dBrdt, dBsdt, dCO2dt;
# %% markdown
#### Additional calculations are performed
# %% codecell
def calc (model, pars, t, y0):
    #model parameters
    pars_model=pars[0:5]
    #conversion factors
    conversions=pars[5:7]

    #solve the model
    y=odeint(model,y0,t, args=(pars_model,))

    #calculate CFC
    fs=d.Cmicinit[0]*conversions[1]/d.DNAinit[0]
    CFC = conversions[0]*y[:, 1]+fs*y[:, 2]
    CFC14 = (conversions[0]*y[:, 1]+fs*y[:, 2])-d.Cmicinit[0]

    #calculate DNA
    DNA = conversions[1]*y[:, 2]

    #Create data with predictions
    yhat = np.concatenate((y[:, 0].reshape(len(d.Time),1),#glucose
                           y[:, 3].reshape(len(d.Time),1),
                           CFC.reshape(len(d.Time),1),
                           CFC14.reshape(len(d.Time),1),
                           DNA.reshape(len(d.Time),1)), axis=1)

    return yhat
# %% markdown
#### Objective function is defined
# %% codecell
def obj_fun (x):
    #define parameters
    pars = x

    #initial conditions
    G_i = d.Sinit[0]
    Bs_i = d.DNAinit[0]/pars[6]
    #Br_i = (d.Cmicinit[0]-Bs_i*pars[6])/pars[5]
    y0 = np.array([G_i, 0, Bs_i, 0])

    #times
    t = d.Time

    #model simulations
    yhat_full = calc(Submodel, pars, t, y0)

    #observations
    obs=np.concatenate((np.array([d.S]).reshape(len(d.Time),1),
                        np.array([d.CO212cumul]).reshape(len(d.Time),1),
                        np.array([d.Cmic14+d.Cmic12]).reshape(len(d.Time),1),
                        np.array([d.Cmic14]).reshape(len(d.Time),1),
                        np.array([d.DNA]).reshape(len(d.Time),1)),
                     axis=1)

    #weights
    weights=np.concatenate((np.nanmean(d.S).repeat(len(d.Time)).reshape(len(d.Time),1),
                            np.nanmean(d.CO212cumul).repeat(len(d.Time)).reshape(len(d.Time),1),
                            np.nanmean((d.Cmic14+d.Cmic12)/5).repeat(len(d.Time)).reshape(len(d.Time),1),
                            np.nanmean(d.Cmic14).repeat(len(d.Time)).reshape(len(d.Time),1),
                            np.nanmean(d.DNA).repeat(len(d.Time)).reshape(len(d.Time),1)),
                       axis=1)


    out=np.nansum(((yhat_full-obs)/weights)**2)

    return out
# %% markdown
#### Goodness of fit
# %% codecell
def goodness (x):
    #define parameters
    pars = x

    #initial conditions
    G_i = d.Sinit[0]
    Bs_i = d.DNAinit[0]/pars[6]
    #Br_i = (d.Cmicinit[0]-Bs_i*pars[6])/pars[5]
    y0 = np.array([G_i, 0, Bs_i, 0])

    #times
    t = d.Time

    #model simulations
    yhat_full = calc(Submodel, pars, t, y0)

    #observations
    obs=np.concatenate((np.array([d.S]).reshape(len(d.Time),1),
                        np.array([d.CO212cumul]).reshape(len(d.Time),1),
                        np.array([d.Cmic14+d.Cmic12]).reshape(len(d.Time),1),
                        np.array([d.Cmic14]).reshape(len(d.Time),1),
                        np.array([d.DNA]).reshape(len(d.Time),1)),
                     axis=1)

    R2=1-np.nansum((obs-yhat_full)**2)/np.nansum((obs-np.nanmean(obs))**2)
    ll=-np.nansum((obs-yhat_full)**2)/2/np.nanstd(obs)**2
    AIC = len(pars)*2 - 2*ll

    out = np.array([R2, ll, AIC])

    return out
# %% markdown
#### Parameters estimation
# %% codecell
marstorp_optpars=dual_annealing(obj_fun, [(1e-3, 10), (1e-3, 100), (1e-3, 10), (1e-8, 1), (0, 1), (0, 1),(0, 1)])
print(marstorp_optpars)
print(goodness(marstorp_optpars.x))
np.savetxt('/mnt/580CBE2464C5F83D/pracovni/data_statistika/Data_z_clanku/DBconcept/parameters/marstorp_optpars.csv', marstorp_optpars.x.reshape(1,7), delimiter=",")
# %% markdown
### Monod model
#### The model is defined
# %% codecell
def Monod (y, t, pars):
    #define initial states
    G=y[0];    B=y[1];     CO2=y[2]

    #define parameters
    v=pars[0];   k=pars[1];
    m=pars[2];   Y=pars[3]

    #Define fluxes
    ##glucose uptake
    uptake=v*B*G/(k+G)
    ##decay
    decay=B*m

    #Define derivatives
    dGdt=-uptake
    dBdt=Y*uptake-decay
    dCO2dt=(1-Y)*uptake

    return dGdt, dBdt, dCO2dt;
# %% markdown
#### Additional calculations are performed
# %% codecell
def monodcalc (model, pars, t, y0):
    #model parameters
    pars_model=pars[0:4]
    #conversion factors
    conversions=pars[4:6]

    #solve the model
    y=odeint(model,y0,t, args=(pars_model,))

    #calculate CFC
    CFC = conversions[0]*y[:, 1]
    CFC14 = (conversions[0]*y[:, 1])-d.Cmicinit[0]
    #calculate DNA
    DNA = conversions[1]*y[:, 1]

    #Create data with predictions
    yhat = np.concatenate((y[:, 0].reshape(len(d.Time),1),#glucose
                           y[:, 2].reshape(len(d.Time),1),
                           CFC.reshape(len(d.Time),1),
                           CFC14.reshape(len(d.Time),1),
                           DNA.reshape(len(d.Time),1)), axis=1)

    return yhat
# %% markdown
#### Objective function is defined
# %% codecell
def monodobj_fun (x):
    #define parameters
    pars = x

    #initial conditions
    G_i = d.Sinit[0]
    B_i = d.DNAinit[0]/pars[5]
    y0 = np.array([G_i, B_i, 0])

    #times
    t = d.Time

    #model simulations
    yhat_full = monodcalc(Monod, pars, t, y0)

    #observations
    obs=np.concatenate((np.array([d.S]).reshape(len(d.Time),1),
                        np.array([d.CO212cumul]).reshape(len(d.Time),1),
                        np.array([d.Cmic14+d.Cmic12]).reshape(len(d.Time),1),
                        np.array([d.Cmic14]).reshape(len(d.Time),1),
                        np.array([d.DNA]).reshape(len(d.Time),1)),
                     axis=1)

    #weights
    weights=np.concatenate((np.nanmean(d.S).repeat(len(d.Time)).reshape(len(d.Time),1),
                            np.nanmean(d.CO212cumul).repeat(len(d.Time)).reshape(len(d.Time),1),
                            np.nanmean((d.Cmic14+d.Cmic12)/5).repeat(len(d.Time)).reshape(len(d.Time),1),
                            np.nanmean(d.Cmic14).repeat(len(d.Time)).reshape(len(d.Time),1),
                            np.nanmean(d.DNA).repeat(len(d.Time)).reshape(len(d.Time),1)),
                       axis=1)


    out=np.nansum(((yhat_full-obs)/weights)**2)

    return out
# %% markdown
# ## Goodness of fit
# %% codecell
def monodgoodness (x):
    #define parameters
    pars = x

    #initial conditions
    G_i = d.Sinit[0]
    B_i = d.DNAinit[0]/pars[5]
    y0 = np.array([G_i, B_i, 0])

    #times
    t = d.Time

    #model simulations
    yhat_full = monodcalc(Monod, pars, t, y0)

    #observations
    obs=np.concatenate((np.array([d.S]).reshape(len(d.Time),1),
                        np.array([d.CO212cumul]).reshape(len(d.Time),1),
                        np.array([d.Cmic14+d.Cmic12]).reshape(len(d.Time),1),
                        np.array([d.Cmic14]).reshape(len(d.Time),1),
                        np.array([d.DNA]).reshape(len(d.Time),1)),
                     axis=1)

    R2=1-np.nansum((obs-yhat_full)**2)/np.nansum((obs-np.nanmean(obs))**2)
    ll=-np.nansum((obs-yhat_full)**2)/2/np.nanstd(obs)**2
    AIC = len(pars)*2 - 2*ll

    out = np.array([R2, ll, AIC])

    return out
# %% markdown
#### Parameters estimation
# %% codecell
marstorp_monodpars=dual_annealing(monodobj_fun, [(1e-3, 10), (1e-3, 100), (1e-8, 1), (0, 1), (0, 1), (0, 1)])

print(marstorp_monodpars)
print(monodgoodness(marstorp_monodpars.x))
np.savetxt('/mnt/580CBE2464C5F83D/pracovni/data_statistika/Data_z_clanku/DBconcept/parameters/marstorp_monodpars.csv', marstorp_monodpars.x.reshape(1,6), delimiter=",")

# %% markdown
## Santruckova et al. 1999
### Sub-microbial model
#### The model is defined
# %% codecell
#read data
d = pd.read_csv('/mnt/580CBE2464C5F83D/pracovni/data_statistika/Data_z_clanku/DBconcept/Data/Santruckova2004.csv', sep=',')

#d = d[(d.time<0.3) | (d.time>0.8)]

print(d)
def Submodel (y, t, pars):
    #define initial states
    G=y[0];    Br=y[1];    Bs=y[2];     CO2=y[3]

    #define parameters
    v=pars[0];   k=pars[1];     f=pars[2]
    m=pars[3];   Y=pars[4]

    #Define fluxes
    ##glucose uptake
    uptake=v*Bs*G/(k+G)
    ##transfer function
    transfer=f*Br
    #death rate
    death=m*Bs

    #Define derivatives
    dGdt=-uptake
    dBrdt=uptake-transfer
    dBsdt=transfer*Y-death
    dCO2dt=transfer*(1-Y)

    return dGdt, dBrdt, dBsdt, dCO2dt;
# %% markdown
#### Additional calculations are performed
# %% codecell
def calc (model, pars, t, y0):
    #model parameters
    pars_model=pars[0:5]
    #conversion factors
    conversions=pars[5:7]

    #solve the model
    y=odeint(model,y0,t, args=(pars_model,))

    #calculate CFC
    #CFC = conversions[0]*y[:, 1]+conversions[1]*y[:, 2]
    CFC14 = (conversions[0]*y[:, 1]+conversions[1]*y[:, 2])-d.Cmicinit[0]

    #Create data with predictions
    yhat = np.concatenate((y[:, 0].reshape(len(d.Time),1),#glucose
                           y[:, 3].reshape(len(d.Time),1),
                           CFC14.reshape(len(d.Time),1)), axis=1)

    return yhat
# %% markdown
#### Objective function is defined
# %% codecell
def obj_fun (x):
    #define parameters
    pars = x

    #initial conditions
    G_i = d.Sinit[0]
    Bs_i = d.Cmicinit[0]/pars[6]
    #Br_i = (d.Cmicinit[0]-Bs_i*pars[6])/pars[5]
    y0 = np.array([G_i, 0, Bs_i, 0])

    #times
    t = d.Time

    #model simulations
    yhat_full = calc(Submodel, pars, t, y0)

    #observations
    obs=np.concatenate((np.array([d.S]).reshape(len(d.Time),1),
                        np.array([d.CO214cumul]).reshape(len(d.Time),1),
                        np.array([d.Cmic14]).reshape(len(d.Time),1)),
                     axis=1)

    #weights
    weights=np.concatenate((np.nanmean(d.S).repeat(len(d.Time)).reshape(len(d.Time),1),
                            np.nanmean(d.CO214cumul).repeat(len(d.Time)).reshape(len(d.Time),1),
                            np.nanmean(d.Cmic14/5).repeat(len(d.Time)).reshape(len(d.Time),1)),
                       axis=1)


    out=np.nansum(((yhat_full-obs)/weights)**2)

    return out
# %% markdown
#### Goodness of fit
# %% codecell
def goodness (x):
    #define parameters
    pars = x

    #initial conditions
    G_i = d.Sinit[0]
    Bs_i = d.Cmicinit[0]/pars[6]
    #Br_i = (d.Cmicinit[0]-Bs_i*pars[6])/pars[5]
    y0 = np.array([G_i, 0, Bs_i, 0])

    #times
    t = d.Time

    #model simulations
    yhat_full = calc(Submodel, pars, t, y0)

    #observations
    obs=np.concatenate((np.array([d.S]).reshape(len(d.Time),1),
                        np.array([d.CO214cumul]).reshape(len(d.Time),1),
                        np.array([d.Cmic14]).reshape(len(d.Time),1)),
                     axis=1)

    R2=1-np.nansum((obs-yhat_full)**2)/np.nansum((obs-np.nanmean(obs))**2)
    ll=-np.nansum((obs-yhat_full)**2)/2/np.nanstd(obs)**2
    AIC = len(pars)*2 - 2*ll

    out = np.array([R2, ll, AIC])

    return out
# %% markdown
#### Parameters estimation
# %% codecell
hasan_optpars=dual_annealing(obj_fun, [(1e-3, 10), (1e-3, 100), (1e-3, 10), (1e-8, 1), (0, 1), (0, 1),(0, 1)])
print(hasan_optpars)
print(goodness(hasan_optpars.x))
np.savetxt('/mnt/580CBE2464C5F83D/pracovni/data_statistika/Data_z_clanku/DBconcept/parameters/hasan_optpars.csv', hasan_optpars.x.reshape(1,7), delimiter=",")
# %% markdown
### Monod model
#### The model is defined
# %% codecell
def Monod (y, t, pars):
    #define initial states
    G=y[0];    B=y[1];     CO2=y[2]

    #define parameters
    v=pars[0];   k=pars[1];
    m=pars[2];   Y=pars[3]

    #Define fluxes
    ##glucose uptake
    uptake=v*B*G/(k+G)
    ##decay
    decay=B*m

    #Define derivatives
    dGdt=-uptake
    dBdt=Y*uptake-decay
    dCO2dt=(1-Y)*uptake

    return dGdt, dBdt, dCO2dt;
# %% markdown
#### Additional calculations are performed
# %% codecell
def monodcalc (model, pars, t, y0):
    #model parameters
    pars_model=pars[0:4]
    #conversion factors
    conversions=pars[4]

    #solve the model
    y=odeint(model,y0,t, args=(pars_model,))

    #calculate CFC
    #CFC = conversions*y[:, 1]
    CFC14 = (conversions*y[:, 1])-d.Cmicinit[0]

    #Create data with predictions
    yhat = np.concatenate((y[:, 0].reshape(len(d.Time),1),#glucose
                           y[:, 2].reshape(len(d.Time),1),
                           CFC14.reshape(len(d.Time),1)), axis=1)

    return yhat
# %% markdown
#### Objective function is defined
# %% codecell
def monodobj_fun (x):
    #define parameters
    pars = x

    #initial conditions
    G_i = d.Sinit[0]
    B_i = d.Cmicinit[0]/pars[4]
    y0 = np.array([G_i, B_i, 0])

    #times
    t = d.Time

    #model simulations
    yhat_full = monodcalc(Monod, pars, t, y0)

    #observations
    obs=np.concatenate((np.array([d.S]).reshape(len(d.Time),1),
                        np.array([d.CO214cumul]).reshape(len(d.Time),1),
                        np.array([d.Cmic14]).reshape(len(d.Time),1)),
                     axis=1)

    #weights
    weights=np.concatenate((np.nanmean(d.S).repeat(len(d.Time)).reshape(len(d.Time),1),
                            np.nanmean(d.CO214cumul).repeat(len(d.Time)).reshape(len(d.Time),1),
                            np.nanmean(d.Cmic14/5).repeat(len(d.Time)).reshape(len(d.Time),1)),
                       axis=1)


    out=np.nansum(((yhat_full-obs)/weights)**2)

    return out
# %% markdown
# ## Goodness of fit
# %% codecell
def monodgoodness (x):
    #define parameters
    pars = x

    #initial conditions
    G_i = d.Sinit[0]
    B_i = d.Cmicinit[0]/pars[4]
    y0 = np.array([G_i, B_i, 0])

    #times
    t = d.Time

    #model simulations
    yhat_full = monodcalc(Monod, pars, t, y0)

    #observations
    obs=np.concatenate((np.array([d.S]).reshape(len(d.Time),1),
                        np.array([d.CO214cumul]).reshape(len(d.Time),1),
                        np.array([d.Cmic14]).reshape(len(d.Time),1)),
                     axis=1)

    R2=1-np.nansum((obs-yhat_full)**2)/np.nansum((obs-np.nanmean(obs))**2)
    ll=-np.nansum((obs-yhat_full)**2)/2/np.nanstd(obs)**2
    AIC = len(pars)*2 - 2*ll

    out = np.array([R2, ll, AIC])

    return out
# %% markdown
#### Parameters estimation
# %% codecell
hasan_monodpars=dual_annealing(monodobj_fun, [(1e-3, 10), (1e-3, 100), (1e-8, 1), (0, 1), (0, 1)])

print(hasan_monodpars)
print(monodgoodness(hasan_monodpars.x))
np.savetxt('/mnt/580CBE2464C5F83D/pracovni/data_statistika/Data_z_clanku/DBconcept/parameters/hasan_monodpars.csv', hasan_monodpars.x.reshape(1,5), delimiter=",")

# %% markdown
## Ziegler et al. 2005
### Sub-microbial model
#### The model is defined
# %% codecell
#read data
d = pd.read_csv('/mnt/580CBE2464C5F83D/pracovni/data_statistika/Data_z_clanku/DBconcept/Data/Ziegler2005.csv', sep=',')

#d = d[(d.time<0.3) | (d.time>0.8)]

print(d)
def Submodel (y, t, pars):
    #define initial states
    G=y[0];    Br=y[1];    Bs=y[2];     CO2=y[3]

    #define parameters
    v=pars[0];   k=pars[1];     f=pars[2]
    m=pars[3];   Y=pars[4]

    #Define fluxes
    ##glucose uptake
    uptake=v*Bs*G/(k+G)
    ##transfer function
    transfer=f*Br
    #death rate
    death=m*Bs

    #Define derivatives
    dGdt=-uptake
    dBrdt=uptake-transfer
    dBsdt=transfer*Y-death
    dCO2dt=transfer*(1-Y)

    return dGdt, dBrdt, dBsdt, dCO2dt;
# %% markdown
#### Additional calculations are performed
# %% codecell
def calc (model, pars, t, y0):
    #model parameters
    pars_model=pars[0:5]
    #conversion factors
    conversions=pars[5:7]

    #solve the model
    y=odeint(model,y0,t, args=(pars_model,))

    #calculate CFC
    CFC = conversions[0]*y[:, 1]+conversions[1]*y[:, 2]
    #CFC14 = (conversions[0]*y[:, 1]+conversions[1]*y[:, 2])-d.Cmicinit[0]

    #Create data with predictions
    yhat = np.concatenate((y[:, 0].reshape(len(d.Time),1),#glucose
                           y[:, 3].reshape(len(d.Time),1),
                           CFC.reshape(len(d.Time),1)), axis=1)

    return yhat
# %% markdown
#### Objective function is defined
# %% codecell
def obj_fun (x):
    #define parameters
    pars = x

    #initial conditions
    G_i = d.Sinit[0]
    Bs_i = d.Cmicinit[0]/pars[6]
    #Br_i = (d.Cmicinit[0]-Bs_i*pars[6])/pars[5]
    y0 = np.array([G_i, 0, Bs_i, 0])

    #times
    t = d.Time

    #model simulations
    yhat_full = calc(Submodel, pars, t, y0)

    #observations
    obs=np.concatenate((np.array([d.S]).reshape(len(d.Time),1),
                        np.array([d.CO2]).reshape(len(d.Time),1),
                        np.array([d.Cmic]).reshape(len(d.Time),1)),
                     axis=1)

    #weights
    weights=np.concatenate((np.nanmean(d.S).repeat(len(d.Time)).reshape(len(d.Time),1),
                            np.nanmean(d.CO2).repeat(len(d.Time)).reshape(len(d.Time),1),
                            np.nanmean(d.Cmic/5).repeat(len(d.Time)).reshape(len(d.Time),1)),
                       axis=1)


    out=np.nansum(((yhat_full-obs)/weights)**2)

    return out
# %% markdown
#### Goodness of fit
# %% codecell
def goodness (x):
    #define parameters
    pars = x

    #initial conditions
    G_i = d.Sinit[0]
    Bs_i = d.Cmicinit[0]/pars[6]
    #Br_i = (d.Cmicinit[0]-Bs_i*pars[6])/pars[5]
    y0 = np.array([G_i, 0, Bs_i, 0])

    #times
    t = d.Time

    #model simulations
    yhat_full = calc(Submodel, pars, t, y0)

    #observations
    obs=np.concatenate((np.array([d.S]).reshape(len(d.Time),1),
                        np.array([d.CO2]).reshape(len(d.Time),1),
                        np.array([d.Cmic]).reshape(len(d.Time),1)),
                     axis=1)

    R2=1-np.nansum((obs-yhat_full)**2)/np.nansum((obs-np.nanmean(obs))**2)
    ll=-np.nansum((obs-yhat_full)**2)/2/np.nanstd(obs)**2
    AIC = len(pars)*2 - 2*ll

    out = np.array([R2, ll, AIC])

    return out
# %% markdown
#### Parameters estimation
# %% codecell
ziegler_optpars=dual_annealing(obj_fun, [(1e-3, 10), (1e-3, 100), (1e-3, 10), (1e-8, 1), (0, 1), (0, 1),(0, 1)])
print(ziegler_optpars)
print(goodness(ziegler_optpars.x))
np.savetxt('/mnt/580CBE2464C5F83D/pracovni/data_statistika/Data_z_clanku/DBconcept/parameters/ziegler_optpars.csv', ziegler_optpars.x.reshape(1,7), delimiter=",")
# %% markdown
### Monod model
#### The model is defined
# %% codecell
def Monod (y, t, pars):
    #define initial states
    G=y[0];    B=y[1];     CO2=y[2]

    #define parameters
    v=pars[0];   k=pars[1];
    m=pars[2];   Y=pars[3]

    #Define fluxes
    ##glucose uptake
    uptake=v*B*G/(k+G)
    ##decay
    decay=B*m

    #Define derivatives
    dGdt=-uptake
    dBdt=Y*uptake-decay
    dCO2dt=(1-Y)*uptake

    return dGdt, dBdt, dCO2dt;
# %% markdown
#### Additional calculations are performed
# %% codecell
def monodcalc (model, pars, t, y0):
    #model parameters
    pars_model=pars[0:4]
    #conversion factors
    conversions=pars[4]

    #solve the model
    y=odeint(model,y0,t, args=(pars_model,))

    #calculate CFC
    CFC = conversions*y[:, 1]
    #CFC14 = (conversions*y[:, 1])-d.Cmicinit[0]

    #Create data with predictions
    yhat = np.concatenate((y[:, 0].reshape(len(d.Time),1),#glucose
                           y[:, 2].reshape(len(d.Time),1),
                           CFC.reshape(len(d.Time),1)), axis=1)

    return yhat
# %% markdown
#### Objective function is defined
# %% codecell
def monodobj_fun (x):
    #define parameters
    pars = x

    #initial conditions
    G_i = d.Sinit[0]
    B_i = d.Cmicinit[0]/pars[4]
    y0 = np.array([G_i, B_i, 0])

    #times
    t = d.Time

    #model simulations
    yhat_full = monodcalc(Monod, pars, t, y0)

    #observations
    obs=np.concatenate((np.array([d.S]).reshape(len(d.Time),1),
                        np.array([d.CO2]).reshape(len(d.Time),1),
                        np.array([d.Cmic]).reshape(len(d.Time),1)),
                     axis=1)

    #weights
    weights=np.concatenate((np.nanmean(d.S).repeat(len(d.Time)).reshape(len(d.Time),1),
                            np.nanmean(d.CO2).repeat(len(d.Time)).reshape(len(d.Time),1),
                            np.nanmean(d.Cmic/5).repeat(len(d.Time)).reshape(len(d.Time),1)),
                       axis=1)


    out=np.nansum(((yhat_full-obs)/weights)**2)

    return out
# %% markdown
# ## Goodness of fit
# %% codecell
def monodgoodness (x):
    #define parameters
    pars = x

    #initial conditions
    G_i = d.Sinit[0]
    B_i = d.Cmicinit[0]/pars[4]
    y0 = np.array([G_i, B_i, 0])

    #times
    t = d.Time

    #model simulations
    yhat_full = monodcalc(Monod, pars, t, y0)

    #observations
    obs=np.concatenate((np.array([d.S]).reshape(len(d.Time),1),
                        np.array([d.CO2]).reshape(len(d.Time),1),
                        np.array([d.Cmic]).reshape(len(d.Time),1)),
                     axis=1)

    R2=1-np.nansum((obs-yhat_full)**2)/np.nansum((obs-np.nanmean(obs))**2)
    ll=-np.nansum((obs-yhat_full)**2)/2/np.nanstd(obs)**2
    AIC = len(pars)*2 - 2*ll

    out = np.array([R2, ll, AIC])

    return out
# %% markdown
#### Parameters estimation
# %% codecell
ziegler_monodpars=dual_annealing(monodobj_fun, [(1e-3, 10), (1e-3, 100), (1e-8, 1), (0, 1), (0, 1)])

print(ziegler_monodpars)
print(monodgoodness(ziegler_monodpars.x))
np.savetxt('/mnt/580CBE2464C5F83D/pracovni/data_statistika/Data_z_clanku/DBconcept/parameters/ziegler_monodpars.csv', ziegler_monodpars.x.reshape(1,5), delimiter=",")

# %% markdown
## Blagodatskaya et al. 2014
### Sub-microbial model
#### The model is defined
# %% codecell
#read data
d = pd.read_csv('/mnt/580CBE2464C5F83D/pracovni/data_statistika/Data_z_clanku/DBconcept/Data/Blagodatskaya2014.csv', sep=',')

#d = d[(d.time<0.3) | (d.time>0.8)]

print(d)
def Submodel (y, t, pars):
    #define initial states
    G=y[0];    Br=y[1];    Bs=y[2];     CO2=y[3]

    #define parameters
    v=pars[0];   k=pars[1];     f=pars[2]
    m=pars[3];   Y=pars[4]

    #Define fluxes
    ##glucose uptake
    uptake=v*Bs*G/(k+G)
    ##transfer function
    transfer=f*Br
    #death rate
    death=m*Bs

    #Define derivatives
    dGdt=-uptake
    dBrdt=uptake-transfer
    dBsdt=transfer*Y-death
    dCO2dt=transfer*(1-Y)

    return dGdt, dBrdt, dBsdt, dCO2dt;
# %% markdown
#### Additional calculations are performed
# %% codecell
def calc (model, pars, t, y0):
    #model parameters
    pars_model=pars[0:5]
    #conversion factors
    conversions=pars[5:7]

    #solve the model
    y=odeint(model,y0,t, args=(pars_model,))

    #calculate CFC
    #CFC = conversions[0]*y[:, 1]+conversions[1]*y[:, 2]
    CFC14 = (conversions[0]*y[:, 1]+conversions[1]*y[:, 2])-d.Cmicinit[0]

    #Create data with predictions
    yhat = np.concatenate((y[:, 3].reshape(len(d.Time),1),
                           CFC14.reshape(len(d.Time),1)), axis=1)

    return yhat
# %% markdown
#### Objective function is defined
# %% codecell
def obj_fun (x):
    #define parameters
    pars = x

    #initial conditions
    G_i = d.Sinit[0]
    Bs_i = d.Cmicinit[0]/pars[6]
    #Br_i = (d.Cmicinit[0]-Bs_i*pars[6])/pars[5]
    y0 = np.array([G_i, 0, Bs_i, 0])

    #times
    t = d.Time

    #model simulations
    yhat_full = calc(Submodel, pars, t, y0)

    #observations
    obs=np.concatenate((np.array([d.CO214]).reshape(len(d.Time),1),
                        np.array([d.Cmic14]).reshape(len(d.Time),1)),
                     axis=1)

    #weights
    weights=np.concatenate((np.nanmean(d.CO214).repeat(len(d.Time)).reshape(len(d.Time),1),
                            np.nanmean(d.Cmic14/5).repeat(len(d.Time)).reshape(len(d.Time),1)),
                       axis=1)


    out=np.nansum(((yhat_full-obs)/weights)**2)

    return out
# %% markdown
#### Goodness of fit
# %% codecell
def goodness (x):
    #define parameters
    pars = x

    #initial conditions
    G_i = d.Sinit[0]
    Bs_i = d.Cmicinit[0]/pars[6]
    #Br_i = (d.Cmicinit[0]-Bs_i*pars[6])/pars[5]
    y0 = np.array([G_i, 0, Bs_i, 0])

    #times
    t = d.Time

    #model simulations
    yhat_full = calc(Submodel, pars, t, y0)

    #observations
    obs=np.concatenate((np.array([d.CO214]).reshape(len(d.Time),1),
                        np.array([d.Cmic14]).reshape(len(d.Time),1)),
                     axis=1)

    R2=1-np.nansum((obs-yhat_full)**2)/np.nansum((obs-np.nanmean(obs))**2)
    ll=-np.nansum((obs-yhat_full)**2)/2/np.nanstd(obs)**2
    AIC = len(pars)*2 - 2*ll

    out = np.array([R2, ll, AIC])

    return out
# %% markdown
#### Parameters estimation
# %% codecell
blag_optpars=dual_annealing(obj_fun, [(1e-3, 10), (1e-3, 100), (1e-3, 10), (1e-8, 1), (0, 1), (0, 1),(0, 1)])
print(blag_optpars)
print(goodness(blag_optpars.x))
np.savetxt('/mnt/580CBE2464C5F83D/pracovni/data_statistika/Data_z_clanku/DBconcept/parameters/blag_optpars.csv', blag_optpars.x.reshape(1,7), delimiter=",")
# %% markdown
### Monod model
#### The model is defined
# %% codecell
def Monod (y, t, pars):
    #define initial states
    G=y[0];    B=y[1];     CO2=y[2]

    #define parameters
    v=pars[0];   k=pars[1];
    m=pars[2];   Y=pars[3]

    #Define fluxes
    ##glucose uptake
    uptake=v*B*G/(k+G)
    ##decay
    decay=B*m

    #Define derivatives
    dGdt=-uptake
    dBdt=Y*uptake-decay
    dCO2dt=(1-Y)*uptake

    return dGdt, dBdt, dCO2dt;
# %% markdown
#### Additional calculations are performed
# %% codecell
def monodcalc (model, pars, t, y0):
    #model parameters
    pars_model=pars[0:4]
    #conversion factors
    conversions=pars[4]

    #solve the model
    y=odeint(model,y0,t, args=(pars_model,))

    #calculate CFC
    #CFC = conversions*y[:, 1]
    CFC14 = (conversions*y[:, 1])-d.Cmicinit[0]

    #Create data with predictions
    yhat = np.concatenate((y[:, 2].reshape(len(d.Time),1),
                           CFC14.reshape(len(d.Time),1)), axis=1)

    return yhat
# %% markdown
#### Objective function is defined
# %% codecell
def monodobj_fun (x):
    #define parameters
    pars = x

    #initial conditions
    G_i = d.Sinit[0]
    B_i = d.Cmicinit[0]/pars[4]
    y0 = np.array([G_i, B_i, 0])

    #times
    t = d.Time

    #model simulations
    yhat_full = monodcalc(Monod, pars, t, y0)

    #observations
    obs=np.concatenate((np.array([d.CO214]).reshape(len(d.Time),1),
                        np.array([d.Cmic14]).reshape(len(d.Time),1)),
                     axis=1)

    #weights
    weights=np.concatenate((np.nanmean(d.CO214).repeat(len(d.Time)).reshape(len(d.Time),1),
                            np.nanmean(d.Cmic14/5).repeat(len(d.Time)).reshape(len(d.Time),1)),
                       axis=1)


    out=np.nansum(((yhat_full-obs)/weights)**2)

    return out
# %% markdown
# ## Goodness of fit
# %% codecell
def monodgoodness (x):
    #define parameters
    pars = x

    #initial conditions
    G_i = d.Sinit[0]
    B_i = d.Cmicinit[0]/pars[4]
    y0 = np.array([G_i, B_i, 0])

    #times
    t = d.Time

    #model simulations
    yhat_full = monodcalc(Monod, pars, t, y0)

    #observations
    obs=np.concatenate((np.array([d.CO214]).reshape(len(d.Time),1),
                        np.array([d.Cmic14]).reshape(len(d.Time),1)),
                     axis=1)

    R2=1-np.nansum((obs-yhat_full)**2)/np.nansum((obs-np.nanmean(obs))**2)
    ll=-np.nansum((obs-yhat_full)**2)/2/np.nanstd(obs)**2
    AIC = len(pars)*2 - 2*ll

    out = np.array([R2, ll, AIC])

    return out
# %% markdown
#### Parameters estimation
# %% codecell
blag_monodpars=dual_annealing(monodobj_fun, [(1e-3, 10), (1e-3, 100), (1e-8, 1), (0, 1), (0, 1)])

print(blag_monodpars)
print(monodgoodness(blag_monodpars.x))
np.savetxt('/mnt/580CBE2464C5F83D/pracovni/data_statistika/Data_z_clanku/DBconcept/parameters/blag_monodpars.csv', blag_monodpars.x.reshape(1,5), delimiter=",")

# %% markdown
## Blagodatskaya et al. 2011
### Sub-microbial model
#### The model is defined
# %% codecell
#read data
d = pd.read_csv('/mnt/580CBE2464C5F83D/pracovni/data_statistika/Data_z_clanku/DBconcept/Data/Blagodatskaya2011.csv', sep=',')

#d = d[(d.time<0.3) | (d.time>0.8)]

print(d)
def Submodel (y, t, pars):
    #define initial states
    G=y[0];    Br=y[1];    Bs=y[2];     CO2=y[3]

    #define parameters
    v=pars[0];   k=pars[1];     f=pars[2]
    m=pars[3];   Y=pars[4]

    #Define fluxes
    ##glucose uptake
    uptake=v*Bs*G/(k+G)
    ##transfer function
    transfer=f*Br
    #death rate
    death=m*Bs

    #Define derivatives
    dGdt=-uptake
    dBrdt=uptake-transfer
    dBsdt=transfer*Y-death
    dCO2dt=transfer*(1-Y)

    return dGdt, dBrdt, dBsdt, dCO2dt;
# %% markdown
#### Additional calculations are performed
# %% codecell
def calc (model, pars, t, y0):
    #model parameters
    pars_model=pars[0:5]
    #conversion factors
    conversions=pars[5:7]

    #solve the model
    y=odeint(model,y0,t, args=(pars_model,))

    #calculate CFC
    #CFC = conversions[0]*y[:, 1]+conversions[1]*y[:, 2]
    CFC14 = (conversions[0]*y[:, 1]+conversions[1]*y[:, 2])-d.Cmicinit[0]

    #Create data with predictions
    yhat = np.concatenate((y[:, 3].reshape(len(d.Time),1),
                           CFC14.reshape(len(d.Time),1)), axis=1)

    return yhat
# %% markdown
#### Objective function is defined
# %% codecell
def obj_fun (x):
    #define parameters
    pars = x

    #initial conditions
    G_i = d.Sinit[0]
    Bs_i = d.Cmicinit[0]/pars[6]
    #Br_i = (d.Cmicinit[0]-Bs_i*pars[6])/pars[5]
    y0 = np.array([G_i, 0, Bs_i, 0])

    #times
    t = d.Time

    #model simulations
    yhat_full = calc(Submodel, pars, t, y0)

    #observations
    obs=np.concatenate((np.array([d.CO214]).reshape(len(d.Time),1),
                        np.array([d.Cmic14]).reshape(len(d.Time),1)),
                     axis=1)

    #weights
    weights=np.concatenate((np.nanmean(d.CO214).repeat(len(d.Time)).reshape(len(d.Time),1),
                            np.nanmean(d.Cmic14/5).repeat(len(d.Time)).reshape(len(d.Time),1)),
                       axis=1)


    out=np.nansum(((yhat_full-obs)/weights)**2)

    return out
# %% markdown
#### Goodness of fit
# %% codecell
def goodness (x):
    #define parameters
    pars = x

    #initial conditions
    G_i = d.Sinit[0]
    Bs_i = d.Cmicinit[0]/pars[6]
    #Br_i = (d.Cmicinit[0]-Bs_i*pars[6])/pars[5]
    y0 = np.array([G_i, 0, Bs_i, 0])

    #times
    t = d.Time

    #model simulations
    yhat_full = calc(Submodel, pars, t, y0)

    #observations
    obs=np.concatenate((np.array([d.CO214]).reshape(len(d.Time),1),
                        np.array([d.Cmic14]).reshape(len(d.Time),1)),
                     axis=1)

    R2=1-np.nansum((obs-yhat_full)**2)/np.nansum((obs-np.nanmean(obs))**2)
    ll=-np.nansum((obs-yhat_full)**2)/2/np.nanstd(obs)**2
    AIC = len(pars)*2 - 2*ll

    out = np.array([R2, ll, AIC])

    return out
# %% markdown
#### Parameters estimation
# %% codecell
blag11_optpars=dual_annealing(obj_fun, [(1e-3, 10), (1e-3, 100), (1e-3, 10), (1e-8, 1), (0, 1), (0, 1),(0, 1)])
print(blag11_optpars)
print(goodness(blag11_optpars.x))
np.savetxt('/mnt/580CBE2464C5F83D/pracovni/data_statistika/Data_z_clanku/DBconcept/parameters/blag11_optpars.csv', blag11_optpars.x.reshape(1,7), delimiter=",")
# %% markdown
### Monod model
#### The model is defined
# %% codecell
def Monod (y, t, pars):
    #define initial states
    G=y[0];    B=y[1];     CO2=y[2]

    #define parameters
    v=pars[0];   k=pars[1];
    m=pars[2];   Y=pars[3]

    #Define fluxes
    ##glucose uptake
    uptake=v*B*G/(k+G)
    ##decay
    decay=B*m

    #Define derivatives
    dGdt=-uptake
    dBdt=Y*uptake-decay
    dCO2dt=(1-Y)*uptake

    return dGdt, dBdt, dCO2dt;
# %% markdown
#### Additional calculations are performed
# %% codecell
def monodcalc (model, pars, t, y0):
    #model parameters
    pars_model=pars[0:4]
    #conversion factors
    conversions=pars[4]

    #solve the model
    y=odeint(model,y0,t, args=(pars_model,))

    #calculate CFC
    #CFC = conversions*y[:, 1]
    CFC14 = (conversions*y[:, 1])-d.Cmicinit[0]

    #Create data with predictions
    yhat = np.concatenate((y[:, 2].reshape(len(d.Time),1),
                           CFC14.reshape(len(d.Time),1)), axis=1)

    return yhat
# %% markdown
#### Objective function is defined
# %% codecell
def monodobj_fun (x):
    #define parameters
    pars = x

    #initial conditions
    G_i = d.Sinit[0]
    B_i = d.Cmicinit[0]/pars[4]
    y0 = np.array([G_i, B_i, 0])

    #times
    t = d.Time

    #model simulations
    yhat_full = monodcalc(Monod, pars, t, y0)

    #observations
    obs=np.concatenate((np.array([d.CO214]).reshape(len(d.Time),1),
                        np.array([d.Cmic14]).reshape(len(d.Time),1)),
                     axis=1)

    #weights
    weights=np.concatenate((np.nanmean(d.CO214).repeat(len(d.Time)).reshape(len(d.Time),1),
                            np.nanmean(d.Cmic14/5).repeat(len(d.Time)).reshape(len(d.Time),1)),
                       axis=1)


    out=np.nansum(((yhat_full-obs)/weights)**2)

    return out
# %% markdown
# ## Goodness of fit
# %% codecell
def monodgoodness (x):
    #define parameters
    pars = x

    #initial conditions
    G_i = d.Sinit[0]
    B_i = d.Cmicinit[0]/pars[4]
    y0 = np.array([G_i, B_i, 0])

    #times
    t = d.Time

    #model simulations
    yhat_full = monodcalc(Monod, pars, t, y0)

    #observations
    obs=np.concatenate((np.array([d.CO214]).reshape(len(d.Time),1),
                        np.array([d.Cmic14]).reshape(len(d.Time),1)),
                     axis=1)

    R2=1-np.nansum((obs-yhat_full)**2)/np.nansum((obs-np.nanmean(obs))**2)
    ll=-np.nansum((obs-yhat_full)**2)/2/np.nanstd(obs)**2
    AIC = len(pars)*2 - 2*ll

    out = np.array([R2, ll, AIC])

    return out
# %% markdown
#### Parameters estimation
# %% codecell
blag11_monodpars=dual_annealing(monodobj_fun, [(1e-3, 10), (1e-3, 100), (1e-8, 1), (0, 1), (0, 1)])

print(blag11_monodpars)
print(monodgoodness(blag11_monodpars.x))
np.savetxt('/mnt/580CBE2464C5F83D/pracovni/data_statistika/Data_z_clanku/DBconcept/parameters/blag11_monodpars.csv', blag11_monodpars.x.reshape(1,5), delimiter=",")

# %% markdown
## Tsai et al. 1997
### Sub-microbial model
#### The model is defined
# %% codecell
#read data
d = pd.read_csv('/mnt/580CBE2464C5F83D/pracovni/data_statistika/Data_z_clanku/DBconcept/Data/Tsai1997.csv', sep=',')
d1 = d[(d.Treatment=='HighG')]
d2 = d[(d.Treatment=='LowG')]
d2.reset_index(inplace=True)

print(d2)

def Submodel (y, t, pars):
    #define initial states
    G=y[0];    Br=y[1];    Bs=y[2];     CO2=y[3]

    #define parameters
    v=pars[0];   k=pars[1];     f=pars[2]
    m=pars[3];   Y=pars[4];

    #Define fluxes
    ##glucose uptake
    uptake=v*Bs*G/(k+G)
    ##transfer function
    transfer=f*Br
    #death rate
    death=m*Bs

    #Define derivatives
    dGdt=-uptake
    dBrdt=uptake-transfer
    dBsdt=transfer*Y-death
    dCO2dt=transfer*(1-Y)

    return dGdt, dBrdt, dBsdt, dCO2dt;
# %% markdown
#### Additional calculations are performed
# %% codecell
def calc (model, pars, t, y0):
    #model parameters
    pars_model=pars[0:5]
    #conversion factors
    conversions=pars[5:9]

    #solve the model
    y=odeint(model,y0,t, args=(pars_model,))

    #calculate CFC
    CFC = conversions[0]*y[:, 1]+conversions[1]*y[:, 2]
    ATP = conversions[2]*y[:, 1]+conversions[3]*y[:, 2]
    #CFC14 = (conversions[0]*y[:, 1]+conversions[1]*y[:, 2])-d.Cmicinit[0]


    #Create data with predictions
    yhat = np.concatenate((y[:, 3].reshape(len(d1.Time),1),
                           CFC.reshape(len(d1.Time),1),
                           ATP.reshape(len(d1.Time),1)), axis=1)

    return yhat
# %% markdown
#### Objective function is defined
# %% codecell
def obj_fun (x):
    #define parameters
    pars = x

    #initial conditions
    G_i1 = d1.Sinit[0]
    G_i2 = d2.Sinit[0]
    Bs_i = d1.Cmicinit[0]/pars[6]


    y01 = np.array([G_i1, 0, Bs_i, 0])
    y02 = np.array([G_i2, 0, Bs_i, 0])

    #times
    t = d1.Time

    #model simulations
    yhat_full1 = calc(Submodel, pars, t, y01)
    yhat_full2 = calc(Submodel, pars, t, y02)

    yhat_full = np.concatenate((yhat_full1, yhat_full2), axis=0)

    #observations
    obs1=np.concatenate((np.array([d1.CO2cumul]).reshape(len(d1.Time),1),
                        np.array([d1.Cmic]).reshape(len(d1.Time),1),
                        np.array([d1.ATP]).reshape(len(d1.Time),1)),
                     axis=1)
    obs2=np.concatenate((np.array([d2.CO2cumul]).reshape(len(d1.Time),1),
                        np.array([d2.Cmic]).reshape(len(d1.Time),1),
                        np.array([d2.ATP]).reshape(len(d1.Time),1)),
                     axis=1)

    obs=np.concatenate((obs1, obs2), axis=0)
    #weights
    weights1=np.concatenate((np.nanmean(d1.CO2cumul).repeat(len(d1.Time)).reshape(len(d1.Time),1),
                            np.nanmean(d1.Cmic/5).repeat(len(d1.Time)).reshape(len(d1.Time),1),
                            np.nanmean(d1.ATP).repeat(len(d1.Time)).reshape(len(d1.Time),1)),
                       axis=1)
    weights2=np.concatenate((np.nanmean(d2.CO2cumul).repeat(len(d1.Time)).reshape(len(d1.Time),1),
                           np.nanmean(d2.Cmic/5).repeat(len(d1.Time)).reshape(len(d1.Time),1),
                           np.nanmean(d2.ATP).repeat(len(d1.Time)).reshape(len(d1.Time),1)),
                      axis=1)
    weights = np.concatenate((weights1, weights2), axis=0)

    out=np.nansum(((yhat_full-obs)/weights)**2)

    return out
# %% markdown
#### Goodness of fit
# %% codecell
def goodness (x):
    #define parameters
    pars = x

    #initial conditions
    G_i1 = d1.Sinit[0]
    G_i2 = d2.Sinit[0]
    Bs_i = d1.Cmicinit[0]/pars[6]


    y01 = np.array([G_i1, 0, Bs_i, 0])
    y02 = np.array([G_i2, 0, Bs_i, 0])

    #times
    t = d1.Time

    #model simulations
    yhat_full1 = calc(Submodel, pars, t, y01)
    yhat_full2 = calc(Submodel, pars, t, y02)

    yhat_full = np.concatenate((yhat_full1, yhat_full2), axis=0)

    #observations
    obs1=np.concatenate((np.array([d1.CO2cumul]).reshape(len(d1.Time),1),
                        np.array([d1.Cmic]).reshape(len(d1.Time),1),
                        np.array([d1.ATP]).reshape(len(d1.Time),1)),
                     axis=1)
    obs2=np.concatenate((np.array([d2.CO2cumul]).reshape(len(d1.Time),1),
                        np.array([d2.Cmic]).reshape(len(d1.Time),1),
                        np.array([d2.ATP]).reshape(len(d1.Time),1)),
                     axis=1)

    obs=np.concatenate((obs1, obs2), axis=0)

    R2=1-np.nansum((obs-yhat_full)**2)/np.nansum((obs-np.nanmean(obs))**2)
    ll=-np.nansum((obs-yhat_full)**2)/2/np.nanstd(obs)**2
    AIC = len(pars)*2 - 2*ll

    out = np.array([R2, ll, AIC])

    return out
# %% markdown
#### Parameters estimation
# %% codecell
tsai_optpars=dual_annealing(obj_fun, [(1e-3, 10), (1e-3, 100), (1e-3, 10), (1e-8, 1), (0, 1), (0, 1),(0, 1), (0, 1),(0, 1)])

print(tsai_optpars)
print(goodness(tsai_optpars.x))

np.savetxt('/mnt/580CBE2464C5F83D/pracovni/data_statistika/Data_z_clanku/DBconcept/parameters/tsai_optpars.csv', tsai_optpars.x.reshape(1,9), delimiter=",")

# %% markdown
### Monod model
#### The model is defined
# %% codecell
def Monod (y, t, pars):
    #define initial states
    G=y[0];    B=y[1];     CO2=y[2]

    #define parameters
    v=pars[0];   k=pars[1];
    m=pars[2];   Y=pars[3]

    #Define fluxes
    ##glucose uptake
    uptake=v*B*G/(k+G)
    ##decay
    decay=B*m

    #Define derivatives
    dGdt=-uptake
    dBdt=Y*uptake-decay
    dCO2dt=(1-Y)*uptake

    return dGdt, dBdt, dCO2dt;
# %% markdown
#### Additional calculations are performed
# %% codecell
def monodcalc (model, pars, t, y0):
    #model parameters
    pars_model=pars[0:4]
    #conversion factors
    conversions=pars[4:6]

    #solve the model
    y=odeint(model,y0,t, args=(pars_model,))

    #calculate CFC
    CFC = conversions[0]*y[:, 1]
    ATP = conversions[1]*y[:, 1]
    #CFC14 = (conversions*y[:, 1])-d.Cmicinit[0]

    #Create data with predictions
    yhat = np.concatenate((y[:, 2].reshape(len(d1.Time),1),
                           CFC.reshape(len(d1.Time),1),
                           ATP.reshape(len(d1.Time),1)), axis=1)

    return yhat
# %% markdown
#### Objective function is defined
# %% codecell
def monodobj_fun (x):
    #define parameters
    pars = x

    #initial conditions
    G_i1 = d1.Sinit[0]
    G_i2 = d2.Sinit[0]
    B_i = d1.Cmicinit[0]/pars[4]

    y01 = np.array([G_i1, B_i, 0])
    y02 = np.array([G_i2, B_i, 0])
    #times
    t = d1.Time

    #model simulations
    yhat_full1 = monodcalc(Monod, pars, t, y01)
    yhat_full2 = monodcalc(Monod, pars, t, y02)
    yhat_full = np.concatenate((yhat_full1, yhat_full2), axis=0)
    #observations
    obs1=np.concatenate((np.array([d1.CO2cumul]).reshape(len(d1.Time),1),
                        np.array([d1.Cmic]).reshape(len(d1.Time),1),
                        np.array([d1.ATP]).reshape(len(d1.Time),1)),
                     axis=1)
    obs2=np.concatenate((np.array([d2.CO2cumul]).reshape(len(d1.Time),1),
                        np.array([d2.Cmic]).reshape(len(d1.Time),1),
                        np.array([d2.ATP]).reshape(len(d1.Time),1)),
                     axis=1)
    obs = np.concatenate((obs1, obs2), axis=0)
    #weights
    weights1=np.concatenate((np.nanmean(d1.CO2cumul).repeat(len(d1.Time)).reshape(len(d1.Time),1),
                            np.nanmean(d1.Cmic/5).repeat(len(d1.Time)).reshape(len(d1.Time),1),
                            np.nanmean(d1.ATP).repeat(len(d1.Time)).reshape(len(d1.Time),1)),
                       axis=1)
    weights2=np.concatenate((np.nanmean(d2.CO2cumul).repeat(len(d1.Time)).reshape(len(d1.Time),1),
                            np.nanmean(d2.Cmic/5).repeat(len(d1.Time)).reshape(len(d1.Time),1),
                            np.nanmean(d2.ATP).repeat(len(d1.Time)).reshape(len(d1.Time),1)),
                       axis=1)
    weights = np.concatenate((weights1, weights2), axis=0)
    out=np.nansum(((yhat_full-obs)/weights)**2)

    return out
# %% markdown
# ## Goodness of fit
# %% codecell
def monodgoodness (x):
    #define parameters
    pars = x

    #initial conditions
    G_i1 = d1.Sinit[0]
    G_i2 = d2.Sinit[0]
    B_i = d1.Cmicinit[0]/pars[4]

    y01 = np.array([G_i1, B_i, 0])
    y02 = np.array([G_i2, B_i, 0])
    #times
    t = d1.Time

    #model simulations
    yhat_full1 = monodcalc(Monod, pars, t, y01)
    yhat_full2 = monodcalc(Monod, pars, t, y02)
    yhat_full = np.concatenate((yhat_full1, yhat_full2), axis=0)
    #observations
    obs1=np.concatenate((np.array([d1.CO2cumul]).reshape(len(d1.Time),1),
                        np.array([d1.Cmic]).reshape(len(d1.Time),1),
                        np.array([d1.ATP]).reshape(len(d1.Time),1)),
                     axis=1)
    obs2=np.concatenate((np.array([d2.CO2cumul]).reshape(len(d1.Time),1),
                        np.array([d2.Cmic]).reshape(len(d1.Time),1),
                        np.array([d2.ATP]).reshape(len(d1.Time),1)),
                     axis=1)
    obs = np.concatenate((obs1, obs2), axis=0)

    R2=1-np.nansum((obs-yhat_full)**2)/np.nansum((obs-np.nanmean(obs))**2)
    ll=-np.nansum((obs-yhat_full)**2)/2/np.nanstd(obs)**2
    AIC = len(pars)*2 - 2*ll

    out = np.array([R2, ll, AIC])

    return out
# %% markdown
#### Parameters estimation
# %% codecell
tsai_monodpars=dual_annealing(monodobj_fun, [(1e-3, 10), (1e-3, 100), (1e-8, 1), (0, 1), (0, 1), (0, 1)], maxiter=1000000)
print(tsai_monodpars)

print(monodgoodness(tsai_monodpars.x))
np.savetxt('/mnt/580CBE2464C5F83D/pracovni/data_statistika/Data_z_clanku/DBconcept/parameters/tsai_monodpars.csv', tsai_monodpars.x.reshape(1,6), delimiter=",")

# %% markdown
## Wu et al. 1993
### Sub-microbial model
#### The model is defined
# %% codecell
#read data
d = pd.read_csv('/mnt/580CBE2464C5F83D/pracovni/data_statistika/Data_z_clanku/DBconcept/Data/Wu1993.csv', sep=',')
#Glucose dataset
dG = d[(d.Substrate=='Glucose')]
dG1 = dG[(dG.Treatment=='Large')]
dG2 = dG[(dG.Treatment=='Small')]
dG1.reset_index(inplace=True)
dG2.reset_index(inplace=True)
#Ryegrass dataset
dR = d[(d.Substrate=='Ryegrass')]
dR1 = dR[(dR.Treatment=='Large')]
dR2 = dR[(dR.Treatment=='Small')]
dR1.reset_index(inplace=True)
dR2.reset_index(inplace=True)


print(dR2)

def Submodel (y, t, pars):
    #define initial states
    G=y[0];    Br=y[1];    Bs=y[2];     CO2=y[3]

    #define parameters
    v=pars[0];   k=pars[1];     f=pars[2]
    m=pars[3];   Y=pars[4];

    #Define fluxes
    ##glucose uptake
    uptake=v*Bs*G/(k+G)
    ##transfer function
    transfer=f*Br
    #death rate
    death=m*Bs

    #Define derivatives
    dGdt=-uptake
    dBrdt=uptake-transfer
    dBsdt=transfer*Y-death
    dCO2dt=transfer*(1-Y)

    return dGdt, dBrdt, dBsdt, dCO2dt;
# %% markdown
#### Additional calculations are performed
# %% codecell
def calc (model, pars, t, y0):
    #model parameters
    pars_model=pars[0:5]
    #conversion factors
    conversions=pars[5:7]

    #solve the model
    y=odeint(model,y0,t, args=(pars_model,))

    #calculate CFC
    #CFC = conversions[0]*y[:, 1]+conversions[1]*y[:, 2]
    CFC14 = (conversions[0]*y[:, 1]+conversions[1]*y[:, 2])-d.Cmicinit[0]


    #Create data with predictions
    #yhat = np.concatenate((y[:, 3].reshape(len(dG1.Time),1),
    #                       CFC14.reshape(len(dG1.Time),1)), axis=1)
    #yhat = np.concatenate((y[:, 3].reshape(len(dG2.Time),1),
    #                       CFC14.reshape(len(dG2.Time),1)), axis=1)
    #yhat = np.concatenate((y[:, 3].reshape(len(dR1.Time),1),
    #                       CFC14.reshape(len(dR1.Time),1)), axis=1)
    yhat = np.concatenate((y[:, 3].reshape(len(dR2.Time),1),
                           CFC14.reshape(len(dR2.Time),1)), axis=1)

    return yhat
# %% markdown
#### Objective function is defined
# %% codecell
def obj_fun (x):
    #define parameters
    pars = x

    #initial conditions
    #G_i1 = dG1.Sinit[0]
    #G_i2 = dG2.Sinit[0]
    #G_i3 = dR1.Sinit[0]
    G_i4 = dR2.Sinit[0]
    Bs_i = d.Cmicinit[0]/pars[6]


    #y01 = np.array([G_i1, 0, Bs_i, 0])
    #y02 = np.array([G_i2, 0, Bs_i, 0])
    #y03 = np.array([G_i3, 0, Bs_i, 0])
    y04 = np.array([G_i4, 0, Bs_i, 0])

    #times
    #t = dG1.Time
    #t = dG2.Time
    #t = dR1.Time
    t = dR2.Time

    #model simulations
    #yhat_full = calc(Submodel, pars, t, y01)
    #yhat_full = calc(Submodel, pars, t, y02)
    #yhat_full = calc(Submodel, pars, t, y03)
    yhat_full = calc(Submodel, pars, t, y04)


    #observations
    #obs=np.concatenate((np.array([dG1.CO2cumul]).reshape(len(dG1.Time),1),
    #                    np.array([dG1.Cmic14]).reshape(len(dG1.Time),1)),
    #                 axis=1)
    #obs=np.concatenate((np.array([dG2.CO2cumul]).reshape(len(dG2.Time),1),
    #                    np.array([dG2.Cmic14]).reshape(len(dG2.Time),1)),
    #                 axis=1)
    #obs=np.concatenate((np.array([dR1.CO2cumul]).reshape(len(dR1.Time),1),
    #                    np.array([dR1.Cmic14]).reshape(len(dR1.Time),1)),
    #                 axis=1)
    obs=np.concatenate((np.array([dR2.CO2cumul]).reshape(len(dR2.Time),1),
                        np.array([dR2.Cmic14]).reshape(len(dR2.Time),1)),
                     axis=1)

    #weights
    #weights=np.concatenate((np.nanmean(dG1.CO2cumul).repeat(len(dG1.Time)).reshape(len(dG1.Time),1),
    #                        np.nanmean(dG1.Cmic14/5).repeat(len(dG1.Time)).reshape(len(dG1.Time),1)),
    #                   axis=1)
    #weights=np.concatenate((np.nanmean(dG2.CO2cumul).repeat(len(dG2.Time)).reshape(len(dG2.Time),1),
    #                       np.nanmean(dG2.Cmic14/5).repeat(len(dG2.Time)).reshape(len(dG2.Time),1)),
    #                  axis=1)
    #weights=np.concatenate((np.nanmean(dR1.CO2cumul).repeat(len(dR1.Time)).reshape(len(dR1.Time),1),
    #                       np.nanmean(dR1.Cmic14/5).repeat(len(dR1.Time)).reshape(len(dR1.Time),1)),
    #                  axis=1)
    weights=np.concatenate((np.nanmean(dR2.CO2cumul).repeat(len(dR2.Time)).reshape(len(dR2.Time),1),
                           np.nanmean(dR2.Cmic14/5).repeat(len(dR2.Time)).reshape(len(dR2.Time),1)),
                      axis=1)

    out=np.nansum(((yhat_full-obs)/weights)**2)

    return out
# %% markdown
#### Goodness of fit
# %% codecell
def goodness (x):
    #define parameters
    pars = x

    #initial conditions
    #G_i1 = dG1.Sinit[0]
    #G_i2 = dG2.Sinit[0]
    #G_i3 = dR1.Sinit[0]
    G_i4 = dR2.Sinit[0]
    Bs_i = d.Cmicinit[0]/pars[6]


    #y01 = np.array([G_i1, 0, Bs_i, 0])
    #y02 = np.array([G_i2, 0, Bs_i, 0])
    #y03 = np.array([G_i3, 0, Bs_i, 0])
    y04 = np.array([G_i4, 0, Bs_i, 0])

    #times
    #t = dG1.Time
    #t = dG2.Time
    #t = dR1.Time
    t = dR2.Time

    #model simulations
    #yhat_full = calc(Submodel, pars, t, y01)
    #yhat_full = calc(Submodel, pars, t, y02)
    #yhat_full = calc(Submodel, pars, t, y03)
    yhat_full = calc(Submodel, pars, t, y04)


    #observations
    #obs=np.concatenate((np.array([dG1.CO2cumul]).reshape(len(dG1.Time),1),
    #                    np.array([dG1.Cmic14]).reshape(len(dG1.Time),1)),
    #                 axis=1)
    #obs=np.concatenate((np.array([dG2.CO2cumul]).reshape(len(dG2.Time),1),
    #                    np.array([dG2.Cmic14]).reshape(len(dG2.Time),1)),
    #                 axis=1)
    #obs=np.concatenate((np.array([dR1.CO2cumul]).reshape(len(dR1.Time),1),
    #                    np.array([dR1.Cmic14]).reshape(len(dR1.Time),1)),
    #                 axis=1)
    obs=np.concatenate((np.array([dR2.CO2cumul]).reshape(len(dR2.Time),1),
                        np.array([dR2.Cmic14]).reshape(len(dR2.Time),1)),
                     axis=1)

    R2=1-np.nansum((obs-yhat_full)**2)/np.nansum((obs-np.nanmean(obs))**2)
    ll=-np.nansum((obs-yhat_full)**2)/2/np.nanstd(obs)**2
    AIC = len(pars)*2 - 2*ll

    out = np.array([R2, ll, AIC])

    return out
# %% markdown
#### Parameters estimation
# %% codecell
wu_optparsG1=dual_annealing(obj_fun, [(1e-3, 10), (1e-3, 100), (1e-3, 10), (1e-8, 1), (0, 1), (0, 1),(0, 1)])
wu_optparsG2=dual_annealing(obj_fun, [(1e-3, 10), (1e-3, 100), (1e-3, 10), (1e-8, 1), (0, 1), (0, 1),(0, 1)])
wu_optparsR1=dual_annealing(obj_fun, [(1e-3, 10), (1e-3, 100), (1e-3, 10), (1e-8, 1), (0, 1), (0, 1),(0, 1)])
wu_optparsR2=dual_annealing(obj_fun, [(1e-3, 10), (1e-3, 100), (1e-3, 10), (1e-8, 1), (0, 1), (0, 1),(0, 1)])

print(wu_optparsG1)
print(wu_optparsG2)
print(wu_optparsR1)
print(wu_optparsR2)
print(goodness(wu_optparsG1.x))
print(goodness(wu_optparsG2.x))
print(goodness(wu_optparsR1.x))
print(goodness(wu_optparsR2.x))

np.savetxt('/mnt/580CBE2464C5F83D/pracovni/data_statistika/Data_z_clanku/DBconcept/parameters/wu_optparsG1.csv', wu_optparsG1.x.reshape(1,7), delimiter=",")
np.savetxt('/mnt/580CBE2464C5F83D/pracovni/data_statistika/Data_z_clanku/DBconcept/parameters/wu_optparsG2.csv', wu_optparsG2.x.reshape(1,7), delimiter=",")
np.savetxt('/mnt/580CBE2464C5F83D/pracovni/data_statistika/Data_z_clanku/DBconcept/parameters/wu_optparsR1.csv', wu_optparsR1.x.reshape(1,7), delimiter=",")
np.savetxt('/mnt/580CBE2464C5F83D/pracovni/data_statistika/Data_z_clanku/DBconcept/parameters/wu_optparsR2.csv', wu_optparsR2.x.reshape(1,7), delimiter=",")


# %% markdown
### Monod model
#### The model is defined
# %% codecell
def Monod (y, t, pars):
    #define initial states
    G=y[0];    B=y[1];     CO2=y[2]

    #define parameters
    v=pars[0];   k=pars[1];
    m=pars[2];   Y=pars[3]

    #Define fluxes
    ##glucose uptake
    uptake=v*B*G/(k+G)
    ##decay
    decay=B*m

    #Define derivatives
    dGdt=-uptake
    dBdt=Y*uptake-decay
    dCO2dt=(1-Y)*uptake

    return dGdt, dBdt, dCO2dt;
# %% markdown
#### Additional calculations are performed
# %% codecell
def monodcalc (model, pars, t, y0):
    #model parameters
    pars_model=pars[0:4]
    #conversion factors
    conversions=pars[4]

    #solve the model
    y=odeint(model,y0,t, args=(pars_model,))

    #calculate CFC
    #CFC = conversions[0]*y[:, 1]
    CFC14 = (conversions*y[:, 1])-d.Cmicinit[0]

    #Create data with predictions
    #yhat = np.concatenate((y[:, 2].reshape(len(dG1.Time),1),
    #                       CFC14.reshape(len(dG1.Time),1)), axis=1)
    #yhat = np.concatenate((y[:, 2].reshape(len(dG2.Time),1),
    #                       CFC14.reshape(len(dG2.Time),1)), axis=1)
    #yhat = np.concatenate((y[:, 2].reshape(len(dR1.Time),1),
    #                       CFC14.reshape(len(dR1.Time),1)), axis=1)
    yhat = np.concatenate((y[:, 2].reshape(len(dR2.Time),1),
                           CFC14.reshape(len(dR2.Time),1)), axis=1)

    return yhat
# %% markdown
#### Objective function is defined
# %% codecell
def monodobj_fun (x):
    #define parameters
    pars = x

    #initial conditions
    #G_i1 = dG1.Sinit[0]
    #G_i2 = dG2.Sinit[0]
    #G_i3 = dR1.Sinit[0]
    G_i4 = dR2.Sinit[0]
    B_i = d.Cmicinit[0]/pars[4]

    #y01 = np.array([G_i1, B_i, 0])
    #y02 = np.array([G_i2, B_i, 0])
    #y03 = np.array([G_i3, B_i, 0])
    y04 = np.array([G_i4, B_i, 0])
    #times
    #t = dG1.Time
    #t = dG2.Time
    #t = dR1.Time
    t = dR2.Time

    #model simulations
    #yhat_full = monodcalc(Monod, pars, t, y01)
    #yhat_full = monodcalc(Monod, pars, t, y02)
    #yhat_full = monodcalc(Monod, pars, t, y03)
    yhat_full = monodcalc(Monod, pars, t, y04)
    #observations
    #obs=np.concatenate((np.array([dG1.CO2cumul]).reshape(len(dG1.Time),1),
    #                    np.array([dG1.Cmic14]).reshape(len(dG1.Time),1)),
    #                 axis=1)
    #obs=np.concatenate((np.array([dG2.CO2cumul]).reshape(len(dG2.Time),1),
    #                    np.array([dG2.Cmic14]).reshape(len(dG2.Time),1)),
    #                 axis=1)
    #obs=np.concatenate((np.array([dR1.CO2cumul]).reshape(len(dR1.Time),1),
    #                    np.array([dR1.Cmic14]).reshape(len(dR1.Time),1)),
    #                 axis=1)
    obs=np.concatenate((np.array([dR2.CO2cumul]).reshape(len(dR2.Time),1),
                        np.array([dR2.Cmic14]).reshape(len(dR2.Time),1)),
                     axis=1)

    #weights
    #weights=np.concatenate((np.nanmean(dG1.CO2cumul).repeat(len(dG1.Time)).reshape(len(dG1.Time),1),
    #                        np.nanmean(dG1.Cmic14/5).repeat(len(dG1.Time)).reshape(len(dG1.Time),1)),
    #                   axis=1)
    #weights=np.concatenate((np.nanmean(dG2.CO2cumul).repeat(len(dG2.Time)).reshape(len(dG2.Time),1),
    #                        np.nanmean(dG2.Cmic14/5).repeat(len(dG2.Time)).reshape(len(dG2.Time),1)),
    #                   axis=1)
    #weights=np.concatenate((np.nanmean(dR1.CO2cumul).repeat(len(dR1.Time)).reshape(len(dR1.Time),1),
    #                        np.nanmean(dR1.Cmic14/5).repeat(len(dR1.Time)).reshape(len(dR1.Time),1)),
    #                   axis=1)
    weights=np.concatenate((np.nanmean(dR2.CO2cumul).repeat(len(dR2.Time)).reshape(len(dR2.Time),1),
                            np.nanmean(dR2.Cmic14/5).repeat(len(dR2.Time)).reshape(len(dR2.Time),1)),
                       axis=1)

    out=np.nansum(((yhat_full-obs)/weights)**2)

    return out
# %% markdown
# ## Goodness of fit
# %% codecell
def monodgoodness (x):
    #define parameters
    pars = x

    #initial conditions
    #G_i1 = dG1.Sinit[0]
    #G_i2 = dG2.Sinit[0]
    #G_i3 = dR1.Sinit[0]
    G_i4 = dR2.Sinit[0]
    B_i = d.Cmicinit[0]/pars[4]

    #y01 = np.array([G_i1, B_i, 0])
    #y02 = np.array([G_i2, B_i, 0])
    #y03 = np.array([G_i3, B_i, 0])
    y04 = np.array([G_i4, B_i, 0])
    #times
    #t = dG1.Time
    #t = dG2.Time
    #t = dR1.Time
    t = dR2.Time

    #model simulations
    #yhat_full = monodcalc(Monod, pars, t, y01)
    #yhat_full = monodcalc(Monod, pars, t, y02)
    #yhat_full = monodcalc(Monod, pars, t, y03)
    yhat_full = monodcalc(Monod, pars, t, y04)
    #observations
    #obs=np.concatenate((np.array([dG1.CO2cumul]).reshape(len(dG1.Time),1),
    #                    np.array([dG1.Cmic14]).reshape(len(dG1.Time),1)),
    #                 axis=1)
    #obs=np.concatenate((np.array([dG2.CO2cumul]).reshape(len(dG2.Time),1),
    #                    np.array([dG2.Cmic14]).reshape(len(dG2.Time),1)),
    #                 axis=1)
    #obs=np.concatenate((np.array([dR1.CO2cumul]).reshape(len(dR1.Time),1),
    #                    np.array([dR1.Cmic14]).reshape(len(dR1.Time),1)),
    #                 axis=1)
    obs=np.concatenate((np.array([dR2.CO2cumul]).reshape(len(dR2.Time),1),
                        np.array([dR2.Cmic14]).reshape(len(dR2.Time),1)),
                     axis=1)

    R2=1-np.nansum((obs-yhat_full)**2)/np.nansum((obs-np.nanmean(obs))**2)
    ll=-np.nansum((obs-yhat_full)**2)/2/np.nanstd(obs)**2
    AIC = len(pars)*2 - 2*ll

    out = np.array([R2, ll, AIC])

    return out
# %% markdown
#### Parameters estimation
# %% codecell
wu_monodparsG1=dual_annealing(monodobj_fun, [(1e-3, 10), (1e-3, 100), (1e-8, 1), (0, 1), (0, 1)])
wu_monodparsG2=dual_annealing(monodobj_fun, [(1e-3, 10), (1e-3, 100), (1e-8, 1), (0, 1), (0, 1)])
wu_monodparsR1=dual_annealing(monodobj_fun, [(1e-3, 10), (1e-3, 100), (1e-8, 1), (0, 1), (0, 1)])
wu_monodparsR2=dual_annealing(monodobj_fun, [(1e-3, 10), (1e-3, 100), (1e-8, 1), (0, 1), (0, 1)])

print(wu_monodparsG1)
print(wu_monodparsG2)
print(wu_monodparsR1)
print(wu_monodparsR2)

print(monodgoodness(wu_monodparsG1.x))
print(monodgoodness(wu_monodparsG2.x))
print(monodgoodness(wu_monodparsR1.x))
print(monodgoodness(wu_monodparsR2.x))

np.savetxt('/mnt/580CBE2464C5F83D/pracovni/data_statistika/Data_z_clanku/DBconcept/parameters/wu_monodparsG1.csv', wu_monodparsG1.x.reshape(1,5), delimiter=",")
np.savetxt('/mnt/580CBE2464C5F83D/pracovni/data_statistika/Data_z_clanku/DBconcept/parameters/wu_monodparsG2.csv', wu_monodparsG2.x.reshape(1,5), delimiter=",")
np.savetxt('/mnt/580CBE2464C5F83D/pracovni/data_statistika/Data_z_clanku/DBconcept/parameters/wu_monodparsR1.csv', wu_monodparsR1.x.reshape(1,5), delimiter=",")
np.savetxt('/mnt/580CBE2464C5F83D/pracovni/data_statistika/Data_z_clanku/DBconcept/parameters/wu_monodparsR2.csv', wu_monodparsR2.x.reshape(1,5), delimiter=",")

# %% markdown
## Wu et al. 2011
### Sub-microbial model
#### The model is defined
# %% codecell
#read data
d = pd.read_csv('/mnt/580CBE2464C5F83D/pracovni/data_statistika/Data_z_clanku/DBconcept/Data/Wu2011.csv', sep=',')
#Glucose dataset
dG = d[(d.Substrate=='Glucose')]
dG1 = dG[(dG.Soil=='Paddy')]
dG2 = dG[(dG.Soil=='Upland')]
dG1.reset_index(inplace=True)
dG2.reset_index(inplace=True)
#Ryegrass dataset
dR = d[(d.Substrate=='Rice')]
dR1 = dR[(dR.Soil=='Paddy')]
dR2 = dR[(dR.Soil=='Upland')]
dR1.reset_index(inplace=True)
dR2.reset_index(inplace=True)


print(dR2)

def Submodel (y, t, pars):
    #define initial states
    G=y[0];    Br=y[1];    Bs=y[2];     CO2=y[3]

    #define parameters
    v=pars[0];   k=pars[1];     f=pars[2]
    m=pars[3];   Y=pars[4];

    #Define fluxes
    ##glucose uptake
    uptake=v*Bs*G/(k+G)
    ##transfer function
    transfer=f*Br
    #death rate
    death=m*Bs

    #Define derivatives
    dGdt=-uptake
    dBrdt=uptake-transfer
    dBsdt=transfer*Y-death
    dCO2dt=transfer*(1-Y)

    return dGdt, dBrdt, dBsdt, dCO2dt;
# %% markdown
#### Additional calculations are performed
# %% codecell
def calc (model, pars, t, y0):
    #model parameters
    pars_model=pars[0:5]
    #conversion factors
    conversions=pars[5:7]

    #solve the model
    y=odeint(model,y0,t, args=(pars_model,))

    #calculate CFC
    #CFC = conversions[0]*y[:, 1]+conversions[1]*y[:, 2]
    #CFC14 = (conversions[0]*y[:, 1]+conversions[1]*y[:, 2])-dG1.Cmicinit[0]
    #CFC14 = (conversions[0]*y[:, 1]+conversions[1]*y[:, 2])-dG2.Cmicinit[0]
    #CFC14 = (conversions[0]*y[:, 1]+conversions[1]*y[:, 2])-dR1.Cmicinit[0]
    CFC14 = (conversions[0]*y[:, 1]+conversions[1]*y[:, 2])-dR2.Cmicinit[0]


    #Create data with predictions
    #yhat = np.concatenate((y[:, 3].reshape(len(dG1.Time),1),
    #                       CFC14.reshape(len(dG1.Time),1)), axis=1)
    #yhat = np.concatenate((y[:, 3].reshape(len(dG2.Time),1),
    #                       CFC14.reshape(len(dG2.Time),1)), axis=1)
    #yhat = np.concatenate((y[:, 3].reshape(len(dR1.Time),1),
    #                       CFC14.reshape(len(dR1.Time),1)), axis=1)
    yhat = np.concatenate((y[:, 3].reshape(len(dR2.Time),1),
                           CFC14.reshape(len(dR2.Time),1)), axis=1)

    return yhat
# %% markdown
#### Objective function is defined
# %% codecell
def obj_fun (x):
    #define parameters
    pars = x

    #initial conditions
    #G_i1 = dG1.Sinit[0]
    #G_i2 = dG2.Sinit[0]
    #G_i3 = dR1.Sinit[0]
    G_i4 = dR2.Sinit[0]
    #Bs_i1 = dG1.Cmicinit[0]/pars[6]
    #Bs_i2 = dG2.Cmicinit[0]/pars[6]
    #Bs_i3 = dR1.Cmicinit[0]/pars[6]
    Bs_i4 = dR2.Cmicinit[0]/pars[6]


    #y01 = np.array([G_i1, 0, Bs_i1, 0])
    #y02 = np.array([G_i2, 0, Bs_i2, 0])
    #y03 = np.array([G_i3, 0, Bs_i3, 0])
    y04 = np.array([G_i4, 0, Bs_i4, 0])

    #times
    #t = dG1.Time
    #t = dG2.Time
    #t = dR1.Time
    t = dR2.Time

    #model simulations
    #yhat_full = calc(Submodel, pars, t, y01)
    #yhat_full = calc(Submodel, pars, t, y02)
    #yhat_full = calc(Submodel, pars, t, y03)
    yhat_full = calc(Submodel, pars, t, y04)


    #observations
    #obs=np.concatenate((np.array([dG1.CO2cumul]).reshape(len(dG1.Time),1),
    #                    np.array([dG1.Cmic14]).reshape(len(dG1.Time),1)),
    #                 axis=1)
    #obs=np.concatenate((np.array([dG2.CO2cumul]).reshape(len(dG2.Time),1),
    #                    np.array([dG2.Cmic14]).reshape(len(dG2.Time),1)),
    #                 axis=1)
    #obs=np.concatenate((np.array([dR1.CO2cumul]).reshape(len(dR1.Time),1),
    #                    np.array([dR1.Cmic14]).reshape(len(dR1.Time),1)),
    #                 axis=1)
    obs=np.concatenate((np.array([dR2.CO2cumul]).reshape(len(dR2.Time),1),
                        np.array([dR2.Cmic14]).reshape(len(dR2.Time),1)),
                     axis=1)

    #weights
    #weights=np.concatenate((np.nanmean(dG1.CO2cumul).repeat(len(dG1.Time)).reshape(len(dG1.Time),1),
    #                        np.nanmean(dG1.Cmic14/5).repeat(len(dG1.Time)).reshape(len(dG1.Time),1)),
    #                   axis=1)
    #weights=np.concatenate((np.nanmean(dG2.CO2cumul).repeat(len(dG2.Time)).reshape(len(dG2.Time),1),
    #                       np.nanmean(dG2.Cmic14/5).repeat(len(dG2.Time)).reshape(len(dG2.Time),1)),
    #                   axis=1)
    #weights=np.concatenate((np.nanmean(dR1.CO2cumul).repeat(len(dR1.Time)).reshape(len(dR1.Time),1),
    #                       np.nanmean(dR1.Cmic14/5).repeat(len(dR1.Time)).reshape(len(dR1.Time),1)),
    #                  axis=1)
    weights=np.concatenate((np.nanmean(dR2.CO2cumul).repeat(len(dR2.Time)).reshape(len(dR2.Time),1),
                           np.nanmean(dR2.Cmic14/5).repeat(len(dR2.Time)).reshape(len(dR2.Time),1)),
                      axis=1)

    out=np.nansum(((yhat_full-obs)/weights)**2)

    return out
# %% markdown
#### Goodness of fit
# %% codecell
def goodness (x):
    #define parameters
    pars = x

    #initial conditions
    #G_i1 = dG1.Sinit[0]
    #G_i2 = dG2.Sinit[0]
    #G_i3 = dR1.Sinit[0]
    G_i4 = dR2.Sinit[0]
    #Bs_i1 = dG1.Cmicinit[0]/pars[6]
    #Bs_i2 = dG2.Cmicinit[0]/pars[6]
    #Bs_i3 = dR1.Cmicinit[0]/pars[6]
    Bs_i4 = dR2.Cmicinit[0]/pars[6]


    #y01 = np.array([G_i1, 0, Bs_i1, 0])
    #y02 = np.array([G_i2, 0, Bs_i2, 0])
    #y03 = np.array([G_i3, 0, Bs_i3, 0])
    y04 = np.array([G_i4, 0, Bs_i4, 0])

    #times
    #t = dG1.Time
    #t = dG2.Time
    #t = dR1.Time
    t = dR2.Time

    #model simulations
    #yhat_full = calc(Submodel, pars, t, y01)
    #yhat_full = calc(Submodel, pars, t, y02)
    #yhat_full = calc(Submodel, pars, t, y03)
    yhat_full = calc(Submodel, pars, t, y04)


    #observations
    #obs=np.concatenate((np.array([dG1.CO2cumul]).reshape(len(dG1.Time),1),
    #                    np.array([dG1.Cmic14]).reshape(len(dG1.Time),1)),
    #                 axis=1)
    #obs=np.concatenate((np.array([dG2.CO2cumul]).reshape(len(dG2.Time),1),
    #                    np.array([dG2.Cmic14]).reshape(len(dG2.Time),1)),
    #                 axis=1)
    #obs=np.concatenate((np.array([dR1.CO2cumul]).reshape(len(dR1.Time),1),
    #                    np.array([dR1.Cmic14]).reshape(len(dR1.Time),1)),
    #                 axis=1)
    obs=np.concatenate((np.array([dR2.CO2cumul]).reshape(len(dR2.Time),1),
                        np.array([dR2.Cmic14]).reshape(len(dR2.Time),1)),
                     axis=1)

    R2=1-np.nansum((obs-yhat_full)**2)/np.nansum((obs-np.nanmean(obs))**2)
    ll=-np.nansum((obs-yhat_full)**2)/2/np.nanstd(obs)**2
    AIC = len(pars)*2 - 2*ll

    out = np.array([R2, ll, AIC])

    return out
# %% markdown
#### Parameters estimation
# %% codecell
wu11_optparsG1=dual_annealing(obj_fun, [(1e-3, 10), (1e-3, 100), (1e-3, 10), (1e-8, 1), (0, 1), (0, 1),(0, 1)])
wu11_optparsG2=dual_annealing(obj_fun, [(1e-3, 10), (1e-3, 100), (1e-3, 10), (1e-8, 1), (0, 1), (0, 1),(0, 1)])
wu11_optparsR1=dual_annealing(obj_fun, [(1e-3, 10), (1e-3, 100), (1e-3, 10), (1e-8, 1), (0, 1), (0, 1),(0, 1)])
wu11_optparsR2=dual_annealing(obj_fun, [(1e-3, 10), (1e-3, 100), (1e-3, 10), (1e-8, 1), (0, 1), (0, 1),(0, 1)])

print(wu11_optparsG1)
print(wu11_optparsG2)
print(wu11_optparsR1)
print(wu11_optparsR2)
print(goodness(wu11_optparsG1.x))
print(goodness(wu11_optparsG2.x))
print(goodness(wu11_optparsR1.x))
print(goodness(wu11_optparsR2.x))

np.savetxt('/mnt/580CBE2464C5F83D/pracovni/data_statistika/Data_z_clanku/DBconcept/parameters/wu11_optparsG1.csv', wu11_optparsG1.x.reshape(1,7), delimiter=",")
np.savetxt('/mnt/580CBE2464C5F83D/pracovni/data_statistika/Data_z_clanku/DBconcept/parameters/wu11_optparsG2.csv', wu11_optparsG2.x.reshape(1,7), delimiter=",")
np.savetxt('/mnt/580CBE2464C5F83D/pracovni/data_statistika/Data_z_clanku/DBconcept/parameters/wu11_optparsR1.csv', wu11_optparsR1.x.reshape(1,7), delimiter=",")
np.savetxt('/mnt/580CBE2464C5F83D/pracovni/data_statistika/Data_z_clanku/DBconcept/parameters/wu11_optparsR2.csv', wu11_optparsR2.x.reshape(1,7), delimiter=",")


# %% markdown
### Monod model
#### The model is defined
# %% codecell
def Monod (y, t, pars):
    #define initial states
    G=y[0];    B=y[1];     CO2=y[2]

    #define parameters
    v=pars[0];   k=pars[1];
    m=pars[2];   Y=pars[3]

    #Define fluxes
    ##glucose uptake
    uptake=v*B*G/(k+G)
    ##decay
    decay=B*m

    #Define derivatives
    dGdt=-uptake
    dBdt=Y*uptake-decay
    dCO2dt=(1-Y)*uptake

    return dGdt, dBdt, dCO2dt;
# %% markdown
#### Additional calculations are performed
# %% codecell
def monodcalc (model, pars, t, y0):
    #model parameters
    pars_model=pars[0:4]
    #conversion factors
    conversions=pars[4]

    #solve the model
    y=odeint(model,y0,t, args=(pars_model,))

    #calculate CFC
    #CFC = conversions[0]*y[:, 1]
    #CFC14 = (conversions*y[:, 1])-dG1.Cmicinit[0]
    #CFC14 = (conversions*y[:, 1])-dG2.Cmicinit[0]
    #CFC14 = (conversions*y[:, 1])-dR1.Cmicinit[0]
    CFC14 = (conversions*y[:, 1])-dR2.Cmicinit[0]

    #Create data with predictions
    #yhat = np.concatenate((y[:, 2].reshape(len(dG1.Time),1),
    #                       CFC14.reshape(len(dG1.Time),1)), axis=1)
    #yhat = np.concatenate((y[:, 2].reshape(len(dG2.Time),1),
    #                       CFC14.reshape(len(dG2.Time),1)), axis=1)
    #yhat = np.concatenate((y[:, 2].reshape(len(dR1.Time),1),
    #                       CFC14.reshape(len(dR1.Time),1)), axis=1)
    yhat = np.concatenate((y[:, 2].reshape(len(dR2.Time),1),
                           CFC14.reshape(len(dR2.Time),1)), axis=1)

    return yhat
# %% markdown
#### Objective function is defined
# %% codecell
def monodobj_fun (x):
    #define parameters
    pars = x

    #initial conditions
    #G_i1 = dG1.Sinit[0]
    #G_i2 = dG2.Sinit[0]
    #G_i3 = dR1.Sinit[0]
    G_i4 = dR2.Sinit[0]
    #B_i1 = dG1.Cmicinit[0]/pars[4]
    #B_i2 = dG2.Cmicinit[0]/pars[4]
    #B_i3 = dR1.Cmicinit[0]/pars[4]
    B_i4 = dR2.Cmicinit[0]/pars[4]

    #y01 = np.array([G_i1, B_i1, 0])
    #y02 = np.array([G_i2, B_i2, 0])
    #y03 = np.array([G_i3, B_i3, 0])
    y04 = np.array([G_i4, B_i4, 0])
    #times
    #t = dG1.Time
    #t = dG2.Time
    #t = dR1.Time
    t = dR2.Time

    #model simulations
    #yhat_full = monodcalc(Monod, pars, t, y01)
    #yhat_full = monodcalc(Monod, pars, t, y02)
    #yhat_full = monodcalc(Monod, pars, t, y03)
    yhat_full = monodcalc(Monod, pars, t, y04)
    #observations
    #obs=np.concatenate((np.array([dG1.CO2cumul]).reshape(len(dG1.Time),1),
    #                    np.array([dG1.Cmic14]).reshape(len(dG1.Time),1)),
    #                 axis=1)
    #obs=np.concatenate((np.array([dG2.CO2cumul]).reshape(len(dG2.Time),1),
    #                    np.array([dG2.Cmic14]).reshape(len(dG2.Time),1)),
    #                 axis=1)
    #obs=np.concatenate((np.array([dR1.CO2cumul]).reshape(len(dR1.Time),1),
    #                    np.array([dR1.Cmic14]).reshape(len(dR1.Time),1)),
    #                 axis=1)
    obs=np.concatenate((np.array([dR2.CO2cumul]).reshape(len(dR2.Time),1),
                        np.array([dR2.Cmic14]).reshape(len(dR2.Time),1)),
                     axis=1)

    #weights
    #weights=np.concatenate((np.nanmean(dG1.CO2cumul).repeat(len(dG1.Time)).reshape(len(dG1.Time),1),
    #                        np.nanmean(dG1.Cmic14/5).repeat(len(dG1.Time)).reshape(len(dG1.Time),1)),
    #                   axis=1)
    #weights=np.concatenate((np.nanmean(dG2.CO2cumul).repeat(len(dG2.Time)).reshape(len(dG2.Time),1),
    #                        np.nanmean(dG2.Cmic14/5).repeat(len(dG2.Time)).reshape(len(dG2.Time),1)),
    #                   axis=1)
    #weights=np.concatenate((np.nanmean(dR1.CO2cumul).repeat(len(dR1.Time)).reshape(len(dR1.Time),1),
    #                        np.nanmean(dR1.Cmic14/5).repeat(len(dR1.Time)).reshape(len(dR1.Time),1)),
    #                   axis=1)
    weights=np.concatenate((np.nanmean(dR2.CO2cumul).repeat(len(dR2.Time)).reshape(len(dR2.Time),1),
                            np.nanmean(dR2.Cmic14/5).repeat(len(dR2.Time)).reshape(len(dR2.Time),1)),
                       axis=1)

    out=np.nansum(((yhat_full-obs)/weights)**2)

    return out
# %% markdown
# ## Goodness of fit
# %% codecell
def monodgoodness (x):
    #define parameters
    pars = x

    #initial conditions
    #G_i1 = dG1.Sinit[0]
    #G_i2 = dG2.Sinit[0]
    #G_i3 = dR1.Sinit[0]
    G_i4 = dR2.Sinit[0]
    #B_i1 = dG1.Cmicinit[0]/pars[4]
    #B_i2 = dG2.Cmicinit[0]/pars[4]
    #B_i3 = dR1.Cmicinit[0]/pars[4]
    B_i4 = dR2.Cmicinit[0]/pars[4]

    #y01 = np.array([G_i1, B_i1, 0])
    #y02 = np.array([G_i2, B_i2, 0])
    #y03 = np.array([G_i3, B_i3, 0])
    y04 = np.array([G_i4, B_i4, 0])
    #times
    #t = dG1.Time
    #t = dG2.Time
    #t = dR1.Time
    t = dR2.Time

    #model simulations
    #yhat_full = monodcalc(Monod, pars, t, y01)
    #yhat_full = monodcalc(Monod, pars, t, y02)
    #yhat_full = monodcalc(Monod, pars, t, y03)
    yhat_full = monodcalc(Monod, pars, t, y04)
    #observations
    #obs=np.concatenate((np.array([dG1.CO2cumul]).reshape(len(dG1.Time),1),
    #                    np.array([dG1.Cmic14]).reshape(len(dG1.Time),1)),
    #                 axis=1)
    #obs=np.concatenate((np.array([dG2.CO2cumul]).reshape(len(dG2.Time),1),
    #                    np.array([dG2.Cmic14]).reshape(len(dG2.Time),1)),
    #                 axis=1)
    #obs=np.concatenate((np.array([dR1.CO2cumul]).reshape(len(dR1.Time),1),
    #                    np.array([dR1.Cmic14]).reshape(len(dR1.Time),1)),
    #                 axis=1)
    obs=np.concatenate((np.array([dR2.CO2cumul]).reshape(len(dR2.Time),1),
                        np.array([dR2.Cmic14]).reshape(len(dR2.Time),1)),
                     axis=1)

    R2=1-np.nansum((obs-yhat_full)**2)/np.nansum((obs-np.nanmean(obs))**2)
    ll=-np.nansum((obs-yhat_full)**2)/2/np.nanstd(obs)**2
    AIC = len(pars)*2 - 2*ll

    out = np.array([R2, ll, AIC])

    return out
# %% markdown
#### Parameters estimation
# %% codecell
wu11_monodparsG1=dual_annealing(monodobj_fun, [(1e-3, 10), (1e-3, 100), (1e-8, 1), (0, 1), (0, 1)])
wu11_monodparsG2=dual_annealing(monodobj_fun, [(1e-3, 10), (1e-3, 100), (1e-8, 1), (0, 1), (0, 1)])
wu11_monodparsR1=dual_annealing(monodobj_fun, [(1e-3, 10), (1e-3, 100), (1e-8, 1), (0, 1), (0, 1)])
wu11_monodparsR2=dual_annealing(monodobj_fun, [(1e-3, 10), (1e-3, 100), (1e-8, 1), (0, 1), (0, 1)])

print(wu11_monodparsG1)
print(wu11_monodparsG2)
print(wu11_monodparsR1)
print(wu11_monodparsR2)

print(monodgoodness(wu11_monodparsG1.x))
print(monodgoodness(wu11_monodparsG2.x))
print(monodgoodness(wu11_monodparsR1.x))
print(monodgoodness(wu11_monodparsR2.x))

np.savetxt('/mnt/580CBE2464C5F83D/pracovni/data_statistika/Data_z_clanku/DBconcept/parameters/wu11_monodparsG1.csv', wu11_monodparsG1.x.reshape(1,5), delimiter=",")
np.savetxt('/mnt/580CBE2464C5F83D/pracovni/data_statistika/Data_z_clanku/DBconcept/parameters/wu11_monodparsG2.csv', wu11_monodparsG2.x.reshape(1,5), delimiter=",")
np.savetxt('/mnt/580CBE2464C5F83D/pracovni/data_statistika/Data_z_clanku/DBconcept/parameters/wu11_monodparsR1.csv', wu11_monodparsR1.x.reshape(1,5), delimiter=",")
np.savetxt('/mnt/580CBE2464C5F83D/pracovni/data_statistika/Data_z_clanku/DBconcept/parameters/wu11_monodparsR2.csv', wu11_monodparsR2.x.reshape(1,5), delimiter=",")
# %% markdown
## Chander and Brookes 1991
### Sub-microbial model
#### The model is defined
# %% codecell
#read data
d = pd.read_csv('/mnt/580CBE2464C5F83D/pracovni/data_statistika/Data_z_clanku/DBconcept/Data/ChB1991.csv', sep=',')
#Glucose dataset
dG = d[(d.Substrate=='Glucose')]
dG.reset_index(inplace=True)
#Maize dataset
dR = d[(d.Substrate=='Maize')]
dR.reset_index(inplace=True)

print(dG)

def Submodel (y, t, pars):
    #define initial states
    G=y[0];    Br=y[1];    Bs=y[2];     CO2=y[3]

    #define parameters
    v=pars[0];   k=pars[1];     f=pars[2]
    m=pars[3];   Y=pars[4];

    #Define fluxes
    ##glucose uptake
    uptake=v*Bs*G/(k+G)
    ##transfer function
    transfer=f*Br
    #death rate
    death=m*Bs

    #Define derivatives
    dGdt=-uptake
    dBrdt=uptake-transfer
    dBsdt=transfer*Y-death
    dCO2dt=transfer*(1-Y)

    return dGdt, dBrdt, dBsdt, dCO2dt;
# %% markdown
#### Additional calculations are performed
# %% codecell
def calc (model, pars, t, y0):
    #model parameters
    pars_model=pars[0:5]
    #conversion factors
    conversions=pars[5:7]

    #solve the model
    y=odeint(model,y0,t, args=(pars_model,))

    #calculate CFC
    #CFC = conversions[0]*y[:, 1]+conversions[1]*y[:, 2]
    #CFC14 = (conversions[0]*y[:, 1]+conversions[1]*y[:, 2])-dG.Cmicinit[0]
    CFC14 = (conversions[0]*y[:, 1]+conversions[1]*y[:, 2])-dR.Cmicinit[0]


    #Create data with predictions
    #yhat = np.concatenate((y[:, 3].reshape(len(dG.Time),1),
    #                       CFC14.reshape(len(dG.Time),1)), axis=1)
    yhat = np.concatenate((y[:, 3].reshape(len(dR.Time),1),
                           CFC14.reshape(len(dR.Time),1)), axis=1)

    return yhat
# %% markdown
#### Objective function is defined
# %% codecell
def obj_fun (x):
    #define parameters
    pars = x

    #initial conditions
    G_i = dG.Sinit[0]
    Bs_i = dG.Cmicinit[0]/pars[6]


    y = np.array([G_i, 0, Bs_i, 0])

    #times
    #t = dG.Time
    t = dR.Time

    #model simulations
    yhat_full = calc(Submodel, pars, t, y)


    #observations
    #obs=np.concatenate((np.array([dG.CO2cumul]).reshape(len(dG.Time),1),
    #                    np.array([dG.Cmic14]).reshape(len(dG.Time),1)),
    #                 axis=1)
    obs=np.concatenate((np.array([dR.CO2cumul]).reshape(len(dR.Time),1),
                        np.array([dR.Cmic14]).reshape(len(dR.Time),1)),
                     axis=1)

    #weights
    #weights=np.concatenate((np.nanmean(dG.CO2cumul).repeat(len(dG.Time)).reshape(len(dG.Time),1),
    #                        np.nanmean(dG.Cmic14/5).repeat(len(dG.Time)).reshape(len(dG.Time),1)),
    #                   axis=1)
    weights=np.concatenate((np.nanmean(dR.CO2cumul).repeat(len(dR.Time)).reshape(len(dR.Time),1),
                           np.nanmean(dR.Cmic14/5).repeat(len(dR.Time)).reshape(len(dR.Time),1)),
                      axis=1)

    out=np.nansum(((yhat_full-obs)/weights)**2)

    return out
# %% markdown
#### Goodness of fit
# %% codecell
def goodness (x):
    #define parameters
    pars = x

    #initial conditions
    G_i = dG.Sinit[0]
    Bs_i = dG.Cmicinit[0]/pars[6]


    y = np.array([G_i, 0, Bs_i, 0])

    #times
    #t = dG.Time
    t = dR.Time

    #model simulations
    yhat_full = calc(Submodel, pars, t, y)


    #observations
    #obs=np.concatenate((np.array([dG.CO2cumul]).reshape(len(dG.Time),1),
    #                    np.array([dG.Cmic14]).reshape(len(dG.Time),1)),
    #                 axis=1)
    obs=np.concatenate((np.array([dR.CO2cumul]).reshape(len(dR.Time),1),
                        np.array([dR.Cmic14]).reshape(len(dR.Time),1)),
                     axis=1)

    R2=1-np.nansum((obs-yhat_full)**2)/np.nansum((obs-np.nanmean(obs))**2)
    ll=-np.nansum((obs-yhat_full)**2)/2/np.nanstd(obs)**2
    AIC = len(pars)*2 - 2*ll

    out = np.array([R2, ll, AIC])

    return out
# %% markdown
#### Parameters estimation
# %% codecell
ChB1991_optparsG=dual_annealing(obj_fun, [(1e-3, 10), (1e-3, 100), (1e-3, 10), (1e-8, 1), (0, 1), (0, 1),(0, 1)])
ChB1991_optparsR=dual_annealing(obj_fun, [(1e-3, 10), (1e-3, 100), (1e-3, 10), (1e-8, 1), (0, 1), (0, 1),(0, 1)])

print(ChB1991_optparsG)
print(ChB1991_optparsR)
print(goodness(ChB1991_optparsG.x))
print(goodness(ChB1991_optparsR.x))

np.savetxt('/mnt/580CBE2464C5F83D/pracovni/data_statistika/Data_z_clanku/DBconcept/parameters/ChB1991_optparsG.csv', ChB1991_optparsG.x.reshape(1,7), delimiter=",")
np.savetxt('/mnt/580CBE2464C5F83D/pracovni/data_statistika/Data_z_clanku/DBconcept/parameters/ChB1991_optparsR.csv', ChB1991_optparsR.x.reshape(1,7), delimiter=",")

# %% markdown
### Monod model
#### The model is defined
# %% codecell
def Monod (y, t, pars):
    #define initial states
    G=y[0];    B=y[1];     CO2=y[2]

    #define parameters
    v=pars[0];   k=pars[1];
    m=pars[2];   Y=pars[3]

    #Define fluxes
    ##glucose uptake
    uptake=v*B*G/(k+G)
    ##decay
    decay=B*m

    #Define derivatives
    dGdt=-uptake
    dBdt=Y*uptake-decay
    dCO2dt=(1-Y)*uptake

    return dGdt, dBdt, dCO2dt;
# %% markdown
#### Additional calculations are performed
# %% codecell
def monodcalc (model, pars, t, y0):
    #model parameters
    pars_model=pars[0:4]
    #conversion factors
    conversions=pars[4]

    #solve the model
    y=odeint(model,y0,t, args=(pars_model,))

    #calculate CFC
    #CFC = conversions[0]*y[:, 1]
    #CFC14 = (conversions*y[:, 1])-dG.Cmicinit[0]
    CFC14 = (conversions*y[:, 1])-dR.Cmicinit[0]

    #Create data with predictions
    #yhat = np.concatenate((y[:, 2].reshape(len(dG.Time),1),
    #                       CFC14.reshape(len(dG.Time),1)), axis=1)
    yhat = np.concatenate((y[:, 2].reshape(len(dR.Time),1),
                           CFC14.reshape(len(dR.Time),1)), axis=1)

    return yhat
# %% markdown
#### Objective function is defined
# %% codecell
def monodobj_fun (x):
    #define parameters
    pars = x

    #initial conditions
    G_i = dG.Sinit[0]
    B_i = dG.Cmicinit[0]/pars[4]

    y = np.array([G_i, B_i, 0])
    #times
    #t = dG.Time
    t = dR.Time

    #model simulations
    yhat_full = monodcalc(Monod, pars, t, y)
    #observations
    #obs=np.concatenate((np.array([dG.CO2cumul]).reshape(len(dG.Time),1),
    #                    np.array([dG.Cmic14]).reshape(len(dG.Time),1)),
    #                 axis=1)
    obs=np.concatenate((np.array([dR.CO2cumul]).reshape(len(dR.Time),1),
                        np.array([dR.Cmic14]).reshape(len(dR.Time),1)),
                     axis=1)

    #weights
    #weights=np.concatenate((np.nanmean(dG.CO2cumul).repeat(len(dG.Time)).reshape(len(dG.Time),1),
    #                        np.nanmean(dG.Cmic14/5).repeat(len(dG.Time)).reshape(len(dG.Time),1)),
    #                   axis=1)
    weights=np.concatenate((np.nanmean(dR.CO2cumul).repeat(len(dR.Time)).reshape(len(dR.Time),1),
                            np.nanmean(dR.Cmic14/5).repeat(len(dR.Time)).reshape(len(dR.Time),1)),
                       axis=1)

    out=np.nansum(((yhat_full-obs)/weights)**2)

    return out
# %% markdown
# ## Goodness of fit
# %% codecell
def monodgoodness (x):
    #define parameters
    pars = x

    #initial conditions
    G_i = dG.Sinit[0]
    B_i = dG.Cmicinit[0]/pars[4]

    y = np.array([G_i, B_i, 0])
    #times
    #t = dG.Time
    t = dR.Time

    #model simulations
    yhat_full = monodcalc(Monod, pars, t, y)
    #observations
    #obs=np.concatenate((np.array([dG.CO2cumul]).reshape(len(dG.Time),1),
    #                    np.array([dG.Cmic14]).reshape(len(dG.Time),1)),
    #                 axis=1)
    obs=np.concatenate((np.array([dR.CO2cumul]).reshape(len(dR.Time),1),
                        np.array([dR.Cmic14]).reshape(len(dR.Time),1)),
                     axis=1)

    R2=1-np.nansum((obs-yhat_full)**2)/np.nansum((obs-np.nanmean(obs))**2)
    ll=-np.nansum((obs-yhat_full)**2)/2/np.nanstd(obs)**2
    AIC = len(pars)*2 - 2*ll

    out = np.array([R2, ll, AIC])

    return out
# %% markdown
#### Parameters estimation
# %% codecell
ChB1991_monodparsG=dual_annealing(monodobj_fun, [(1e-3, 10), (1e-3, 100), (1e-8, 1), (0, 1), (0, 1)])
ChB1991_monodparsR=dual_annealing(monodobj_fun, [(1e-3, 10), (1e-3, 100), (1e-8, 1), (0, 1), (0, 1)])

print(ChB1991_monodparsG)
print(ChB1991_monodparsR)

print(monodgoodness(ChB1991_monodparsG.x))
print(monodgoodness(ChB1991_monodparsR.x))

np.savetxt('/mnt/580CBE2464C5F83D/pracovni/data_statistika/Data_z_clanku/DBconcept/parameters/ChB1991_monodparsG.csv', ChB1991_monodparsG.x.reshape(1,5), delimiter=",")
np.savetxt('/mnt/580CBE2464C5F83D/pracovni/data_statistika/Data_z_clanku/DBconcept/parameters/ChB1991_monodparsR.csv', ChB1991_monodparsR.x.reshape(1,5), delimiter=",")
