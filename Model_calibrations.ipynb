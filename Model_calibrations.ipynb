# %% codecell
import numpy as np
import pandas as pd
from scipy.integrate import odeint
from scipy.optimize import dual_annealing

# %% markdown
## Marstorp and Witter 1999
### Sub-microbial model
#### The model is defined
# %% codecell
#read data
d = pd.read_csv('/mnt/580CBE2464C5F83D/pracovni/data_statistika/Data_z_clanku/DBconcept/Data/Marstorp1999.csv', sep=',')

#d = d[(d.time<0.3) | (d.time>0.8)]

print(d)
def Submodel (y, t, pars):
    #define initial states
    G=y[0];    Br=y[1];    Bs=y[2];     CO2=y[3]

    #define parameters
    v=pars[0];   k=pars[1];     f=pars[2]
    m=pars[3];   Y=pars[4]

    #Define fluxes
    ##glucose uptake
    uptake=v*Bs*G/(k+G)
    ##transfer function
    transfer=f*Br
    #death rate
    death=m*Bs

    #Define derivatives
    dGdt=-uptake
    dBrdt=uptake-transfer
    dBsdt=transfer*Y-death
    dCO2dt=transfer*(1-Y)

    return dGdt, dBrdt, dBsdt, dCO2dt;
# %% markdown
#### Additional calculations are performed
# %% codecell
def calc (model, pars, t, y0):
    #model parameters
    pars_model=pars[0:5]
    #conversion factors
    conversions=pars[5:7]

    #solve the model
    y=odeint(model,y0,t, args=(pars_model,))

    #calculate CFC
    fs=d.Cmicinit[0]*conversions[1]/d.DNAinit[0]
    CFC = conversions[0]*y[:, 1]+fs*y[:, 2]
    CFC14 = (conversions[0]*y[:, 1]+fs*y[:, 2])-d.Cmicinit[0]

    #calculate DNA
    DNA = conversions[1]*y[:, 2]

    #Create data with predictions
    yhat = np.concatenate((y[:, 0].reshape(len(d.Time),1),#glucose
                           y[:, 3].reshape(len(d.Time),1),
                           CFC.reshape(len(d.Time),1),
                           CFC14.reshape(len(d.Time),1),
                           DNA.reshape(len(d.Time),1)), axis=1)

    return yhat
# %% markdown
#### Objective function is defined
# %% codecell
def obj_fun (x):
    #define parameters
    pars = x

    #initial conditions
    G_i = d.Sinit[0]
    Bs_i = d.DNAinit[0]/pars[6]
    #Br_i = (d.Cmicinit[0]-Bs_i*pars[6])/pars[5]
    y0 = np.array([G_i, 0, Bs_i, 0])

    #times
    t = d.Time

    #model simulations
    yhat_full = calc(Submodel, pars, t, y0)

    #observations
    obs=np.concatenate((np.array([d.S]).reshape(len(d.Time),1),
                        np.array([d.CO212cumul]).reshape(len(d.Time),1),
                        np.array([d.Cmic14+d.Cmic12]).reshape(len(d.Time),1),
                        np.array([d.Cmic14]).reshape(len(d.Time),1),
                        np.array([d.DNA]).reshape(len(d.Time),1)),
                     axis=1)

    #weights
    weights=np.concatenate((np.nanmean(d.S).repeat(len(d.Time)).reshape(len(d.Time),1),
                            np.nanmean(d.CO212cumul).repeat(len(d.Time)).reshape(len(d.Time),1),
                            np.nanmean((d.Cmic14+d.Cmic12)/5).repeat(len(d.Time)).reshape(len(d.Time),1),
                            np.nanmean(d.Cmic14).repeat(len(d.Time)).reshape(len(d.Time),1),
                            np.nanmean(d.DNA).repeat(len(d.Time)).reshape(len(d.Time),1)),
                       axis=1)


    out=np.nansum(((yhat_full-obs)/weights)**2)

    return out
# %% markdown
#### Goodness of fit
# %% codecell
def goodness (x):
    #define parameters
    pars = x

    #initial conditions
    G_i = d.Sinit[0]
    Bs_i = d.DNAinit[0]/pars[6]
    #Br_i = (d.Cmicinit[0]-Bs_i*pars[6])/pars[5]
    y0 = np.array([G_i, 0, Bs_i, 0])

    #times
    t = d.Time

    #model simulations
    yhat_full = calc(Submodel, pars, t, y0)

    #observations
    obs=np.concatenate((np.array([d.S]).reshape(len(d.Time),1),
                        np.array([d.CO212cumul]).reshape(len(d.Time),1),
                        np.array([d.Cmic14+d.Cmic12]).reshape(len(d.Time),1),
                        np.array([d.Cmic14]).reshape(len(d.Time),1),
                        np.array([d.DNA]).reshape(len(d.Time),1)),
                     axis=1)

    R2=1-np.nansum((obs-yhat_full)**2)/np.nansum((obs-np.nanmean(obs))**2)
    ll=-np.nansum((obs-yhat_full)**2)/2/np.nanstd(obs)**2
    AIC = len(pars)*2 - 2*ll

    out = np.array([R2, ll, AIC])

    return out
# %% markdown
#### Parameters estimation
# %% codecell
marstorp_optpars=dual_annealing(obj_fun, [(1e-3, 10), (1e-3, 100), (1e-3, 10), (1e-8, 1), (0, 1), (0, 1),(0, 1)])
print(marstorp_optpars)
print(goodness(marstorp_optpars.x))
np.savetxt('/mnt/580CBE2464C5F83D/pracovni/data_statistika/Data_z_clanku/DBconcept/parameters/marstorp_optpars.csv', marstorp_optpars.x.reshape(1,7), delimiter=",")
# %% markdown
### Monod model
#### The model is defined
# %% codecell
def Monod (y, t, pars):
    #define initial states
    G=y[0];    B=y[1];     CO2=y[2]

    #define parameters
    v=pars[0];   k=pars[1];
    m=pars[2];   Y=pars[3]

    #Define fluxes
    ##glucose uptake
    uptake=v*B*G/(k+G)
    ##decay
    decay=B*m

    #Define derivatives
    dGdt=-uptake
    dBdt=Y*uptake-decay
    dCO2dt=(1-Y)*uptake

    return dGdt, dBdt, dCO2dt;
# %% markdown
#### Additional calculations are performed
# %% codecell
def monodcalc (model, pars, t, y0):
    #model parameters
    pars_model=pars[0:4]
    #conversion factors
    conversions=pars[4:6]

    #solve the model
    y=odeint(model,y0,t, args=(pars_model,))

    #calculate CFC
    CFC = conversions[0]*y[:, 1]
    CFC14 = (conversions[0]*y[:, 1])-d.Cmicinit[0]
    #calculate DNA
    DNA = conversions[1]*y[:, 1]

    #Create data with predictions
    yhat = np.concatenate((y[:, 0].reshape(len(d.Time),1),#glucose
                           y[:, 2].reshape(len(d.Time),1),
                           CFC.reshape(len(d.Time),1),
                           CFC14.reshape(len(d.Time),1),
                           DNA.reshape(len(d.Time),1)), axis=1)

    return yhat
# %% markdown
#### Objective function is defined
# %% codecell
def monodobj_fun (x):
    #define parameters
    pars = x

    #initial conditions
    G_i = d.Sinit[0]
    B_i = d.DNAinit[0]/pars[5]
    y0 = np.array([G_i, B_i, 0])

    #times
    t = d.Time

    #model simulations
    yhat_full = monodcalc(Monod, pars, t, y0)

    #observations
    obs=np.concatenate((np.array([d.S]).reshape(len(d.Time),1),
                        np.array([d.CO212cumul]).reshape(len(d.Time),1),
                        np.array([d.Cmic14+d.Cmic12]).reshape(len(d.Time),1),
                        np.array([d.Cmic14]).reshape(len(d.Time),1),
                        np.array([d.DNA]).reshape(len(d.Time),1)),
                     axis=1)

    #weights
    weights=np.concatenate((np.nanmean(d.S).repeat(len(d.Time)).reshape(len(d.Time),1),
                            np.nanmean(d.CO212cumul).repeat(len(d.Time)).reshape(len(d.Time),1),
                            np.nanmean((d.Cmic14+d.Cmic12)/5).repeat(len(d.Time)).reshape(len(d.Time),1),
                            np.nanmean(d.Cmic14).repeat(len(d.Time)).reshape(len(d.Time),1),
                            np.nanmean(d.DNA).repeat(len(d.Time)).reshape(len(d.Time),1)),
                       axis=1)


    out=np.nansum(((yhat_full-obs)/weights)**2)

    return out
# %% markdown
# ## Goodness of fit
# %% codecell
def monodgoodness (x):
    #define parameters
    pars = x

    #initial conditions
    G_i = d.Sinit[0]
    B_i = d.DNAinit[0]/pars[5]
    y0 = np.array([G_i, B_i, 0])

    #times
    t = d.Time

    #model simulations
    yhat_full = monodcalc(Monod, pars, t, y0)

    #observations
    obs=np.concatenate((np.array([d.S]).reshape(len(d.Time),1),
                        np.array([d.CO212cumul]).reshape(len(d.Time),1),
                        np.array([d.Cmic14+d.Cmic12]).reshape(len(d.Time),1),
                        np.array([d.Cmic14]).reshape(len(d.Time),1),
                        np.array([d.DNA]).reshape(len(d.Time),1)),
                     axis=1)

    R2=1-np.nansum((obs-yhat_full)**2)/np.nansum((obs-np.nanmean(obs))**2)
    ll=-np.nansum((obs-yhat_full)**2)/2/np.nanstd(obs)**2
    AIC = len(pars)*2 - 2*ll

    out = np.array([R2, ll, AIC])

    return out
# %% markdown
#### Parameters estimation
# %% codecell
marstorp_monodpars=dual_annealing(monodobj_fun, [(1e-3, 10), (1e-3, 100), (1e-8, 1), (0, 1), (0, 1), (0, 1)])

print(marstorp_monodpars)
print(monodgoodness(marstorp_monodpars.x))
np.savetxt('/mnt/580CBE2464C5F83D/pracovni/data_statistika/Data_z_clanku/DBconcept/parameters/marstorp_monodpars.csv', marstorp_monodpars.x.reshape(1,6), delimiter=",")

# %% markdown
## Santruckova et al. 1999
### Sub-microbial model
#### The model is defined
# %% codecell
#read data
d = pd.read_csv('/mnt/580CBE2464C5F83D/pracovni/data_statistika/Data_z_clanku/DBconcept/Data/Santruckova2004.csv', sep=',')

#d = d[(d.time<0.3) | (d.time>0.8)]

print(d)
def Submodel (y, t, pars):
    #define initial states
    G=y[0];    Br=y[1];    Bs=y[2];     CO2=y[3]

    #define parameters
    v=pars[0];   k=pars[1];     f=pars[2]
    m=pars[3];   Y=pars[4]

    #Define fluxes
    ##glucose uptake
    uptake=v*Bs*G/(k+G)
    ##transfer function
    transfer=f*Br
    #death rate
    death=m*Bs

    #Define derivatives
    dGdt=-uptake
    dBrdt=uptake-transfer
    dBsdt=transfer*Y-death
    dCO2dt=transfer*(1-Y)

    return dGdt, dBrdt, dBsdt, dCO2dt;
# %% markdown
#### Additional calculations are performed
# %% codecell
def calc (model, pars, t, y0):
    #model parameters
    pars_model=pars[0:5]
    #conversion factors
    conversions=pars[5:7]

    #solve the model
    y=odeint(model,y0,t, args=(pars_model,))

    #calculate CFC
    #CFC = conversions[0]*y[:, 1]+conversions[1]*y[:, 2]
    CFC14 = (conversions[0]*y[:, 1]+conversions[1]*y[:, 2])-d.Cmicinit[0]

    #Create data with predictions
    yhat = np.concatenate((y[:, 0].reshape(len(d.Time),1),#glucose
                           y[:, 3].reshape(len(d.Time),1),
                           CFC14.reshape(len(d.Time),1)), axis=1)

    return yhat
# %% markdown
#### Objective function is defined
# %% codecell
def obj_fun (x):
    #define parameters
    pars = x

    #initial conditions
    G_i = d.Sinit[0]
    Bs_i = d.Cmicinit[0]/pars[6]
    #Br_i = (d.Cmicinit[0]-Bs_i*pars[6])/pars[5]
    y0 = np.array([G_i, 0, Bs_i, 0])

    #times
    t = d.Time

    #model simulations
    yhat_full = calc(Submodel, pars, t, y0)

    #observations
    obs=np.concatenate((np.array([d.S]).reshape(len(d.Time),1),
                        np.array([d.CO214cumul]).reshape(len(d.Time),1),
                        np.array([d.Cmic14]).reshape(len(d.Time),1)),
                     axis=1)

    #weights
    weights=np.concatenate((np.nanmean(d.S).repeat(len(d.Time)).reshape(len(d.Time),1),
                            np.nanmean(d.CO214cumul).repeat(len(d.Time)).reshape(len(d.Time),1),
                            np.nanmean(d.Cmic14/5).repeat(len(d.Time)).reshape(len(d.Time),1)),
                       axis=1)


    out=np.nansum(((yhat_full-obs)/weights)**2)

    return out
# %% markdown
#### Goodness of fit
# %% codecell
def goodness (x):
    #define parameters
    pars = x

    #initial conditions
    G_i = d.Sinit[0]
    Bs_i = d.Cmicinit[0]/pars[6]
    #Br_i = (d.Cmicinit[0]-Bs_i*pars[6])/pars[5]
    y0 = np.array([G_i, 0, Bs_i, 0])

    #times
    t = d.Time

    #model simulations
    yhat_full = calc(Submodel, pars, t, y0)

    #observations
    obs=np.concatenate((np.array([d.S]).reshape(len(d.Time),1),
                        np.array([d.CO214cumul]).reshape(len(d.Time),1),
                        np.array([d.Cmic14]).reshape(len(d.Time),1)),
                     axis=1)

    R2=1-np.nansum((obs-yhat_full)**2)/np.nansum((obs-np.nanmean(obs))**2)
    ll=-np.nansum((obs-yhat_full)**2)/2/np.nanstd(obs)**2
    AIC = len(pars)*2 - 2*ll

    out = np.array([R2, ll, AIC])

    return out
# %% markdown
#### Parameters estimation
# %% codecell
hasan_optpars=dual_annealing(obj_fun, [(1e-3, 10), (1e-3, 100), (1e-3, 10), (1e-8, 1), (0, 1), (0, 1),(0, 1)])
print(hasan_optpars)
print(goodness(hasan_optpars.x))
np.savetxt('/mnt/580CBE2464C5F83D/pracovni/data_statistika/Data_z_clanku/DBconcept/parameters/hasan_optpars.csv', hasan_optpars.x.reshape(1,7), delimiter=",")
# %% markdown
### Monod model
#### The model is defined
# %% codecell
def Monod (y, t, pars):
    #define initial states
    G=y[0];    B=y[1];     CO2=y[2]

    #define parameters
    v=pars[0];   k=pars[1];
    m=pars[2];   Y=pars[3]

    #Define fluxes
    ##glucose uptake
    uptake=v*B*G/(k+G)
    ##decay
    decay=B*m

    #Define derivatives
    dGdt=-uptake
    dBdt=Y*uptake-decay
    dCO2dt=(1-Y)*uptake

    return dGdt, dBdt, dCO2dt;
# %% markdown
#### Additional calculations are performed
# %% codecell
def monodcalc (model, pars, t, y0):
    #model parameters
    pars_model=pars[0:4]
    #conversion factors
    conversions=pars[4]

    #solve the model
    y=odeint(model,y0,t, args=(pars_model,))

    #calculate CFC
    #CFC = conversions*y[:, 1]
    CFC14 = (conversions*y[:, 1])-d.Cmicinit[0]

    #Create data with predictions
    yhat = np.concatenate((y[:, 0].reshape(len(d.Time),1),#glucose
                           y[:, 2].reshape(len(d.Time),1),
                           CFC14.reshape(len(d.Time),1)), axis=1)

    return yhat
# %% markdown
#### Objective function is defined
# %% codecell
def monodobj_fun (x):
    #define parameters
    pars = x

    #initial conditions
    G_i = d.Sinit[0]
    B_i = d.Cmicinit[0]/pars[4]
    y0 = np.array([G_i, B_i, 0])

    #times
    t = d.Time

    #model simulations
    yhat_full = monodcalc(Monod, pars, t, y0)

    #observations
    obs=np.concatenate((np.array([d.S]).reshape(len(d.Time),1),
                        np.array([d.CO214cumul]).reshape(len(d.Time),1),
                        np.array([d.Cmic14]).reshape(len(d.Time),1)),
                     axis=1)

    #weights
    weights=np.concatenate((np.nanmean(d.S).repeat(len(d.Time)).reshape(len(d.Time),1),
                            np.nanmean(d.CO214cumul).repeat(len(d.Time)).reshape(len(d.Time),1),
                            np.nanmean(d.Cmic14/5).repeat(len(d.Time)).reshape(len(d.Time),1)),
                       axis=1)


    out=np.nansum(((yhat_full-obs)/weights)**2)

    return out
# %% markdown
# ## Goodness of fit
# %% codecell
def monodgoodness (x):
    #define parameters
    pars = x

    #initial conditions
    G_i = d.Sinit[0]
    B_i = d.Cmicinit[0]/pars[4]
    y0 = np.array([G_i, B_i, 0])

    #times
    t = d.Time

    #model simulations
    yhat_full = monodcalc(Monod, pars, t, y0)

    #observations
    obs=np.concatenate((np.array([d.S]).reshape(len(d.Time),1),
                        np.array([d.CO214cumul]).reshape(len(d.Time),1),
                        np.array([d.Cmic14]).reshape(len(d.Time),1)),
                     axis=1)

    R2=1-np.nansum((obs-yhat_full)**2)/np.nansum((obs-np.nanmean(obs))**2)
    ll=-np.nansum((obs-yhat_full)**2)/2/np.nanstd(obs)**2
    AIC = len(pars)*2 - 2*ll

    out = np.array([R2, ll, AIC])

    return out
# %% markdown
#### Parameters estimation
# %% codecell
hasan_monodpars=dual_annealing(monodobj_fun, [(1e-3, 10), (1e-3, 100), (1e-8, 1), (0, 1), (0, 1)])

print(hasan_monodpars)
print(monodgoodness(hasan_monodpars.x))
np.savetxt('/mnt/580CBE2464C5F83D/pracovni/data_statistika/Data_z_clanku/DBconcept/parameters/hasan_monodpars.csv', hasan_monodpars.x.reshape(1,5), delimiter=",")

# %% markdown
## Ziegler et al. 2005
### Sub-microbial model
#### The model is defined
# %% codecell
#read data
d = pd.read_csv('/mnt/580CBE2464C5F83D/pracovni/data_statistika/Data_z_clanku/DBconcept/Data/Ziegler2005.csv', sep=',')

#d = d[(d.time<0.3) | (d.time>0.8)]

print(d)
def Submodel (y, t, pars):
    #define initial states
    G=y[0];    Br=y[1];    Bs=y[2];     CO2=y[3]

    #define parameters
    v=pars[0];   k=pars[1];     f=pars[2]
    m=pars[3];   Y=pars[4]

    #Define fluxes
    ##glucose uptake
    uptake=v*Bs*G/(k+G)
    ##transfer function
    transfer=f*Br
    #death rate
    death=m*Bs

    #Define derivatives
    dGdt=-uptake
    dBrdt=uptake-transfer
    dBsdt=transfer*Y-death
    dCO2dt=transfer*(1-Y)

    return dGdt, dBrdt, dBsdt, dCO2dt;
# %% markdown
#### Additional calculations are performed
# %% codecell
def calc (model, pars, t, y0):
    #model parameters
    pars_model=pars[0:5]
    #conversion factors
    conversions=pars[5:7]

    #solve the model
    y=odeint(model,y0,t, args=(pars_model,))

    #calculate CFC
    CFC = conversions[0]*y[:, 1]+conversions[1]*y[:, 2]
    #CFC14 = (conversions[0]*y[:, 1]+conversions[1]*y[:, 2])-d.Cmicinit[0]

    #Create data with predictions
    yhat = np.concatenate((y[:, 0].reshape(len(d.Time),1),#glucose
                           y[:, 3].reshape(len(d.Time),1),
                           CFC.reshape(len(d.Time),1)), axis=1)

    return yhat
# %% markdown
#### Objective function is defined
# %% codecell
def obj_fun (x):
    #define parameters
    pars = x

    #initial conditions
    G_i = d.Sinit[0]
    Bs_i = d.Cmicinit[0]/pars[6]
    #Br_i = (d.Cmicinit[0]-Bs_i*pars[6])/pars[5]
    y0 = np.array([G_i, 0, Bs_i, 0])

    #times
    t = d.Time

    #model simulations
    yhat_full = calc(Submodel, pars, t, y0)

    #observations
    obs=np.concatenate((np.array([d.S]).reshape(len(d.Time),1),
                        np.array([d.CO2]).reshape(len(d.Time),1),
                        np.array([d.Cmic]).reshape(len(d.Time),1)),
                     axis=1)

    #weights
    weights=np.concatenate((np.nanmean(d.S).repeat(len(d.Time)).reshape(len(d.Time),1),
                            np.nanmean(d.CO2).repeat(len(d.Time)).reshape(len(d.Time),1),
                            np.nanmean(d.Cmic/5).repeat(len(d.Time)).reshape(len(d.Time),1)),
                       axis=1)


    out=np.nansum(((yhat_full-obs)/weights)**2)

    return out
# %% markdown
#### Goodness of fit
# %% codecell
def goodness (x):
    #define parameters
    pars = x

    #initial conditions
    G_i = d.Sinit[0]
    Bs_i = d.Cmicinit[0]/pars[6]
    #Br_i = (d.Cmicinit[0]-Bs_i*pars[6])/pars[5]
    y0 = np.array([G_i, 0, Bs_i, 0])

    #times
    t = d.Time

    #model simulations
    yhat_full = calc(Submodel, pars, t, y0)

    #observations
    obs=np.concatenate((np.array([d.S]).reshape(len(d.Time),1),
                        np.array([d.CO2]).reshape(len(d.Time),1),
                        np.array([d.Cmic]).reshape(len(d.Time),1)),
                     axis=1)

    R2=1-np.nansum((obs-yhat_full)**2)/np.nansum((obs-np.nanmean(obs))**2)
    ll=-np.nansum((obs-yhat_full)**2)/2/np.nanstd(obs)**2
    AIC = len(pars)*2 - 2*ll

    out = np.array([R2, ll, AIC])

    return out
# %% markdown
#### Parameters estimation
# %% codecell
ziegler_optpars=dual_annealing(obj_fun, [(1e-3, 10), (1e-3, 100), (1e-3, 10), (1e-8, 1), (0, 1), (0, 1),(0, 1)])
print(ziegler_optpars)
print(goodness(ziegler_optpars.x))
np.savetxt('/mnt/580CBE2464C5F83D/pracovni/data_statistika/Data_z_clanku/DBconcept/parameters/ziegler_optpars.csv', ziegler_optpars.x.reshape(1,7), delimiter=",")
# %% markdown
### Monod model
#### The model is defined
# %% codecell
def Monod (y, t, pars):
    #define initial states
    G=y[0];    B=y[1];     CO2=y[2]

    #define parameters
    v=pars[0];   k=pars[1];
    m=pars[2];   Y=pars[3]

    #Define fluxes
    ##glucose uptake
    uptake=v*B*G/(k+G)
    ##decay
    decay=B*m

    #Define derivatives
    dGdt=-uptake
    dBdt=Y*uptake-decay
    dCO2dt=(1-Y)*uptake

    return dGdt, dBdt, dCO2dt;
# %% markdown
#### Additional calculations are performed
# %% codecell
def monodcalc (model, pars, t, y0):
    #model parameters
    pars_model=pars[0:4]
    #conversion factors
    conversions=pars[4]

    #solve the model
    y=odeint(model,y0,t, args=(pars_model,))

    #calculate CFC
    CFC = conversions*y[:, 1]
    #CFC14 = (conversions*y[:, 1])-d.Cmicinit[0]

    #Create data with predictions
    yhat = np.concatenate((y[:, 0].reshape(len(d.Time),1),#glucose
                           y[:, 2].reshape(len(d.Time),1),
                           CFC.reshape(len(d.Time),1)), axis=1)

    return yhat
# %% markdown
#### Objective function is defined
# %% codecell
def monodobj_fun (x):
    #define parameters
    pars = x

    #initial conditions
    G_i = d.Sinit[0]
    B_i = d.Cmicinit[0]/pars[4]
    y0 = np.array([G_i, B_i, 0])

    #times
    t = d.Time

    #model simulations
    yhat_full = monodcalc(Monod, pars, t, y0)

    #observations
    obs=np.concatenate((np.array([d.S]).reshape(len(d.Time),1),
                        np.array([d.CO2]).reshape(len(d.Time),1),
                        np.array([d.Cmic]).reshape(len(d.Time),1)),
                     axis=1)

    #weights
    weights=np.concatenate((np.nanmean(d.S).repeat(len(d.Time)).reshape(len(d.Time),1),
                            np.nanmean(d.CO2).repeat(len(d.Time)).reshape(len(d.Time),1),
                            np.nanmean(d.Cmic/5).repeat(len(d.Time)).reshape(len(d.Time),1)),
                       axis=1)


    out=np.nansum(((yhat_full-obs)/weights)**2)

    return out
# %% markdown
# ## Goodness of fit
# %% codecell
def monodgoodness (x):
    #define parameters
    pars = x

    #initial conditions
    G_i = d.Sinit[0]
    B_i = d.Cmicinit[0]/pars[4]
    y0 = np.array([G_i, B_i, 0])

    #times
    t = d.Time

    #model simulations
    yhat_full = monodcalc(Monod, pars, t, y0)

    #observations
    obs=np.concatenate((np.array([d.S]).reshape(len(d.Time),1),
                        np.array([d.CO2]).reshape(len(d.Time),1),
                        np.array([d.Cmic]).reshape(len(d.Time),1)),
                     axis=1)

    R2=1-np.nansum((obs-yhat_full)**2)/np.nansum((obs-np.nanmean(obs))**2)
    ll=-np.nansum((obs-yhat_full)**2)/2/np.nanstd(obs)**2
    AIC = len(pars)*2 - 2*ll

    out = np.array([R2, ll, AIC])

    return out
# %% markdown
#### Parameters estimation
# %% codecell
ziegler_monodpars=dual_annealing(monodobj_fun, [(1e-3, 10), (1e-3, 100), (1e-8, 1), (0, 1), (0, 1)])

print(ziegler_monodpars)
print(monodgoodness(ziegler_monodpars.x))
np.savetxt('/mnt/580CBE2464C5F83D/pracovni/data_statistika/Data_z_clanku/DBconcept/parameters/ziegler_monodpars.csv', ziegler_monodpars.x.reshape(1,5), delimiter=",")

# %% markdown
## Blagodatskaya et al. 2014
### Sub-microbial model
#### The model is defined
# %% codecell
#read data
d = pd.read_csv('/mnt/580CBE2464C5F83D/pracovni/data_statistika/Data_z_clanku/DBconcept/Data/Blagodatskaya2014.csv', sep=',')

#d = d[(d.time<0.3) | (d.time>0.8)]

print(d)
def Submodel (y, t, pars):
    #define initial states
    G=y[0];    Br=y[1];    Bs=y[2];     CO2=y[3]

    #define parameters
    v=pars[0];   k=pars[1];     f=pars[2]
    m=pars[3];   Y=pars[4]

    #Define fluxes
    ##glucose uptake
    uptake=v*Bs*G/(k+G)
    ##transfer function
    transfer=f*Br
    #death rate
    death=m*Bs

    #Define derivatives
    dGdt=-uptake
    dBrdt=uptake-transfer
    dBsdt=transfer*Y-death
    dCO2dt=transfer*(1-Y)

    return dGdt, dBrdt, dBsdt, dCO2dt;
# %% markdown
#### Additional calculations are performed
# %% codecell
def calc (model, pars, t, y0):
    #model parameters
    pars_model=pars[0:5]
    #conversion factors
    conversions=pars[5:7]

    #solve the model
    y=odeint(model,y0,t, args=(pars_model,))

    #calculate CFC
    #CFC = conversions[0]*y[:, 1]+conversions[1]*y[:, 2]
    CFC14 = (conversions[0]*y[:, 1]+conversions[1]*y[:, 2])-d.Cmicinit[0]

    #Create data with predictions
    yhat = np.concatenate((y[:, 3].reshape(len(d.Time),1),
                           CFC14.reshape(len(d.Time),1)), axis=1)

    return yhat
# %% markdown
#### Objective function is defined
# %% codecell
def obj_fun (x):
    #define parameters
    pars = x

    #initial conditions
    G_i = d.Sinit[0]
    Bs_i = d.Cmicinit[0]/pars[6]
    #Br_i = (d.Cmicinit[0]-Bs_i*pars[6])/pars[5]
    y0 = np.array([G_i, 0, Bs_i, 0])

    #times
    t = d.Time

    #model simulations
    yhat_full = calc(Submodel, pars, t, y0)

    #observations
    obs=np.concatenate((np.array([d.CO214]).reshape(len(d.Time),1),
                        np.array([d.Cmic14]).reshape(len(d.Time),1)),
                     axis=1)

    #weights
    weights=np.concatenate((np.nanmean(d.CO214).repeat(len(d.Time)).reshape(len(d.Time),1),
                            np.nanmean(d.Cmic14/5).repeat(len(d.Time)).reshape(len(d.Time),1)),
                       axis=1)


    out=np.nansum(((yhat_full-obs)/weights)**2)

    return out
# %% markdown
#### Goodness of fit
# %% codecell
def goodness (x):
    #define parameters
    pars = x

    #initial conditions
    G_i = d.Sinit[0]
    Bs_i = d.Cmicinit[0]/pars[6]
    #Br_i = (d.Cmicinit[0]-Bs_i*pars[6])/pars[5]
    y0 = np.array([G_i, 0, Bs_i, 0])

    #times
    t = d.Time

    #model simulations
    yhat_full = calc(Submodel, pars, t, y0)

    #observations
    obs=np.concatenate((np.array([d.CO214]).reshape(len(d.Time),1),
                        np.array([d.Cmic14]).reshape(len(d.Time),1)),
                     axis=1)

    R2=1-np.nansum((obs-yhat_full)**2)/np.nansum((obs-np.nanmean(obs))**2)
    ll=-np.nansum((obs-yhat_full)**2)/2/np.nanstd(obs)**2
    AIC = len(pars)*2 - 2*ll

    out = np.array([R2, ll, AIC])

    return out
# %% markdown
#### Parameters estimation
# %% codecell
blag_optpars=dual_annealing(obj_fun, [(1e-3, 10), (1e-3, 100), (1e-3, 10), (1e-8, 1), (0, 1), (0, 1),(0, 1)])
print(blag_optpars)
print(goodness(blag_optpars.x))
np.savetxt('/mnt/580CBE2464C5F83D/pracovni/data_statistika/Data_z_clanku/DBconcept/parameters/blag_optpars.csv', blag_optpars.x.reshape(1,7), delimiter=",")
# %% markdown
### Monod model
#### The model is defined
# %% codecell
def Monod (y, t, pars):
    #define initial states
    G=y[0];    B=y[1];     CO2=y[2]

    #define parameters
    v=pars[0];   k=pars[1];
    m=pars[2];   Y=pars[3]

    #Define fluxes
    ##glucose uptake
    uptake=v*B*G/(k+G)
    ##decay
    decay=B*m

    #Define derivatives
    dGdt=-uptake
    dBdt=Y*uptake-decay
    dCO2dt=(1-Y)*uptake

    return dGdt, dBdt, dCO2dt;
# %% markdown
#### Additional calculations are performed
# %% codecell
def monodcalc (model, pars, t, y0):
    #model parameters
    pars_model=pars[0:4]
    #conversion factors
    conversions=pars[4]

    #solve the model
    y=odeint(model,y0,t, args=(pars_model,))

    #calculate CFC
    #CFC = conversions*y[:, 1]
    CFC14 = (conversions*y[:, 1])-d.Cmicinit[0]

    #Create data with predictions
    yhat = np.concatenate((y[:, 2].reshape(len(d.Time),1),
                           CFC14.reshape(len(d.Time),1)), axis=1)

    return yhat
# %% markdown
#### Objective function is defined
# %% codecell
def monodobj_fun (x):
    #define parameters
    pars = x

    #initial conditions
    G_i = d.Sinit[0]
    B_i = d.Cmicinit[0]/pars[4]
    y0 = np.array([G_i, B_i, 0])

    #times
    t = d.Time

    #model simulations
    yhat_full = monodcalc(Monod, pars, t, y0)

    #observations
    obs=np.concatenate((np.array([d.CO214]).reshape(len(d.Time),1),
                        np.array([d.Cmic14]).reshape(len(d.Time),1)),
                     axis=1)

    #weights
    weights=np.concatenate((np.nanmean(d.CO214).repeat(len(d.Time)).reshape(len(d.Time),1),
                            np.nanmean(d.Cmic14/5).repeat(len(d.Time)).reshape(len(d.Time),1)),
                       axis=1)


    out=np.nansum(((yhat_full-obs)/weights)**2)

    return out
# %% markdown
# ## Goodness of fit
# %% codecell
def monodgoodness (x):
    #define parameters
    pars = x

    #initial conditions
    G_i = d.Sinit[0]
    B_i = d.Cmicinit[0]/pars[4]
    y0 = np.array([G_i, B_i, 0])

    #times
    t = d.Time

    #model simulations
    yhat_full = monodcalc(Monod, pars, t, y0)

    #observations
    obs=np.concatenate((np.array([d.CO214]).reshape(len(d.Time),1),
                        np.array([d.Cmic14]).reshape(len(d.Time),1)),
                     axis=1)

    R2=1-np.nansum((obs-yhat_full)**2)/np.nansum((obs-np.nanmean(obs))**2)
    ll=-np.nansum((obs-yhat_full)**2)/2/np.nanstd(obs)**2
    AIC = len(pars)*2 - 2*ll

    out = np.array([R2, ll, AIC])

    return out
# %% markdown
#### Parameters estimation
# %% codecell
blag_monodpars=dual_annealing(monodobj_fun, [(1e-3, 10), (1e-3, 100), (1e-8, 1), (0, 1), (0, 1)])

print(blag_monodpars)
print(monodgoodness(blag_monodpars.x))
np.savetxt('/mnt/580CBE2464C5F83D/pracovni/data_statistika/Data_z_clanku/DBconcept/parameters/blag_monodpars.csv', blag_monodpars.x.reshape(1,5), delimiter=",")

# %% markdown
## Blagodatskaya et al. 2011
### Sub-microbial model
#### The model is defined
# %% codecell
#read data
d = pd.read_csv('/mnt/580CBE2464C5F83D/pracovni/data_statistika/Data_z_clanku/DBconcept/Data/Blagodatskaya2011.csv', sep=',')

#d = d[(d.time<0.3) | (d.time>0.8)]

print(d)
def Submodel (y, t, pars):
    #define initial states
    G=y[0];    Br=y[1];    Bs=y[2];     CO2=y[3]

    #define parameters
    v=pars[0];   k=pars[1];     f=pars[2]
    m=pars[3];   Y=pars[4]

    #Define fluxes
    ##glucose uptake
    uptake=v*Bs*G/(k+G)
    ##transfer function
    transfer=f*Br
    #death rate
    death=m*Bs

    #Define derivatives
    dGdt=-uptake
    dBrdt=uptake-transfer
    dBsdt=transfer*Y-death
    dCO2dt=transfer*(1-Y)

    return dGdt, dBrdt, dBsdt, dCO2dt;
# %% markdown
#### Additional calculations are performed
# %% codecell
def calc (model, pars, t, y0):
    #model parameters
    pars_model=pars[0:5]
    #conversion factors
    conversions=pars[5:7]

    #solve the model
    y=odeint(model,y0,t, args=(pars_model,))

    #calculate CFC
    #CFC = conversions[0]*y[:, 1]+conversions[1]*y[:, 2]
    CFC14 = (conversions[0]*y[:, 1]+conversions[1]*y[:, 2])-d.Cmicinit[0]

    #Create data with predictions
    yhat = np.concatenate((y[:, 3].reshape(len(d.Time),1),
                           CFC14.reshape(len(d.Time),1)), axis=1)

    return yhat
# %% markdown
#### Objective function is defined
# %% codecell
def obj_fun (x):
    #define parameters
    pars = x

    #initial conditions
    G_i = d.Sinit[0]
    Bs_i = d.Cmicinit[0]/pars[6]
    #Br_i = (d.Cmicinit[0]-Bs_i*pars[6])/pars[5]
    y0 = np.array([G_i, 0, Bs_i, 0])

    #times
    t = d.Time

    #model simulations
    yhat_full = calc(Submodel, pars, t, y0)

    #observations
    obs=np.concatenate((np.array([d.CO214]).reshape(len(d.Time),1),
                        np.array([d.Cmic14]).reshape(len(d.Time),1)),
                     axis=1)

    #weights
    weights=np.concatenate((np.nanmean(d.CO214).repeat(len(d.Time)).reshape(len(d.Time),1),
                            np.nanmean(d.Cmic14/5).repeat(len(d.Time)).reshape(len(d.Time),1)),
                       axis=1)


    out=np.nansum(((yhat_full-obs)/weights)**2)

    return out
# %% markdown
#### Goodness of fit
# %% codecell
def goodness (x):
    #define parameters
    pars = x

    #initial conditions
    G_i = d.Sinit[0]
    Bs_i = d.Cmicinit[0]/pars[6]
    #Br_i = (d.Cmicinit[0]-Bs_i*pars[6])/pars[5]
    y0 = np.array([G_i, 0, Bs_i, 0])

    #times
    t = d.Time

    #model simulations
    yhat_full = calc(Submodel, pars, t, y0)

    #observations
    obs=np.concatenate((np.array([d.CO214]).reshape(len(d.Time),1),
                        np.array([d.Cmic14]).reshape(len(d.Time),1)),
                     axis=1)

    R2=1-np.nansum((obs-yhat_full)**2)/np.nansum((obs-np.nanmean(obs))**2)
    ll=-np.nansum((obs-yhat_full)**2)/2/np.nanstd(obs)**2
    AIC = len(pars)*2 - 2*ll

    out = np.array([R2, ll, AIC])

    return out
# %% markdown
#### Parameters estimation
# %% codecell
blag11_optpars=dual_annealing(obj_fun, [(1e-3, 10), (1e-3, 100), (1e-3, 10), (1e-8, 1), (0, 1), (0, 1),(0, 1)])
print(blag11_optpars)
print(goodness(blag11_optpars.x))
np.savetxt('/mnt/580CBE2464C5F83D/pracovni/data_statistika/Data_z_clanku/DBconcept/parameters/blag11_optpars.csv', blag11_optpars.x.reshape(1,7), delimiter=",")
# %% markdown
### Monod model
#### The model is defined
# %% codecell
def Monod (y, t, pars):
    #define initial states
    G=y[0];    B=y[1];     CO2=y[2]

    #define parameters
    v=pars[0];   k=pars[1];
    m=pars[2];   Y=pars[3]

    #Define fluxes
    ##glucose uptake
    uptake=v*B*G/(k+G)
    ##decay
    decay=B*m

    #Define derivatives
    dGdt=-uptake
    dBdt=Y*uptake-decay
    dCO2dt=(1-Y)*uptake

    return dGdt, dBdt, dCO2dt;
# %% markdown
#### Additional calculations are performed
# %% codecell
def monodcalc (model, pars, t, y0):
    #model parameters
    pars_model=pars[0:4]
    #conversion factors
    conversions=pars[4]

    #solve the model
    y=odeint(model,y0,t, args=(pars_model,))

    #calculate CFC
    #CFC = conversions*y[:, 1]
    CFC14 = (conversions*y[:, 1])-d.Cmicinit[0]

    #Create data with predictions
    yhat = np.concatenate((y[:, 2].reshape(len(d.Time),1),
                           CFC14.reshape(len(d.Time),1)), axis=1)

    return yhat
# %% markdown
#### Objective function is defined
# %% codecell
def monodobj_fun (x):
    #define parameters
    pars = x

    #initial conditions
    G_i = d.Sinit[0]
    B_i = d.Cmicinit[0]/pars[4]
    y0 = np.array([G_i, B_i, 0])

    #times
    t = d.Time

    #model simulations
    yhat_full = monodcalc(Monod, pars, t, y0)

    #observations
    obs=np.concatenate((np.array([d.CO214]).reshape(len(d.Time),1),
                        np.array([d.Cmic14]).reshape(len(d.Time),1)),
                     axis=1)

    #weights
    weights=np.concatenate((np.nanmean(d.CO214).repeat(len(d.Time)).reshape(len(d.Time),1),
                            np.nanmean(d.Cmic14/5).repeat(len(d.Time)).reshape(len(d.Time),1)),
                       axis=1)


    out=np.nansum(((yhat_full-obs)/weights)**2)

    return out
# %% markdown
# ## Goodness of fit
# %% codecell
def monodgoodness (x):
    #define parameters
    pars = x

    #initial conditions
    G_i = d.Sinit[0]
    B_i = d.Cmicinit[0]/pars[4]
    y0 = np.array([G_i, B_i, 0])

    #times
    t = d.Time

    #model simulations
    yhat_full = monodcalc(Monod, pars, t, y0)

    #observations
    obs=np.concatenate((np.array([d.CO214]).reshape(len(d.Time),1),
                        np.array([d.Cmic14]).reshape(len(d.Time),1)),
                     axis=1)

    R2=1-np.nansum((obs-yhat_full)**2)/np.nansum((obs-np.nanmean(obs))**2)
    ll=-np.nansum((obs-yhat_full)**2)/2/np.nanstd(obs)**2
    AIC = len(pars)*2 - 2*ll

    out = np.array([R2, ll, AIC])

    return out
# %% markdown
#### Parameters estimation
# %% codecell
blag11_monodpars=dual_annealing(monodobj_fun, [(1e-3, 10), (1e-3, 100), (1e-8, 1), (0, 1), (0, 1)])

print(blag11_monodpars)
print(monodgoodness(blag11_monodpars.x))
np.savetxt('/mnt/580CBE2464C5F83D/pracovni/data_statistika/Data_z_clanku/DBconcept/parameters/blag11_monodpars.csv', blag11_monodpars.x.reshape(1,5), delimiter=",")
